{
 "cells": [
  {
   "cell_type": "markdown",
   "metadata": {},
   "source": [
    "## Getting started with the Keras functional API\n",
    "The Keras functional API is the way to go for defining complex models, such as multi-output models, directed acyclic graphs, or models with shared layers.\n",
    "\n",
    "This guide assumes that you are already familiar with the `Sequential` model.\n",
    "\n",
    "Let's start with something simple.\n",
    "\n",
    "## First example: a densely-connected network\n",
    "The `Sequential` model is probably a better choice to implement such a network, but it helps to start with something really simple.\n",
    "\n",
    "- A layer instance is callable (on a tensor), and it returns a tensor\n",
    "- Input tensor(s) and output tensor(s) can then be used to define a `Model`\n",
    "- Such a model can be trained just like Keras `Sequential` models."
   ]
  },
  {
   "cell_type": "code",
   "execution_count": 1,
   "metadata": {},
   "outputs": [
    {
     "name": "stderr",
     "output_type": "stream",
     "text": [
      "C:\\Users\\Administrator\\Anaconda3\\lib\\site-packages\\h5py\\__init__.py:34: FutureWarning: Conversion of the second argument of issubdtype from `float` to `np.floating` is deprecated. In future, it will be treated as `np.float64 == np.dtype(float).type`.\n",
      "  from ._conv import register_converters as _register_converters\n",
      "Using TensorFlow backend.\n"
     ]
    },
    {
     "name": "stdout",
     "output_type": "stream",
     "text": [
      "Epoch 1/10\n",
      "1000/1000 [==============================] - 1s 517us/step - loss: 2.3617 - acc: 0.1100\n",
      "Epoch 2/10\n",
      "1000/1000 [==============================] - 0s 85us/step - loss: 2.3178 - acc: 0.1010\n",
      "Epoch 3/10\n",
      "1000/1000 [==============================] - 0s 85us/step - loss: 2.2940 - acc: 0.1530\n",
      "Epoch 4/10\n",
      "1000/1000 [==============================] - 0s 90us/step - loss: 2.2834 - acc: 0.1340\n",
      "Epoch 5/10\n",
      "1000/1000 [==============================] - 0s 90us/step - loss: 2.2673 - acc: 0.1530\n",
      "Epoch 6/10\n",
      "1000/1000 [==============================] - 0s 86us/step - loss: 2.2260 - acc: 0.1710\n",
      "Epoch 7/10\n",
      "1000/1000 [==============================] - 0s 88us/step - loss: 2.1860 - acc: 0.2080\n",
      "Epoch 8/10\n",
      "1000/1000 [==============================] - 0s 88us/step - loss: 2.1727 - acc: 0.1870\n",
      "Epoch 9/10\n",
      "1000/1000 [==============================] - 0s 84us/step - loss: 2.1122 - acc: 0.2410\n",
      "Epoch 10/10\n",
      "1000/1000 [==============================] - 0s 91us/step - loss: 2.0638 - acc: 0.2950\n"
     ]
    },
    {
     "data": {
      "text/plain": [
       "<keras.callbacks.History at 0x1c446618c50>"
      ]
     },
     "execution_count": 1,
     "metadata": {},
     "output_type": "execute_result"
    }
   ],
   "source": [
    "from keras.layers import Input, Dense\n",
    "from keras.models import Model\n",
    "import numpy as np\n",
    "import keras\n",
    "\n",
    "# Generate dummy data\n",
    "data = np.random.random((1000, 784))\n",
    "labels = np.random.randint(10, size=(1000, 1))\n",
    "\n",
    "# Convert labels to categorical one-hot encoding\n",
    "labels = keras.utils.to_categorical(labels, num_classes=10)\n",
    "\n",
    "# This returns a tensor\n",
    "inputs = Input(shape=(784, ))\n",
    "\n",
    "# a layer instance is callable on a tensor, and returns a tensor\n",
    "x = Dense(64, activation='relu')(inputs)\n",
    "x = Dense(64, activation='relu')(x)\n",
    "predictions = Dense(10, activation='softmax')(x)\n",
    "\n",
    "# This creates a model that includes\n",
    "# the Input layer and three Dense layers\n",
    "model = Model(inputs=inputs, outputs=predictions)\n",
    "model.compile(optimizer='rmsprop',\n",
    "             loss='categorical_crossentropy',\n",
    "             metrics=['accuracy'])\n",
    "model.fit(data, labels, epochs=10)  # starts training"
   ]
  },
  {
   "cell_type": "markdown",
   "metadata": {},
   "source": [
    "## All models are callable, just like layers\n",
    "With the functional API, it is easy to reuse trained models: you can treat any model as if it were a layer, by calling it on a tensor. Note that by calling a model you aren't just reusing the architecture of the model, you are also reusing its weights."
   ]
  },
  {
   "cell_type": "code",
   "execution_count": 2,
   "metadata": {
    "collapsed": true
   },
   "outputs": [],
   "source": [
    "x = Input(shape=(784,))\n",
    "# This works, and returns the 10-way softmax we defined above.\n",
    "y= model(x)"
   ]
  },
  {
   "cell_type": "markdown",
   "metadata": {},
   "source": [
    "This can allow, for instance, to quickly create models that can process sequences of inputs. You could turn an image classification model into a video classification model, in just one line."
   ]
  },
  {
   "cell_type": "code",
   "execution_count": 3,
   "metadata": {
    "collapsed": true
   },
   "outputs": [],
   "source": [
    "from keras.layers import TimeDistributed\n",
    "\n",
    "# Input tensor for sequences of 20 timesteps,\n",
    "# each containing a 784-dimensional vector\n",
    "input_sequences = Input(shape=(20, 784))\n",
    "\n",
    "# This applies our previous model to every timestep in the input sequences.\n",
    "# the output of the previous model was a 10-way softmax,\n",
    "# so the output of the layer below will be a sequence of 20 vectors of size 10.\n",
    "processed_sequences = TimeDistributed(model)(input_sequences)"
   ]
  },
  {
   "cell_type": "markdown",
   "metadata": {},
   "source": [
    "## Multi-input and multi-output models\n",
    "Here's a good use case for the functional API: models with multiple inputs and outputs. The functional API makes it easy to manipulate a large number of intertwined datastreams.\n",
    "\n",
    "Let's consider the following model. We seek to predict how many retweets and likes a news headline will receive on Twitter. The main input to the model will be the headline itself, as a sequence of words, but to spice things up, our model will also have an auxiliary input, receiving extra data such as the time of day when the headline was posted, etc. The model will also be supervised via two loss functions. Using the main loss function earlier in a model is a good regularization mechanism for deep models.\n",
    "\n",
    "Here's what our model looks like:\n",
    "\n",
    "![multi-input-multi-output-graph](https://s3.amazonaws.com/keras.io/img/multi-input-multi-output-graph.png)\n",
    "\n",
    "Let's implement it with the functional API.\n",
    "\n",
    "The main input will receive the headline, as a sequence of integers (each integer encodes a word). The integers will be between 1 and 10,000 (a vocabulary of 10,000 words) and the sequences will be 100 words long."
   ]
  },
  {
   "cell_type": "code",
   "execution_count": 4,
   "metadata": {
    "collapsed": true
   },
   "outputs": [],
   "source": [
    "from keras.layers import Input, Embedding, LSTM, Dense\n",
    "from keras.models import Model\n",
    "\n",
    "# Headline input: meant to receive sequences of 100 integers, between 1 and 10000.\n",
    "# Note that we can name any layer by passing it a \"name\" argument.\n",
    "main_input = Input(shape=(100,), dtype='int32', name='main_input')\n",
    "\n",
    "# This embedding layer will encode the input sequence\n",
    "# into a sequence of dense 512-dimensional vectors.\n",
    "x = Embedding(output_dim=512, input_dim=10000, input_length=100)(main_input)\n",
    "\n",
    "# A LSTM will transform the vector sequence into a single vector,\n",
    "# containing information about the entire sequence\n",
    "lstm_out = LSTM(32)(x)"
   ]
  },
  {
   "cell_type": "markdown",
   "metadata": {},
   "source": [
    "Here we insert the auxiliary loss, allowing the LSTM and Embedding layer to be trained smoothly even though the main loss will be much higher in the model."
   ]
  },
  {
   "cell_type": "code",
   "execution_count": 5,
   "metadata": {
    "collapsed": true
   },
   "outputs": [],
   "source": [
    "auxiliary_output = Dense(1, activation='sigmoid', name='aux_output')(lstm_out)"
   ]
  },
  {
   "cell_type": "markdown",
   "metadata": {},
   "source": [
    "At this point, we feed into the model our auxiliary input data by concatenating it with the LSTM output:"
   ]
  },
  {
   "cell_type": "code",
   "execution_count": 7,
   "metadata": {},
   "outputs": [],
   "source": [
    "auxiliary_input = Input(shape=(5,), name='aux_input')\n",
    "x = keras.layers.concatenate([lstm_out, auxiliary_input])\n",
    "\n",
    "# We stack a deep densely-connected network on top\n",
    "x = Dense(64, activation='relu')(x)\n",
    "x = Dense(64, activation='relu')(x)\n",
    "x = Dense(64, activation='relu')(x)\n",
    "\n",
    "# And finally we add the main logistic regression layer\n",
    "main_output = Dense(1, activation='sigmoid', name='main_output')(x)"
   ]
  },
  {
   "cell_type": "markdown",
   "metadata": {},
   "source": [
    "This defines a model with two inputs and two outputs:"
   ]
  },
  {
   "cell_type": "code",
   "execution_count": 8,
   "metadata": {
    "collapsed": true
   },
   "outputs": [],
   "source": [
    "model = Model(inputs=[main_input, auxiliary_input], outputs=[main_output, auxiliary_output])"
   ]
  },
  {
   "cell_type": "markdown",
   "metadata": {},
   "source": [
    "We compile the model and assign a weight of 0.2 to the auxiliary loss. To specify different  `loss_weights` or `loss` for each different output, you can use a list or a dictionary. Here we pass a single loss as the `loss` argument, so the same loss will be used on all outputs."
   ]
  },
  {
   "cell_type": "code",
   "execution_count": 9,
   "metadata": {
    "collapsed": true
   },
   "outputs": [],
   "source": [
    "model.compile(optimizer='rmsprop', loss='binary_crossentropy',\n",
    "             loss_weights=[1., 0.2])"
   ]
  },
  {
   "cell_type": "markdown",
   "metadata": {},
   "source": [
    "We can train the model by passing it lists of input arrays and target arrays:"
   ]
  },
  {
   "cell_type": "code",
   "execution_count": 17,
   "metadata": {},
   "outputs": [
    {
     "name": "stdout",
     "output_type": "stream",
     "text": [
      "Epoch 1/50\n",
      "1000/1000 [==============================] - 10s 10ms/step - loss: 8.6333 - main_output_loss: 8.4947 - aux_output_loss: 0.6932\n",
      "Epoch 2/50\n",
      "1000/1000 [==============================] - 8s 8ms/step - loss: 8.6228 - main_output_loss: 8.5292 - aux_output_loss: 0.4682\n",
      "Epoch 3/50\n",
      "1000/1000 [==============================] - 8s 8ms/step - loss: 8.5500 - main_output_loss: 8.5292 - aux_output_loss: 0.1043\n",
      "Epoch 4/50\n",
      "1000/1000 [==============================] - 9s 9ms/step - loss: 8.5351 - main_output_loss: 8.5292 - aux_output_loss: 0.0294\n",
      "Epoch 5/50\n",
      "1000/1000 [==============================] - 12s 12ms/step - loss: 8.5314 - main_output_loss: 8.5292 - aux_output_loss: 0.0113\n",
      "Epoch 6/50\n",
      "1000/1000 [==============================] - 9s 9ms/step - loss: 8.5301 - main_output_loss: 8.5292 - aux_output_loss: 0.0048\n",
      "Epoch 7/50\n",
      "1000/1000 [==============================] - 9s 9ms/step - loss: 8.5295 - main_output_loss: 8.5292 - aux_output_loss: 0.0018\n",
      "Epoch 8/50\n",
      "1000/1000 [==============================] - 9s 9ms/step - loss: 8.5294 - main_output_loss: 8.5292 - aux_output_loss: 0.0011\n",
      "Epoch 9/50\n",
      "1000/1000 [==============================] - 8s 8ms/step - loss: 8.5292 - main_output_loss: 8.5292 - aux_output_loss: 3.4469e-04\n",
      "Epoch 10/50\n",
      "1000/1000 [==============================] - 8s 8ms/step - loss: 8.5292 - main_output_loss: 8.5292 - aux_output_loss: 1.4942e-04\n",
      "Epoch 11/50\n",
      "1000/1000 [==============================] - 9s 9ms/step - loss: 8.5292 - main_output_loss: 8.5292 - aux_output_loss: 6.1974e-05\n",
      "Epoch 12/50\n",
      "1000/1000 [==============================] - 10s 10ms/step - loss: 8.5292 - main_output_loss: 8.5292 - aux_output_loss: 2.5832e-05\n",
      "Epoch 13/50\n",
      "1000/1000 [==============================] - 9s 9ms/step - loss: 8.5292 - main_output_loss: 8.5292 - aux_output_loss: 1.1705e-05\n",
      "Epoch 14/50\n",
      "1000/1000 [==============================] - 10s 10ms/step - loss: 8.5292 - main_output_loss: 8.5292 - aux_output_loss: 5.5653e-06\n",
      "Epoch 15/50\n",
      "1000/1000 [==============================] - 9s 9ms/step - loss: 8.5292 - main_output_loss: 8.5292 - aux_output_loss: 9.4197e-06\n",
      "Epoch 16/50\n",
      "1000/1000 [==============================] - 9s 9ms/step - loss: 8.5292 - main_output_loss: 8.5292 - aux_output_loss: 2.3786e-06\n",
      "Epoch 17/50\n",
      "1000/1000 [==============================] - 8s 8ms/step - loss: 8.5292 - main_output_loss: 8.5292 - aux_output_loss: 1.3973e-06\n",
      "Epoch 18/50\n",
      "1000/1000 [==============================] - 8s 8ms/step - loss: 8.5292 - main_output_loss: 8.5292 - aux_output_loss: 8.6776e-07\n",
      "Epoch 19/50\n",
      "1000/1000 [==============================] - 8s 8ms/step - loss: 8.5292 - main_output_loss: 8.5292 - aux_output_loss: 5.8203e-07\n",
      "Epoch 20/50\n",
      "1000/1000 [==============================] - 9s 9ms/step - loss: 8.5292 - main_output_loss: 8.5292 - aux_output_loss: 4.1794e-07\n",
      "Epoch 21/50\n",
      "1000/1000 [==============================] - 8s 8ms/step - loss: 8.5292 - main_output_loss: 8.5292 - aux_output_loss: 3.1655e-07\n",
      "Epoch 22/50\n",
      "1000/1000 [==============================] - 8s 8ms/step - loss: 8.5292 - main_output_loss: 8.5292 - aux_output_loss: 2.5059e-07\n",
      "Epoch 23/50\n",
      "1000/1000 [==============================] - 8s 8ms/step - loss: 8.5292 - main_output_loss: 8.5292 - aux_output_loss: 2.0622e-07\n",
      "Epoch 24/50\n",
      "1000/1000 [==============================] - 8s 8ms/step - loss: 8.5292 - main_output_loss: 8.5292 - aux_output_loss: 1.7661e-07\n",
      "Epoch 25/50\n",
      "1000/1000 [==============================] - 8s 8ms/step - loss: 8.5292 - main_output_loss: 8.5292 - aux_output_loss: 1.5531e-07\n",
      "Epoch 26/50\n",
      "1000/1000 [==============================] - 10s 10ms/step - loss: 8.5292 - main_output_loss: 8.5292 - aux_output_loss: 1.4142e-07\n",
      "Epoch 27/50\n",
      "1000/1000 [==============================] - 8s 8ms/step - loss: 8.5292 - main_output_loss: 8.5292 - aux_output_loss: 1.3103e-07\n",
      "Epoch 28/50\n",
      "1000/1000 [==============================] - 8s 8ms/step - loss: 8.5292 - main_output_loss: 8.5292 - aux_output_loss: 1.2422e-07\n",
      "Epoch 29/50\n",
      "1000/1000 [==============================] - 8s 8ms/step - loss: 8.5292 - main_output_loss: 8.5292 - aux_output_loss: 1.1968e-07\n",
      "Epoch 30/50\n",
      "1000/1000 [==============================] - 8s 8ms/step - loss: 8.5292 - main_output_loss: 8.5292 - aux_output_loss: 1.1658e-07\n",
      "Epoch 31/50\n",
      "1000/1000 [==============================] - 8s 8ms/step - loss: 8.5292 - main_output_loss: 8.5292 - aux_output_loss: 1.1472e-07\n",
      "Epoch 32/50\n",
      "1000/1000 [==============================] - 8s 8ms/step - loss: 8.5292 - main_output_loss: 8.5292 - aux_output_loss: 1.1360e-07\n",
      "Epoch 33/50\n",
      "1000/1000 [==============================] - 8s 8ms/step - loss: 8.5292 - main_output_loss: 8.5292 - aux_output_loss: 1.1289e-07\n",
      "Epoch 34/50\n",
      "1000/1000 [==============================] - 8s 8ms/step - loss: 8.5292 - main_output_loss: 8.5292 - aux_output_loss: 1.1241e-07\n",
      "Epoch 35/50\n",
      "1000/1000 [==============================] - 8s 8ms/step - loss: 8.5292 - main_output_loss: 8.5292 - aux_output_loss: 1.1207e-07\n",
      "Epoch 36/50\n",
      "1000/1000 [==============================] - 9s 9ms/step - loss: 8.5292 - main_output_loss: 8.5292 - aux_output_loss: 1.1179e-07\n",
      "Epoch 37/50\n",
      "1000/1000 [==============================] - 8s 8ms/step - loss: 8.5292 - main_output_loss: 8.5292 - aux_output_loss: 1.1159e-07\n",
      "Epoch 38/50\n",
      "1000/1000 [==============================] - 8s 8ms/step - loss: 8.5292 - main_output_loss: 8.5292 - aux_output_loss: 1.1142e-07\n",
      "Epoch 39/50\n",
      "1000/1000 [==============================] - 8s 8ms/step - loss: 8.5292 - main_output_loss: 8.5292 - aux_output_loss: 1.1128e-07\n",
      "Epoch 40/50\n",
      "1000/1000 [==============================] - 9s 9ms/step - loss: 8.5292 - main_output_loss: 8.5292 - aux_output_loss: 1.1118e-07\n",
      "Epoch 41/50\n",
      "1000/1000 [==============================] - 9s 9ms/step - loss: 8.5292 - main_output_loss: 8.5292 - aux_output_loss: 1.1109e-07\n",
      "Epoch 42/50\n",
      "1000/1000 [==============================] - 8s 8ms/step - loss: 8.5292 - main_output_loss: 8.5292 - aux_output_loss: 1.1090e-07\n",
      "Epoch 43/50\n",
      "1000/1000 [==============================] - 8s 8ms/step - loss: 8.5292 - main_output_loss: 8.5292 - aux_output_loss: 1.1083e-07\n",
      "Epoch 44/50\n",
      "1000/1000 [==============================] - 8s 8ms/step - loss: 8.5292 - main_output_loss: 8.5292 - aux_output_loss: 1.1077e-07\n",
      "Epoch 45/50\n",
      "1000/1000 [==============================] - 8s 8ms/step - loss: 8.5292 - main_output_loss: 8.5292 - aux_output_loss: 1.1073e-07\n",
      "Epoch 46/50\n",
      "1000/1000 [==============================] - 8s 8ms/step - loss: 8.5292 - main_output_loss: 8.5292 - aux_output_loss: 1.1069e-07\n",
      "Epoch 47/50\n",
      "1000/1000 [==============================] - 8s 8ms/step - loss: 8.5292 - main_output_loss: 8.5292 - aux_output_loss: 1.1066e-07\n",
      "Epoch 48/50\n",
      "1000/1000 [==============================] - 8s 8ms/step - loss: 8.5292 - main_output_loss: 8.5292 - aux_output_loss: 1.1064e-07\n",
      "Epoch 49/50\n",
      "1000/1000 [==============================] - 8s 8ms/step - loss: 8.5292 - main_output_loss: 8.5292 - aux_output_loss: 1.1061e-07\n",
      "Epoch 50/50\n",
      "1000/1000 [==============================] - 8s 8ms/step - loss: 8.5292 - main_output_loss: 8.5292 - aux_output_loss: 1.1058e-07\n"
     ]
    },
    {
     "data": {
      "text/plain": [
       "<keras.callbacks.History at 0x1c44a136ef0>"
      ]
     },
     "execution_count": 17,
     "metadata": {},
     "output_type": "execute_result"
    }
   ],
   "source": [
    "# Generate dummy data\n",
    "headline_data = np.random.randint(10000, size=(1000, 100))\n",
    "headline_labels = np.random.randint(2, size=(1000, 1))\n",
    "additional_data = np.random.randint(10000, size=(1000, 5))\n",
    "additional_labels = np.random.randint(2, size=(1000, 1))\n",
    "\n",
    "model.fit([headline_data, additional_data], [headline_labels, additional_labels],\n",
    "         epochs=50, batch_size=32)"
   ]
  },
  {
   "cell_type": "markdown",
   "metadata": {},
   "source": [
    "Since our inputs and outputs are named (we passed them a \"name\" argument), we could also have compiled the model via:"
   ]
  },
  {
   "cell_type": "code",
   "execution_count": 21,
   "metadata": {},
   "outputs": [
    {
     "name": "stdout",
     "output_type": "stream",
     "text": [
      "Epoch 1/50\n",
      "1000/1000 [==============================] - 11s 11ms/step - loss: 8.8458 - main_output_loss: 8.0190 - aux_output_loss: 4.1340\n",
      "Epoch 2/50\n",
      "1000/1000 [==============================] - 11s 11ms/step - loss: 8.1781 - main_output_loss: 8.0190 - aux_output_loss: 0.7954\n",
      "Epoch 3/50\n",
      "1000/1000 [==============================] - 9s 9ms/step - loss: 8.0494 - main_output_loss: 8.0190 - aux_output_loss: 0.1521\n",
      "Epoch 4/50\n",
      "1000/1000 [==============================] - 7s 7ms/step - loss: 8.0225 - main_output_loss: 8.0190 - aux_output_loss: 0.0176\n",
      "Epoch 5/50\n",
      "1000/1000 [==============================] - 7s 7ms/step - loss: 8.0194 - main_output_loss: 8.0190 - aux_output_loss: 0.0018\n",
      "Epoch 6/50\n",
      "1000/1000 [==============================] - 8s 8ms/step - loss: 8.0191 - main_output_loss: 8.0190 - aux_output_loss: 3.6566e-04\n",
      "Epoch 7/50\n",
      "1000/1000 [==============================] - 7s 7ms/step - loss: 8.0190 - main_output_loss: 8.0190 - aux_output_loss: 6.5729e-05\n",
      "Epoch 8/50\n",
      "1000/1000 [==============================] - 8s 8ms/step - loss: 8.0191 - main_output_loss: 8.0190 - aux_output_loss: 1.7858e-04\n",
      "Epoch 9/50\n",
      "1000/1000 [==============================] - 7s 7ms/step - loss: 8.0190 - main_output_loss: 8.0190 - aux_output_loss: 3.1311e-05\n",
      "Epoch 10/50\n",
      "1000/1000 [==============================] - 8s 8ms/step - loss: 8.0190 - main_output_loss: 8.0190 - aux_output_loss: 1.0199e-05\n",
      "Epoch 11/50\n",
      "1000/1000 [==============================] - 8s 8ms/step - loss: 8.0190 - main_output_loss: 8.0190 - aux_output_loss: 3.9489e-06\n",
      "Epoch 12/50\n",
      "1000/1000 [==============================] - 7s 7ms/step - loss: 8.0190 - main_output_loss: 8.0190 - aux_output_loss: 1.7125e-06\n",
      "Epoch 13/50\n",
      "1000/1000 [==============================] - 8s 8ms/step - loss: 8.0190 - main_output_loss: 8.0190 - aux_output_loss: 2.3964e-05\n",
      "Epoch 14/50\n",
      "1000/1000 [==============================] - 8s 8ms/step - loss: 8.0190 - main_output_loss: 8.0190 - aux_output_loss: 2.6142e-06\n",
      "Epoch 15/50\n",
      "1000/1000 [==============================] - 7s 7ms/step - loss: 8.0190 - main_output_loss: 8.0190 - aux_output_loss: 1.1256e-06\n",
      "Epoch 16/50\n",
      "1000/1000 [==============================] - 7s 7ms/step - loss: 8.0190 - main_output_loss: 8.0190 - aux_output_loss: 6.7921e-07\n",
      "Epoch 17/50\n",
      "1000/1000 [==============================] - 7s 7ms/step - loss: 8.0190 - main_output_loss: 8.0190 - aux_output_loss: 4.2496e-07\n",
      "Epoch 18/50\n",
      "1000/1000 [==============================] - 7s 7ms/step - loss: 8.0190 - main_output_loss: 8.0190 - aux_output_loss: 3.1014e-07\n",
      "Epoch 19/50\n",
      "1000/1000 [==============================] - 8s 8ms/step - loss: 8.0190 - main_output_loss: 8.0190 - aux_output_loss: 2.3673e-07\n",
      "Epoch 20/50\n",
      "1000/1000 [==============================] - 8s 8ms/step - loss: 8.0190 - main_output_loss: 8.0190 - aux_output_loss: 2.0185e-07\n",
      "Epoch 21/50\n",
      "1000/1000 [==============================] - 8s 8ms/step - loss: 8.0190 - main_output_loss: 8.0190 - aux_output_loss: 1.7375e-07\n",
      "Epoch 22/50\n",
      "1000/1000 [==============================] - 8s 8ms/step - loss: 8.0190 - main_output_loss: 8.0190 - aux_output_loss: 1.5789e-07\n",
      "Epoch 23/50\n",
      "1000/1000 [==============================] - 7s 7ms/step - loss: 8.0190 - main_output_loss: 8.0190 - aux_output_loss: 1.5045e-07\n",
      "Epoch 24/50\n",
      "1000/1000 [==============================] - 8s 8ms/step - loss: 8.0190 - main_output_loss: 8.0190 - aux_output_loss: 1.3917e-07\n",
      "Epoch 25/50\n",
      "1000/1000 [==============================] - 7s 7ms/step - loss: 8.0190 - main_output_loss: 8.0190 - aux_output_loss: 1.3333e-07\n",
      "Epoch 26/50\n",
      "1000/1000 [==============================] - 7s 7ms/step - loss: 8.0190 - main_output_loss: 8.0190 - aux_output_loss: 1.2978e-07\n",
      "Epoch 27/50\n",
      "1000/1000 [==============================] - 8s 8ms/step - loss: 8.0190 - main_output_loss: 8.0190 - aux_output_loss: 1.2670e-07\n",
      "Epoch 28/50\n",
      "1000/1000 [==============================] - 8s 8ms/step - loss: 8.0190 - main_output_loss: 8.0190 - aux_output_loss: 1.2283e-07\n",
      "Epoch 29/50\n",
      "1000/1000 [==============================] - 8s 8ms/step - loss: 8.0190 - main_output_loss: 8.0190 - aux_output_loss: 1.2046e-07\n",
      "Epoch 30/50\n",
      "1000/1000 [==============================] - 8s 8ms/step - loss: 8.0190 - main_output_loss: 8.0190 - aux_output_loss: 1.1893e-07\n",
      "Epoch 31/50\n",
      "1000/1000 [==============================] - 8s 8ms/step - loss: 8.0190 - main_output_loss: 8.0190 - aux_output_loss: 1.1798e-07\n",
      "Epoch 32/50\n",
      "1000/1000 [==============================] - 10s 10ms/step - loss: 8.0190 - main_output_loss: 8.0190 - aux_output_loss: 1.1724e-07\n",
      "Epoch 33/50\n",
      "1000/1000 [==============================] - 8s 8ms/step - loss: 8.0190 - main_output_loss: 8.0190 - aux_output_loss: 1.1575e-07\n",
      "Epoch 34/50\n",
      "1000/1000 [==============================] - 8s 8ms/step - loss: 8.0190 - main_output_loss: 8.0190 - aux_output_loss: 1.1500e-07\n",
      "Epoch 35/50\n",
      "1000/1000 [==============================] - 8s 8ms/step - loss: 8.0190 - main_output_loss: 8.0190 - aux_output_loss: 1.1451e-07\n",
      "Epoch 36/50\n",
      "1000/1000 [==============================] - 8s 8ms/step - loss: 8.0190 - main_output_loss: 8.0190 - aux_output_loss: 1.1393e-07\n",
      "Epoch 37/50\n",
      "1000/1000 [==============================] - 8s 8ms/step - loss: 8.0190 - main_output_loss: 8.0190 - aux_output_loss: 1.1336e-07\n",
      "Epoch 38/50\n",
      "1000/1000 [==============================] - 8s 8ms/step - loss: 8.0190 - main_output_loss: 8.0190 - aux_output_loss: 1.1306e-07\n",
      "Epoch 39/50\n",
      "1000/1000 [==============================] - 9s 9ms/step - loss: 8.0190 - main_output_loss: 8.0190 - aux_output_loss: 1.1259e-07\n",
      "Epoch 40/50\n",
      "1000/1000 [==============================] - 9s 9ms/step - loss: 8.0190 - main_output_loss: 8.0190 - aux_output_loss: 1.1239e-07\n",
      "Epoch 41/50\n",
      "1000/1000 [==============================] - 8s 8ms/step - loss: 8.0190 - main_output_loss: 8.0190 - aux_output_loss: 1.1214e-07\n",
      "Epoch 42/50\n",
      "1000/1000 [==============================] - 8s 8ms/step - loss: 8.0190 - main_output_loss: 8.0190 - aux_output_loss: 1.1194e-07\n",
      "Epoch 43/50\n",
      "1000/1000 [==============================] - 8s 8ms/step - loss: 8.0190 - main_output_loss: 8.0190 - aux_output_loss: 1.1175e-07\n",
      "Epoch 44/50\n",
      "1000/1000 [==============================] - 8s 8ms/step - loss: 8.0190 - main_output_loss: 8.0190 - aux_output_loss: 1.1161e-07\n",
      "Epoch 45/50\n",
      "1000/1000 [==============================] - 8s 8ms/step - loss: 8.0190 - main_output_loss: 8.0190 - aux_output_loss: 1.1139e-07\n",
      "Epoch 46/50\n",
      "1000/1000 [==============================] - 8s 8ms/step - loss: 8.0190 - main_output_loss: 8.0190 - aux_output_loss: 1.1135e-07\n",
      "Epoch 47/50\n",
      "1000/1000 [==============================] - 8s 8ms/step - loss: 8.0190 - main_output_loss: 8.0190 - aux_output_loss: 1.1115e-07\n",
      "Epoch 48/50\n",
      "1000/1000 [==============================] - 8s 8ms/step - loss: 8.0190 - main_output_loss: 8.0190 - aux_output_loss: 1.1104e-07\n",
      "Epoch 49/50\n",
      "1000/1000 [==============================] - 10s 10ms/step - loss: 8.0190 - main_output_loss: 8.0190 - aux_output_loss: 1.1098e-07\n",
      "Epoch 50/50\n",
      "1000/1000 [==============================] - 8s 8ms/step - loss: 8.0190 - main_output_loss: 8.0190 - aux_output_loss: 1.1094e-07\n"
     ]
    },
    {
     "data": {
      "text/plain": [
       "<keras.callbacks.History at 0x1c44b6b4f98>"
      ]
     },
     "execution_count": 21,
     "metadata": {},
     "output_type": "execute_result"
    }
   ],
   "source": [
    "model.compile(optimizer='rmsprop', \n",
    "             loss={'main_output': 'binary_crossentropy', 'aux_output': 'binary_crossentropy'},\n",
    "             loss_weights={'main_output': 1., 'aux_output': 0.2})\n",
    "\n",
    "# And trained it via:\n",
    "model.fit({'main_input': healine_data, 'aux_input': additional_data},\n",
    "          {'main_output': headline_labels, 'aux_output': additional_labels},\n",
    "          epochs=50, batch_size=32)"
   ]
  },
  {
   "cell_type": "markdown",
   "metadata": {},
   "source": [
    "## Shared layers\n",
    "Another good use for the functional API are models that use shared layers. Let's take a look at shared layers.\n",
    "\n",
    "Let's consider a dataset of tweets. We want to build a model that can tell whether two tweets are from the same person or not (this can allow us to compare users by the similarity of their tweets, for instance).\n",
    "\n",
    "One way to achieve this is to build a model that encodes two tweets into two vectors, concatenates the vectors and then adds a logistic regression; this outputs a probability that the two tweets share the same author. The model would then be trained on positive tweet pairs and negative tweet pairs.\n",
    "\n",
    "Because the problem is symmetric, the mechanism that encodes the first tweet should be reused (weights and all) to encode the second tweet. Here we use a shared LSTM layer to encode the tweets.\n",
    "\n",
    "Let's build this with the functional API. We will take as input for a tweet a binary matrix of shape (280, 256), i.e. a sequence of 280 vectors of size 256, where each dimension in the 256-dimensional vector encodes the presence/absence of a character (out of an alphabet of 256 frequent characters).\n",
    "\n",
    "import keras"
   ]
  },
  {
   "cell_type": "code",
   "execution_count": 22,
   "metadata": {
    "collapsed": true
   },
   "outputs": [],
   "source": [
    "import keras\n",
    "from keras.layers import Input, LSTM, Dense\n",
    "from keras.models import Model\n",
    "\n",
    "tweet_a = Input(shape=(280, 256))\n",
    "tweet_b = Input(shape=(280, 256))"
   ]
  },
  {
   "cell_type": "markdown",
   "metadata": {},
   "source": [
    "To share a layer across different inputs, simply instantiate the layer once, then call it on as many inputs as you want:"
   ]
  },
  {
   "cell_type": "code",
   "execution_count": 27,
   "metadata": {},
   "outputs": [
    {
     "name": "stdout",
     "output_type": "stream",
     "text": [
      "Epoch 1/10\n",
      "1000/1000 [==============================] - 22s 22ms/step - loss: 0.6931 - acc: 0.5180\n",
      "Epoch 2/10\n",
      "1000/1000 [==============================] - 18s 18ms/step - loss: 0.6845 - acc: 0.5720\n",
      "Epoch 3/10\n",
      "1000/1000 [==============================] - 17s 17ms/step - loss: 0.6720 - acc: 0.6330\n",
      "Epoch 4/10\n",
      "1000/1000 [==============================] - 17s 17ms/step - loss: 0.6483 - acc: 0.6610\n",
      "Epoch 5/10\n",
      "1000/1000 [==============================] - 17s 17ms/step - loss: 0.6064 - acc: 0.7220\n",
      "Epoch 6/10\n",
      "1000/1000 [==============================] - 17s 17ms/step - loss: 0.5699 - acc: 0.7350\n",
      "Epoch 7/10\n",
      "1000/1000 [==============================] - 17s 17ms/step - loss: 0.5292 - acc: 0.7510\n",
      "Epoch 8/10\n",
      "1000/1000 [==============================] - 17s 17ms/step - loss: 0.5217 - acc: 0.7680\n",
      "Epoch 9/10\n",
      "1000/1000 [==============================] - 17s 17ms/step - loss: 0.4878 - acc: 0.7920\n",
      "Epoch 10/10\n",
      "1000/1000 [==============================] - 17s 17ms/step - loss: 0.4516 - acc: 0.8170\n"
     ]
    },
    {
     "data": {
      "text/plain": [
       "<keras.callbacks.History at 0x1c457769748>"
      ]
     },
     "execution_count": 27,
     "metadata": {},
     "output_type": "execute_result"
    }
   ],
   "source": [
    "# This layer can take as input a matrix\n",
    "# and will return a vector of size 64\n",
    "shared_lstm = LSTM(64)\n",
    "\n",
    "# When we reuse the same layer instance\n",
    "# multiple times, the weights of the layer\n",
    "# are also being reused\n",
    "# (it is effectively *the same* layer)\n",
    "encoded_a = shared_lstm(tweet_a)\n",
    "encoded_b = shared_lstm(tweet_b)\n",
    "\n",
    "# We can then concatenate the two vectors:\n",
    "merged_vector = keras.layers.concatenate([encoded_a, encoded_b], axis=-1)\n",
    "\n",
    "# And add a logistic regression on top\n",
    "predictions = Dense(1, activation='sigmoid')(merged_vector)\n",
    "\n",
    "# Generate dummy data\n",
    "data_a = keras.utils.to_categorical(np.random.randint(256, size=(1000, 280)), num_classes=256)\n",
    "data_b = keras.utils.to_categorical(np.random.randint(256, size=(1000, 280)), num_classes=256)\n",
    "labels = np.random.randint(2, size=(1000, 1))\n",
    "\n",
    "# We define a trainable model linking the\n",
    "# tweet inputs to the predictions\n",
    "model = Model(inputs=[tweet_a, tweet_b], outputs=predictions)\n",
    "\n",
    "model.compile(optimizer='rmsprop',\n",
    "             loss='binary_crossentropy',\n",
    "             metrics=['accuracy'])\n",
    "model.fit([data_a, data_b], labels, epochs=10)"
   ]
  },
  {
   "cell_type": "markdown",
   "metadata": {},
   "source": [
    "Let's pause to take a look at how to read the shared layer's output or output shape.\n",
    "\n",
    "## The concept of layer \"node\"\n",
    "Whenever you are calling a layer on some input, you are creating a new tensor (the output of the layer), and you are adding a \"node\" to the layer, linking the input tensor to the output tensor. When you are calling the same layer multiple times, that layer owns multiple nodes indexed as 0, 1, 2...\n",
    "\n",
    "In previous versions of Keras, you could obtain the output tensor of a layer instance via  `layer.get_output()`, or its output shape via `layer.output_shape`. You still can (except `get_output()` has been replaced by the property `output`). But what if a layer is connected to multiple inputs?\n",
    "\n",
    "As long as a layer is only connected to one input, there is no confusion, and `.output` will return the one output of the layer:"
   ]
  },
  {
   "cell_type": "code",
   "execution_count": 28,
   "metadata": {
    "collapsed": true
   },
   "outputs": [],
   "source": [
    "a = Input(shape=(280, 256))\n",
    "\n",
    "lstm = LSTM(32)\n",
    "encoded_a = lstm(a)\n",
    "\n",
    "assert lstm.output == encoded_a"
   ]
  },
  {
   "cell_type": "markdown",
   "metadata": {},
   "source": [
    "Not so if the layer has multiple inputs:"
   ]
  },
  {
   "cell_type": "code",
   "execution_count": 29,
   "metadata": {},
   "outputs": [
    {
     "ename": "AttributeError",
     "evalue": "Layer lstm_8 has multiple inbound nodes, hence the notion of \"layer output\" is ill-defined. Use `get_output_at(node_index)` instead.",
     "output_type": "error",
     "traceback": [
      "\u001b[1;31m---------------------------------------------------------------------------\u001b[0m",
      "\u001b[1;31mAttributeError\u001b[0m                            Traceback (most recent call last)",
      "\u001b[1;32m<ipython-input-29-86474c233256>\u001b[0m in \u001b[0;36m<module>\u001b[1;34m()\u001b[0m\n\u001b[0;32m      6\u001b[0m \u001b[0mencoded_b\u001b[0m \u001b[1;33m=\u001b[0m \u001b[0mlstm\u001b[0m\u001b[1;33m(\u001b[0m\u001b[0mb\u001b[0m\u001b[1;33m)\u001b[0m\u001b[1;33m\u001b[0m\u001b[0m\n\u001b[0;32m      7\u001b[0m \u001b[1;33m\u001b[0m\u001b[0m\n\u001b[1;32m----> 8\u001b[1;33m \u001b[0mlstm\u001b[0m\u001b[1;33m.\u001b[0m\u001b[0moutput\u001b[0m\u001b[1;33m\u001b[0m\u001b[0m\n\u001b[0m",
      "\u001b[1;32mC:\\Users\\Administrator\\Anaconda3\\lib\\site-packages\\keras\\engine\\topology.py\u001b[0m in \u001b[0;36moutput\u001b[1;34m(self)\u001b[0m\n\u001b[0;32m    967\u001b[0m         \u001b[1;32mif\u001b[0m \u001b[0mlen\u001b[0m\u001b[1;33m(\u001b[0m\u001b[0mself\u001b[0m\u001b[1;33m.\u001b[0m\u001b[0m_inbound_nodes\u001b[0m\u001b[1;33m)\u001b[0m \u001b[1;33m>\u001b[0m \u001b[1;36m1\u001b[0m\u001b[1;33m:\u001b[0m\u001b[1;33m\u001b[0m\u001b[0m\n\u001b[0;32m    968\u001b[0m             raise AttributeError('Layer ' + self.name +\n\u001b[1;32m--> 969\u001b[1;33m                                  \u001b[1;34m' has multiple inbound nodes, '\u001b[0m\u001b[1;33m\u001b[0m\u001b[0m\n\u001b[0m\u001b[0;32m    970\u001b[0m                                  \u001b[1;34m'hence the notion of \"layer output\" '\u001b[0m\u001b[1;33m\u001b[0m\u001b[0m\n\u001b[0;32m    971\u001b[0m                                  \u001b[1;34m'is ill-defined. '\u001b[0m\u001b[1;33m\u001b[0m\u001b[0m\n",
      "\u001b[1;31mAttributeError\u001b[0m: Layer lstm_8 has multiple inbound nodes, hence the notion of \"layer output\" is ill-defined. Use `get_output_at(node_index)` instead."
     ]
    }
   ],
   "source": [
    "a = Input(shape=(280, 256))\n",
    "b = Input(shape=(280, 256))\n",
    "\n",
    "lstm = LSTM(32)\n",
    "encoded_a = lstm(a)\n",
    "encoded_b = lstm(b)\n",
    "\n",
    "lstm.output "
   ]
  },
  {
   "cell_type": "markdown",
   "metadata": {},
   "source": [
    "Okay then. The following works:"
   ]
  },
  {
   "cell_type": "code",
   "execution_count": 30,
   "metadata": {
    "collapsed": true
   },
   "outputs": [],
   "source": [
    "assert lstm.get_output_at(0) == encoded_a\n",
    "assert lstm.get_output_at(1) == encoded_b"
   ]
  },
  {
   "cell_type": "markdown",
   "metadata": {},
   "source": [
    "Simple enough, right?\n",
    "\n",
    "The same is true for the properties `input_shape` and `output_shape`: as long as the layer has only one node, or as long as all nodes have the same input/output shape, then the notion of \"layer output/input shape\" is well defined, and that one shape will be returned by `layer.output_shape`/`layer.input_shape`. But if, for instance, you apply the same `Conv2D` layer to an input of shape `(32, 32, 3)`, and then to an input of shape `(64, 64, 3)`, the layer will have multiple input/output shapes, and you will have to fetch them by specifying the index of the node they belong to:"
   ]
  },
  {
   "cell_type": "code",
   "execution_count": 32,
   "metadata": {},
   "outputs": [],
   "source": [
    "from keras.layers import Conv2D\n",
    "\n",
    "a = Input(shape=(32, 32, 3))\n",
    "b = Input(shape=(64, 64, 3))\n",
    "\n",
    "conv = Conv2D(16, (3, 3), padding='same')\n",
    "conved_a = conv(a)\n",
    "\n",
    "# Only one input so far, the following will work:\n",
    "assert conv.input_shape == (None, 32, 32, 3)\n",
    "\n",
    "conved_b = conv(b)\n",
    "# now the `.input_shape` property wouldn't work, but this does:\n",
    "assert conv.get_input_shape_at(0) == (None, 32, 32, 3)\n",
    "assert conv.get_input_shape_at(1) == (None, 64, 64, 3)"
   ]
  },
  {
   "cell_type": "markdown",
   "metadata": {},
   "source": [
    "## More examples\n",
    "Code examples are still the best way to get started, so here are a few more.\n",
    "\n",
    "### Inception module\n",
    "For more information about the Inception architecture, see [Going Deeper with Convolutions](http://arxiv.org/abs/1409.4842)."
   ]
  },
  {
   "cell_type": "code",
   "execution_count": 36,
   "metadata": {},
   "outputs": [],
   "source": [
    "from keras.layers import Conv2D, MaxPooling2D, Input\n",
    "\n",
    "input_img = Input(shape=(256, 256, 3))\n",
    "\n",
    "tower_1 = Conv2D(64, (1, 1), padding='same', activation='relu')(input_img)\n",
    "tower_1 = Conv2D(64, (3, 3), padding='same', activation='relu')(tower_1)\n",
    "\n",
    "tower_2 = Conv2D(64, (1, 1), padding='same', activation='relu')(input_img)\n",
    "tower_2 = Conv2D(64, (5, 5), padding='same', activation='relu')(tower_2)\n",
    "\n",
    "tower_3 = MaxPooling2D((3, 3), strides=(1,1), padding='same')(input_img)\n",
    "tower_3 = Conv2D(64, (1, 1), padding='same', activation='relu')(tower_3)\n",
    "\n",
    "output = keras.layers.concatenate([tower_1, tower_2, tower_3], axis=1)"
   ]
  },
  {
   "cell_type": "markdown",
   "metadata": {},
   "source": [
    "### Residual connection on a convolution layer\n",
    "For more information about residual networks, see [Deep Residual Learning for Image Recognition](http://arxiv.org/abs/1512.03385)."
   ]
  },
  {
   "cell_type": "code",
   "execution_count": 37,
   "metadata": {
    "collapsed": true
   },
   "outputs": [],
   "source": [
    "from keras.layers import Conv2D, Input\n",
    "\n",
    "# input tensor for a 3-channel 256x256 image\n",
    "x = Input(shape=(256, 256, 3))\n",
    "# 3x3 conv with 3 output channels (same as input channels)\n",
    "y = Conv2D(3, (3, 3), padding='same')(x)\n",
    "# this returns x + y.\n",
    "z = keras.layers.add([x, y])"
   ]
  },
  {
   "cell_type": "markdown",
   "metadata": {},
   "source": [
    "### Shared vision model\n",
    "This model reuses the same image-processing module on two inputs, to classify whether two MNIST digits are the same digit or different digits."
   ]
  },
  {
   "cell_type": "code",
   "execution_count": 38,
   "metadata": {
    "collapsed": true
   },
   "outputs": [],
   "source": [
    "from keras.layers import Conv2D, MaxPooling2D, Input, Dense, Flatten\n",
    "from keras.models import Model\n",
    "\n",
    "# First, define the vision modules\n",
    "digit_input = Input(shape=(27, 27, 1))\n",
    "x = Conv2D(64, (3, 3))(digit_input)\n",
    "x = Conv2D(64, (3, 3))(x)\n",
    "x = MaxPooling2D((2, 2))(x)\n",
    "out = Flatten()(x)\n",
    "\n",
    "vision_model = Model(digit_input, out)\n",
    "\n",
    "# Then define the tell-digits-apart model\n",
    "digit_a = Input(shape=(27, 27, 1))\n",
    "digit_b = Input(shape=(27, 27, 1))\n",
    "\n",
    "# The vision model will be shared, weights and all\n",
    "out_a = vision_model(digit_a)\n",
    "out_b = vision_model(digit_b)\n",
    "\n",
    "concatenated = keras.layers.concatenate([out_a, out_b])\n",
    "out = Dense(1, activation='sigmoid')(concatenated)\n",
    "\n",
    "classification_model = Model([digit_a, digit_b], out)"
   ]
  },
  {
   "cell_type": "markdown",
   "metadata": {},
   "source": [
    "### Visual question answering model\n",
    "This model can select the correct one-word answer when asked a natural-language question about a picture.\n",
    "\n",
    "It works by encoding the question into a vector, encoding the image into a vector, concatenating the two, and training on top a logistic regression over some vocabulary of potential answers."
   ]
  },
  {
   "cell_type": "code",
   "execution_count": 39,
   "metadata": {
    "collapsed": true
   },
   "outputs": [],
   "source": [
    "from keras.layers import Conv2D, MaxPooling2D, Flatten\n",
    "from keras.layers import Input, LSTM, Embedding, Dense\n",
    "from keras.models import Model, Sequential\n",
    "\n",
    "# First, let's define a vision model using a Sequential model.\n",
    "# This model will encode an image into a vector.\n",
    "vision_model = Sequential()\n",
    "vision_model.add(Conv2D(64, (3, 3), activation='relu', padding='same', input_shape=(224, 224, 3)))\n",
    "vision_model.add(Conv2D(64, (3, 3), activation='relu'))\n",
    "vision_model.add(MaxPooling2D((2, 2)))\n",
    "vision_model.add(Conv2D(128, (3, 3), activation='relu', padding='same'))\n",
    "vision_model.add(Conv2D(128, (3, 3), activation='relu'))\n",
    "vision_model.add(MaxPooling2D((2, 2)))\n",
    "vision_model.add(Conv2D(256, (3, 3), activation='relu', padding='same'))\n",
    "vision_model.add(Conv2D(256, (3, 3), activation='relu'))\n",
    "vision_model.add(Conv2D(256, (3, 3), activation='relu'))\n",
    "vision_model.add(MaxPooling2D((2, 2)))\n",
    "vision_model.add(Flatten())\n",
    "\n",
    "# Now let's get a tensor with the output of our vision model:\n",
    "image_input = Input(shape=(224, 224, 3))\n",
    "encoded_image = vision_model(image_input)\n",
    "\n",
    "# Next, let's define a language model to encode the question into a vector.\n",
    "# Each question will be at most 100 word long,\n",
    "# and we will index words as integers from 1 to 9999.\n",
    "question_input = Input(shape=(100, ), dtype='int32')\n",
    "embedded_question = Embedding(input_dim=10000, output_dim=256, input_length=100)(question_input)\n",
    "encoded_question = LSTM(256)(embedded_question)\n",
    "\n",
    "# Let's concatenate the question vector and the image vector:\n",
    "merged = keras.layers.concatenate([encoded_question, encoded_image])\n",
    "\n",
    "# And let's train a logistic regression over 1000 words on top:\n",
    "output = Dense(10000, activation='softmax')(merged)\n",
    "\n",
    "# This is our final model:\n",
    "vqa_model = Model(inputs=[image_input, question_input], outputs=output)\n",
    "\n",
    "# The next stage would be training this model on actual data."
   ]
  },
  {
   "cell_type": "markdown",
   "metadata": {},
   "source": [
    "### Video question answering model\n",
    "Now that we have trained our image QA model, we can quickly turn it into a video QA model. With appropriate training, you will be able to show it a short video (e.g. 100-frame human action) and ask a natural language question about the video (e.g. \"what sport is the boy playing?\" -> \"football\")."
   ]
  },
  {
   "cell_type": "code",
   "execution_count": 41,
   "metadata": {},
   "outputs": [],
   "source": [
    "from keras.layers import TimeDistributed\n",
    "\n",
    "video_input = Input(shape=(100, 224, 224, 3))\n",
    "# This is our video encoded via the previously trained vision_model (weights are reused)\n",
    "encoded_frame_sequence = TimeDistributed(vision_model)(video_input)  # the output will be a sequence of vectors\n",
    "encoded_video = LSTM(256)(encoded_frame_sequence)  # the output will be a vector\n",
    "\n",
    "# This is a model-level representation of the question encoder, reusing the same weights as before:\n",
    "question_encoder = Model(inputs=question_input, outputs=encoded_question)\n",
    "\n",
    "# Let's use it to encode the question:\n",
    "video_question_input = Input(shape=(100,), dtype='int32')\n",
    "encoded_video_question = question_encoder(video_question_input)\n",
    "\n",
    "# And this is our video question answering model:\n",
    "merged = keras.layers.concatenate([encoded_video, encoded_video_question])\n",
    "output = Dense(1000, activation='softmax')(merged)\n",
    "video_qa_model = Model(inputs=[video_input, video_question_input], outputs=output)"
   ]
  }
 ],
 "metadata": {
  "kernelspec": {
   "display_name": "Python 3",
   "language": "python",
   "name": "python3"
  },
  "language_info": {
   "codemirror_mode": {
    "name": "ipython",
    "version": 3
   },
   "file_extension": ".py",
   "mimetype": "text/x-python",
   "name": "python",
   "nbconvert_exporter": "python",
   "pygments_lexer": "ipython3",
   "version": "3.6.1"
  }
 },
 "nbformat": 4,
 "nbformat_minor": 2
}
