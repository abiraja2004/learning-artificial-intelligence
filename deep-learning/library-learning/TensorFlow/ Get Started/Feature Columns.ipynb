{
 "cells": [
  {
   "cell_type": "markdown",
   "metadata": {},
   "source": [
    "# Feature Columns\n",
    "\n",
    "This document details feature columns. Think of **feature columns** as the intermediaries between raw data and Estimators. Feature columns are very rich, enabling you to transform a diverse range of raw data into formats that Estimators can use, allowing easy experimentation.\n",
    "\n",
    "In [Premade Estimators](https://tensorflow.google.cn/get_started/premade_estimators), we used the premade Estimator, [DNNClassifier](https://tensorflow.google.cn/api_docs/python/tf/estimator/DNNClassifier) to train a model to predict different types of Iris flowers from four input features. That example created only numerical feature columns (of type [tf.feature_column.numeric_column](https://tensorflow.google.cn/api_docs/python/tf/feature_column/numeric_column)). Although numerical feature columns model the lengths of petals and sepals effectively, real world data sets contain all kinds of features, many of which are non-numerical.\n",
    "\n",
    "![](https://tensorflow.google.cn/images/feature_columns/feature_cloud.jpg)\n",
    "<center>Some real-world features (such as, longitude) are numerical, but many are not.</center>\n",
    "\n",
    "## Input to a Deep Neural Network\n",
    "What kind of data can a deep neural network operate on? The answer is, of course, numbers (for example, tf.float32). After all, every neuron in a neural network performs multiplication and addition operations on weights and input data. Real-life input data, however, often contains non-numerical (categorical) data. For example, consider a product_class feature that can contain the following three non-numerical values:\n",
    "\n",
    "- kitchenware\n",
    "- electronics\n",
    "- sports\n",
    "\n",
    "ML models generally represent categorical values as simple vectors in which a 1 represents the presence of a value and a 0 represents the absence of a value. For example, when product_class is set to sports, an ML model would usually represent product_class as [0, 0, 1], meaning:\n",
    "\n",
    "- 0: kitchenware is absent\n",
    "- 0: electronics is absent\n",
    "- 1: sports is present\n",
    "\n",
    "So, although raw data can be numerical or categorical, an ML model represents all features as numbers.\n",
    "\n",
    "## Feature Columns\n",
    "\n",
    "As the following figure suggests, you specify the input to a model through the feature_columns argument of an Estimator (DNNClassifier for Iris). Feature Columns bridge input data (as returned by input_fn) with your model.\n",
    "\n",
    "![](https://tensorflow.google.cn/images/feature_columns/inputs_to_model_bridge.jpg)\n",
    "<center>Feature columns bridge raw data with the data your model needs.</center>\n",
    "\n",
    "To create feature columns, call functions from the [tf.feature_column](https://tensorflow.google.cn/api_docs/python/tf/feature_column) module. This document explains nine of the functions in that module. As the following figure shows, all nine functions return either a Categorical-Column or a Dense-Column object, except bucketized_column, which inherits from both classes:\n",
    "\n",
    "![](https://tensorflow.google.cn/images/feature_columns/some_constructors.jpg)\n",
    "<center>Feature column methods fall into two main categories and one hybrid category.</center>\n",
    "\n",
    "Let's look at these functions in more detail.\n",
    "\n",
    "### Numeric column\n",
    "\n",
    "The Iris classifier calls the tf.feature_column.numeric_column function for all input features:\n",
    "\n",
    "- SepalLength\n",
    "- SepalWidth\n",
    "- PetalLength\n",
    "- PetalWidth\n",
    "\n",
    "Although tf.numeric_column provides optional arguments, calling tf.numeric_column without any arguments, as follows, is a fine way to specify a numerical value with the default data type ([tf.float32](https://tensorflow.google.cn/api_docs/python/tf/float32)) as input to your model:"
   ]
  },
  {
   "cell_type": "code",
   "execution_count": 2,
   "metadata": {},
   "outputs": [
    {
     "name": "stderr",
     "output_type": "stream",
     "text": [
      "C:\\Users\\Administrator\\Anaconda3\\lib\\site-packages\\h5py\\__init__.py:34: FutureWarning: Conversion of the second argument of issubdtype from `float` to `np.floating` is deprecated. In future, it will be treated as `np.float64 == np.dtype(float).type`.\n",
      "  from ._conv import register_converters as _register_converters\n"
     ]
    }
   ],
   "source": [
    "import tensorflow as tf\n",
    "\n",
    "# Defaults to a tf.float32 scalar.\n",
    "c"
   ]
  },
  {
   "cell_type": "markdown",
   "metadata": {},
   "source": [
    "To specify a non-default numerical data type, use the dtype argument. For example:"
   ]
  },
  {
   "cell_type": "code",
   "execution_count": 3,
   "metadata": {
    "collapsed": true
   },
   "outputs": [],
   "source": [
    "# Represent a tf.float64 scalar.\n",
    "numeric_feature_column = tf.feature_column.numeric_column(key=\"SepalLength\",\n",
    "                                                                                                     dtype=tf.float64)"
   ]
  },
  {
   "cell_type": "markdown",
   "metadata": {},
   "source": [
    "By default, a numeric column creates a single value (scalar). Use the shape argument to specify another shape. For example:"
   ]
  },
  {
   "cell_type": "code",
   "execution_count": 4,
   "metadata": {
    "collapsed": true
   },
   "outputs": [],
   "source": [
    "# Represent a 10-element vector in which each cell contains a tf.float32.\n",
    "vector_feature_column = tf.feature_column.numeric_column(key=\"Bowling\",shape=10)\n",
    "\n",
    "# Represent a 10x5 matrix in which each cell contains a tf.float32.\n",
    "matrix_feature_column = tf.feature_column.numeric_column(key=\"MyMatrix\",shape=[10, 5])"
   ]
  },
  {
   "cell_type": "markdown",
   "metadata": {},
   "source": [
    "### Bucketized column\n",
    "\n",
    "Often, you don't want to feed a number directly into the model, but instead split its value into different categories based on numerical ranges. To do so, create a bucketized column. For example, consider raw data that represents the year a house was built. Instead of representing that year as a scalar numeric column, we could split the year into the following four buckets:\n",
    "\n",
    "![](https://tensorflow.google.cn/images/feature_columns/bucketized_column.jpg)\n",
    "<center>Dividing year data into four buckets.</center>\n",
    "\n",
    "The model will represent the buckets as follows:\n",
    "\n",
    "\n",
    "| Date Range         | Represented as... |\n",
    "|--------------------|-------------------|\n",
    "| < 1960             | [1, 0, 0, 0]      |\n",
    "| >= 1960 but < 1980 | [0, 1, 0, 0]      |\n",
    "| >= 1980 but < 2000 | [0, 0, 1, 0]      |\n",
    "\n",
    "Why would you want to split a number—a perfectly valid input to your model—into a categorical value? Well, notice that the categorization splits a single input number into a four-element vector. Therefore, the model now can learn four individual weights rather than just one; four weights creates a richer model than one weight. More importantly, bucketizing enables the model to clearly distinguish between different year categories since only one of the elements is set (1) and the other three elements are cleared (0). For example, when we just use a single number (a year) as input, a linear model can only learn a linear relationship. So, bucketing provides the model with additional flexibility that the model can use to learn.\n",
    "\n",
    "The following code demonstrates how to create a bucketized feature:"
   ]
  },
  {
   "cell_type": "code",
   "execution_count": 5,
   "metadata": {
    "collapsed": true
   },
   "outputs": [],
   "source": [
    "# First, convert the raw input to a numeric column.\n",
    "numeric_feature_column = tf.feature_column.numeric_column(\"Year\")\n",
    "\n",
    "# Then, bucketize the numeric column on the years 1960, 1980, and 2000.\n",
    "bucketized_feature_column = tf.feature_column.bucketized_column(\n",
    "    source_column = numeric_feature_column,\n",
    "    boundaries = [1960, 1980, 2000])"
   ]
  },
  {
   "cell_type": "markdown",
   "metadata": {},
   "source": [
    "Note that specifying a three-element boundaries vector creates a four-element bucketized vector.\n",
    "\n",
    "### Categorical identity column\n",
    "\n",
    "**Categorical identity columns** can be seen as a special case of bucketized columns. In traditional bucketized columns, each bucket represents a range of values (for example, from 1960 to 1979). In a categorical identity column, each bucket represents a single, unique integer. For example, let's say you want to represent the integer range [0, 4). That is, you want to represent the integers 0, 1, 2, or 3. In this case, the categorical identity mapping looks like this:\n",
    "\n",
    "![](https://tensorflow.google.cn/images/feature_columns/categorical_column_with_identity.jpg)\n",
    "<center>A categorical identity column mapping. Note that this is a one-hot encoding, not a binary numerical encoding.</center>\n",
    "\n",
    "As with bucketized columns, a model can learn a separate weight for each class in a categorical identity column. For example, instead of using a string to represent the product_class, let's represent each class with a unique integer value. That is:\n",
    "\n",
    "- 0=\"kitchenware\"\n",
    "- 1=\"electronics\"\n",
    "- 2=\"sport\"\n",
    "\n",
    "Call [tf.feature_column.categorical_column_with_identity](https://tensorflow.google.cn/api_docs/python/tf/feature_column/categorical_column_with_identity) to implement a categorical identity column. For example:"
   ]
  },
  {
   "cell_type": "code",
   "execution_count": 6,
   "metadata": {
    "collapsed": true
   },
   "outputs": [],
   "source": [
    "# Create categorical output for an integer feature named \"my_feature_b\",\n",
    "# The values of my_feature_b must be >= 0 and < num_buckets\n",
    "identity_feature_column = tf.feature_column.categorical_column_with_identity(\n",
    "    key='my_feature_b',\n",
    "    num_buckets=4) # Values [0, 4)\n",
    "\n",
    "# In order for the preceding call to work, the input_fn() must return\n",
    "# a dictionary containing 'my_feature_b' as a key. Furthermore, the values\n",
    "# assigned to 'my_feature_b' must belong to the set [0, 4).\n",
    "def input_fn():\n",
    "    ...\n",
    "    return ({'my_feature_a':[7, 9, 5, 2], 'my_feature_b':[3, 1, 2, 2]},\n",
    "               [Label_values])"
   ]
  },
  {
   "cell_type": "markdown",
   "metadata": {},
   "source": [
    "### Categorical vocabulary column\n",
    "\n",
    "We cannot input strings directly to a model. Instead, we must first map strings to numeric or categorical values. Categorical vocabulary columns provide a good way to represent strings as a one-hot vector. For example:\n",
    "\n",
    "![](https://tensorflow.google.cn/images/feature_columns/categorical_column_with_vocabulary.jpg)\n",
    "<center>Mapping string values to vocabulary columns.</center>\n",
    "\n",
    "As you can see, categorical vocabulary columns are kind of an enum version of categorical identity columns. TensorFlow provides two different functions to create categorical vocabulary columns:\n",
    "\n",
    "[tf.feature_column.categorical_column_with_vocabulary_list](https://tensorflow.google.cn/api_docs/python/tf/feature_column/categorical_column_with_vocabulary_list)\n",
    "[tf.feature_column.categorical_column_with_vocabulary_file](https://tensorflow.google.cn/api_docs/python/tf/feature_column/categorical_column_with_vocabulary_file)\n",
    "\n",
    "categorical_column_with_vocabulary_list maps each string to an integer based on an explicit vocabulary list. For example:"
   ]
  },
  {
   "cell_type": "code",
   "execution_count": 9,
   "metadata": {},
   "outputs": [],
   "source": [
    "# Given input \"feature_name_from_input_fn\" which is a string,\n",
    "# create a categorical feature by mapping the input to one of\n",
    "# the elements in the vocabulary list.\n",
    "vocabulary_feature_column = \\\n",
    "    tf.feature_column.categorical_column_with_vocabulary_list(\n",
    "        key=\"feature_column_from_input_fn\",\n",
    "        vocabulary_list=[\"kitchenware\", \"electronics\", \"sports\"])"
   ]
  },
  {
   "cell_type": "markdown",
   "metadata": {},
   "source": [
    "The preceding function is pretty straightforward, but it has a significant drawback. Namely, there's way too much typing when the vocabulary list is long. For these cases, call [tf.feature_column.categorical_column_with_vocabulary](https://tensorflow.google.cn/api_docs/python/tf/feature_column/categorical_column_with_vocabulary_file)_file instead, which lets you place the vocabulary words in a separate file. For example:"
   ]
  },
  {
   "cell_type": "code",
   "execution_count": 10,
   "metadata": {
    "collapsed": true
   },
   "outputs": [],
   "source": [
    "# Given input \"feature_name_from_input_fn\" which is a string,\n",
    "# create a categorical feature to our model by mapping the input to one of\n",
    "# the elements in the vocabulary file\n",
    "vocabulary_feature_column = \\\n",
    "    tf.feature_column.categorical_column_with_vocabulary_file(\n",
    "        key=\"feature_column_from_input_fn\",\n",
    "        vocabulary_file=\"product_class.txt\",\n",
    "        vocabulary_size=3)"
   ]
  },
  {
   "cell_type": "markdown",
   "metadata": {},
   "source": [
    "product_class.txt should contain one line for each vocabulary element. In our case:"
   ]
  },
  {
   "cell_type": "raw",
   "metadata": {},
   "source": [
    "kitchenware\n",
    "electronics\n",
    "sports"
   ]
  },
  {
   "cell_type": "markdown",
   "metadata": {},
   "source": [
    "### Hashed Column\n",
    "\n",
    "So far, we've worked with a naively small number of categories. For example, our product_class example has only 3 categories. Often though, the number of categories can be so big that it's not possible to have individual categories for each vocabulary word or integer because that would consume too much memory. For these cases, we can instead turn the question around and ask, \"How many categories am I willing to have for my input?\" In fact, the tf.feature_column.categorical_column_with_hash_bucket function enables you to specify the number of categories. For this type of feature column the model calculates a hash value of the input, then puts it into one of the hash_bucket_size categories using the modulo operator, as in the following pseudocode:"
   ]
  },
  {
   "cell_type": "raw",
   "metadata": {},
   "source": [
    "# pseudocode\n",
    "feature_id = hash(raw_feature) % hash_buckets_size"
   ]
  },
  {
   "cell_type": "markdown",
   "metadata": {},
   "source": [
    "The code to create the feature_column might look something like this:"
   ]
  },
  {
   "cell_type": "code",
   "execution_count": 16,
   "metadata": {},
   "outputs": [],
   "source": [
    "hashed_feature_column = \\\n",
    "    tf.feature_column.categorical_column_with_hash_bucket(\n",
    "        key = \"some_feature\",\n",
    "        hash_bucket_size = 100) # The number of categories"
   ]
  },
  {
   "cell_type": "markdown",
   "metadata": {},
   "source": [
    "At this point, you might rightfully think: \"This is crazy!\" After all, we are forcing the different input values to a smaller set of categories. This means that two probably unrelated inputs will be mapped to the same category, and consequently mean the same thing to the neural network. The following figure illustrates this dilemma, showing that kitchenware and sports both get assigned to category (hash bucket) 12:\n",
    "\n",
    "![](https://tensorflow.google.cn/images/feature_columns/hashed_column.jpg)\n",
    "<center>Representing data with hash buckets.</center>\n",
    "\n",
    "As with many counterintuitive phenomena in machine learning, it turns out that hashing often works well in practice. That's because hash categories provide the model with some separation. The model can use additional features to further separate kitchenware from sports.\n",
    "\n",
    "### Crossed column\n",
    "\n",
    "Combining features into a single feature, better known as [feature crosses](https://developers.google.cn/machine-learning/glossary/#feature_cross), enables the model to learn separate weights for each combination of features.\n",
    "\n",
    "More concretely, suppose we want our model to calculate real estate prices in Atlanta, GA. Real-estate prices within this city vary greatly depending on location. Representing latitude and longitude as separate features isn't very useful in identifying real-estate location dependencies; however, crossing latitude and longitude into a single feature can pinpoint locations. Suppose we represent Atlanta as a grid of 100x100 rectangular sections, identifying each of the 10,000 sections by a feature cross of latitude and longitude. This feature cross enables the model to train on pricing conditions related to each individual section, which is a much stronger signal than latitude and longitude alone.\n",
    "\n",
    "The following figure shows our plan, with the latitude & longitude values for the corners of the city in red text:\n",
    "\n",
    "![](https://tensorflow.google.cn/images/feature_columns/Atlanta.jpg)\n",
    "<center>Map of Atlanta. Imagine this map divided into 10,000 sections of equal size.</center>\n",
    "\n",
    "For the solution, we used a combination of the bucketized_column we looked at earlier, with the [tf.feature_column.crossed_column](https://tensorflow.google.cn/api_docs/python/tf/feature_column/crossed_column) function."
   ]
  },
  {
   "cell_type": "code",
   "execution_count": 18,
   "metadata": {},
   "outputs": [
    {
     "ename": "NameError",
     "evalue": "name 'atlanta' is not defined",
     "output_type": "error",
     "traceback": [
      "\u001b[1;31m---------------------------------------------------------------------------\u001b[0m",
      "\u001b[1;31mNameError\u001b[0m                                 Traceback (most recent call last)",
      "\u001b[1;32m<ipython-input-18-294aeb27714a>\u001b[0m in \u001b[0;36m<module>\u001b[1;34m()\u001b[0m\n\u001b[0;32m     11\u001b[0m latitude_bucket_fc = tf.feature_column.bucketized_column(\n\u001b[0;32m     12\u001b[0m     \u001b[0mtf\u001b[0m\u001b[1;33m.\u001b[0m\u001b[0mfeature_column\u001b[0m\u001b[1;33m.\u001b[0m\u001b[0mnumeric_column\u001b[0m\u001b[1;33m(\u001b[0m\u001b[1;34m'latitude'\u001b[0m\u001b[1;33m)\u001b[0m\u001b[1;33m,\u001b[0m\u001b[1;33m\u001b[0m\u001b[0m\n\u001b[1;32m---> 13\u001b[1;33m     list(atlanta.latitude.edges))\n\u001b[0m\u001b[0;32m     14\u001b[0m \u001b[1;33m\u001b[0m\u001b[0m\n\u001b[0;32m     15\u001b[0m longitude_bucket_fc = tf.feature_column.bucketized_column(\n",
      "\u001b[1;31mNameError\u001b[0m: name 'atlanta' is not defined"
     ]
    }
   ],
   "source": [
    "def make_dataset(latitude, longtitude, labels):\n",
    "    assert latitude.shape == longtitude.shape == lables.shape\n",
    "    \n",
    "    features = {'latitude': latitude.flatten(),\n",
    "                       'longitude': longitude.flatten()}\n",
    "    labels = labels.flatten()\n",
    "    \n",
    "    return tf.data.Dataset.from_tensor_slices((features, labels))\n",
    "\n",
    "# Bucketize the latitude and longitude usig the `edges`\n",
    "latitude_bucket_fc = tf.feature_column.bucketized_column(\n",
    "    tf.feature_column.numeric_column('latitude'),\n",
    "    list(atlanta.latitude.edges))\n",
    "\n",
    "longitude_bucket_fc = tf.feature_column.bucketized_column(\n",
    "    tf.feature_column.numeric_column('longitude'),\n",
    "    list(atlanta.longitude.edges))\n",
    "\n",
    "# Cross the bucketized columns, using 5000 hash bins.\n",
    "crossed_lat_lon_fc = tf.feature_column.crossed_column(\n",
    "    [latitude_bucket_fc, longitude_bucket_fc], 5000)\n",
    "\n",
    "fc = [\n",
    "    latitude_bucket_fc,\n",
    "    longitude_bucket_fc,\n",
    "    crossed_lat_lon_fc]"
   ]
  },
  {
   "cell_type": "markdown",
   "metadata": {},
   "source": [
    "## Indicator and embedding columns\n",
    "\n",
    "Indicator columns and embedding columns never work on features directly, but instead take categorical columns as input.\n",
    "\n",
    "When using an indicator column, we're telling TensorFlow to do exactly what we've seen in our categorical product_class example. That is, an **indicator column** treats each category as an element in a one-hot vector, where the matching category has value 1 and the rest have 0s:\n",
    "\n",
    "![](https://tensorflow.google.cn/images/feature_columns/categorical_column_with_identity.jpg)\n",
    "<center>Representing data in indicator columns.</center>\n",
    "\n",
    "Here's how you create an indicator column by calling [tf.feature_column.indicator_column](https://tensorflow.google.cn/api_docs/python/tf/feature_column/indicator_column):"
   ]
  },
  {
   "cell_type": "code",
   "execution_count": 19,
   "metadata": {
    "collapsed": true
   },
   "outputs": [],
   "source": [
    "categorical_column = ...  # Create any type of categorical column.\n",
    "\n",
    "# Represent the categorical column as an indicator column.\n",
    "indicator_column = tf.feature_column.indicator_column(categorical_column)"
   ]
  },
  {
   "cell_type": "markdown",
   "metadata": {},
   "source": [
    "Now, suppose instead of having just three possible classes, we have a million. Or maybe a billion. For a number of reasons, as the number of categories grow large, it becomes infeasible to train a neural network using indicator columns.\n",
    "\n",
    "We can use an embedding column to overcome this limitation. Instead of representing the data as a one-hot vector of many dimensions, an **embedding column** represents that data as a lower-dimensional, ordinary vector in which each cell can contain any number, not just 0 or 1. By permitting a richer palette of numbers for every cell, an embedding column contains far fewer cells than an indicator column.\n",
    "\n",
    "Let's look at an example comparing indicator and embedding columns. Suppose our input examples consist of different words from a limited palette of only 81 words. Further suppose that the data set provides the following input words in 4 separate examples:\n",
    "\n",
    "- \"dog\"\n",
    "- \"spoon\"\n",
    "- \"scissors\"\n",
    "- \"guitar\"\n",
    "\n",
    "In that case, the following figure illustrates the processing path for embedding columns or indicator columns.\n",
    "\n",
    "![](https://tensorflow.google.cn/images/feature_columns/embedding_vs_indicator.jpg)\n",
    "<center>An embedding column stores categorical data in a lower-dimensional vector than an indicator column. (We just placed random numbers into the embedding vectors; training determines the actual numbers.)</center>\n",
    "\n",
    "When an example is processed, one of the categorical_column_with... functions maps the example string to a numerical categorical value. For example, a function maps \"spoon\" to [32]. (The 32 comes from our imagination—the actual values depend on the mapping function.) You may then represent these numerical categorical values in either of the following two ways:\n",
    "\n",
    "- As an indicator column. A function converts each numeric categorical value into an 81-element vector (because our palette consists of 81 words), placing a 1 in the index of the categorical value (0, 32, 79, 80) and a 0 in all the other positions.\n",
    "\n",
    "- As an embedding column. A function uses the numerical categorical values (0, 32, 79, 80) as indices to a lookup table. Each slot in that lookup table contains a 3-element vector.\n",
    "\n",
    "How do the values in the embeddings vectors magically get assigned? Actually, the assignments happen during training. That is, the model learns the best way to map your input numeric categorical values to the embeddings vector value in order to solve your problem. Embedding columns increase your model's capabilities, since an embeddings vector learns new relationships between categories from the training data.\n",
    "\n",
    "Why is the embedding vector size 3 in our example? Well, the following \"formula\" provides a general rule of thumb about the number of embedding dimensions:"
   ]
  },
  {
   "cell_type": "raw",
   "metadata": {},
   "source": [
    "embedding_dimensions =  number_of_categories**0.25"
   ]
  },
  {
   "cell_type": "markdown",
   "metadata": {},
   "source": [
    "That is, the embedding vector dimension should be the 4th root of the number of categories. Since our vocabulary size in this example is 81, the recommended number of dimensions is 3:"
   ]
  },
  {
   "cell_type": "raw",
   "metadata": {},
   "source": [
    "3 =  81**0.25"
   ]
  },
  {
   "cell_type": "markdown",
   "metadata": {},
   "source": [
    "Note that this is just a general guideline; you can set the number of embedding dimensions as you please.\n",
    "\n",
    "Call [tf.feature_column.embedding_column](https://tensorflow.google.cn/api_docs/python/tf/feature_column/embedding_column) to create an embedding_column as suggested by the following snippet:"
   ]
  },
  {
   "cell_type": "code",
   "execution_count": 21,
   "metadata": {},
   "outputs": [],
   "source": [
    "categorical_column = ...  # Create any type of categorical column.\n",
    "\n",
    "# Represent the categorical column as an embedding column.\n",
    "# This means creating a one-hot vector with one element for each category.\n",
    "embedding_column = tf.feature_column.embedding_column(categorical_column=categorical_column,\n",
    "                                                   dimension=3)"
   ]
  },
  {
   "cell_type": "markdown",
   "metadata": {},
   "source": [
    "[Embeddings](https://tensorflow.google.cn/programmers_guide/embedding) is a significant topic within machine learning. This information was just to get you started using them as feature columns.\n",
    "\n",
    "## Passing feature columns to Estimators\n",
    "As the following list indicates, not all Estimators permit all types of feature_columns argument(s):\n",
    "\n",
    "- [LinearClassifier](https://tensorflow.google.cn/api_docs/python/tf/estimator/LinearClassifier) and [LinearRegressor](https://tensorflow.google.cn/api_docs/python/tf/estimator/LinearRegressor): Accept all types of feature column.\n",
    "- [DNNClassifier](https://tensorflow.google.cn/api_docs/python/tf/estimator/DNNClassifier) and [DNNRegressor](https://tensorflow.google.cn/api_docs/python/tf/estimator/DNNRegressor): Only accept dense columns. Other column types must be wrapped in either an indicator_column or embedding_column.\n",
    "- [DNNLinearCombinedClassifier](https://tensorflow.google.cn/api_docs/python/tf/estimator/DNNLinearCombinedClassifier) and [DNNLinearCombinedRegressor](https://tensorflow.google.cn/api_docs/python/tf/estimator/DNNLinearCombinedRegressor):\n",
    "- The linear_feature_columns argument accepts any feature column type.\n",
    "- The dnn_feature_columns argument only accepts dense columns.\n",
    "\n",
    "## Other Sources\n",
    "For more examples on feature columns, view the following:\n",
    "\n",
    "- The [Low Level Introduction](https://tensorflow.google.cn/programmers_guide/low_level_intro#feature_columns) demonstrates how experiment directly with feature_columns using TensorFlow's low level APIs.\n",
    "- The [wide](https://tensorflow.google.cn/tutorials/wide) and [Wide & Deep](https://tensorflow.google.cn/tutorials/wide_and_deep) Tutorials solve a binary classification problem using feature_columns on a variety of input data types.\n",
    "To learn more about embeddings, see the following:\n",
    "\n",
    "- Deep Learning, NLP, and representations](http://colah.github.io/posts/2014-07-NLP-RNNs-Representations/) (Chris Olah's blog)\n",
    "- The TensorFlow [Embedding Projector](http://projector.tensorflow.org/)"
   ]
  }
 ],
 "metadata": {
  "kernelspec": {
   "display_name": "Python 3",
   "language": "python",
   "name": "python3"
  },
  "language_info": {
   "codemirror_mode": {
    "name": "ipython",
    "version": 3
   },
   "file_extension": ".py",
   "mimetype": "text/x-python",
   "name": "python",
   "nbconvert_exporter": "python",
   "pygments_lexer": "ipython3",
   "version": "3.6.1"
  }
 },
 "nbformat": 4,
 "nbformat_minor": 2
}
