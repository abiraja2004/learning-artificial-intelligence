{
 "cells": [
  {
   "cell_type": "markdown",
   "metadata": {},
   "source": [
    "# Introduction\n",
    "This guide gets you started programming in the low-level TensorFlow APIs (TensorFlow Core), showing you how to:\n",
    "\n",
    "- Manage your own TensorFlow program (a [tf.Graph](https://tensorflow.google.cn/api_docs/python/tf/Graph)) and TensorFlow runtime (a [tf.Session](https://tensorflow.google.cn/api_docs/python/tf/Session)), instead of relying on Estimators to manage them.\n",
    "- Run TensorFlow operations, using a [tf.Session](https://tensorflow.google.cn/api_docs/python/tf/Session).\n",
    "- Use high level components ([datasets](https://tensorflow.google.cn/programmers_guide/low_level_intro#datasets), [layers](https://tensorflow.google.cn/programmers_guide/low_level_intro#layers), and [feature_columns](https://tensorflow.google.cn/programmers_guide/low_level_intro#feature_columns)) in this low level environment.\n",
    "- Build your own training loop, instead of using the one [provided by Estimators](https://tensorflow.google.cn/get_started/premade_estimators).\n",
    "\n",
    "We recommend using the higher level APIs to build models when possible. Knowing TensorFlow Core is valuable for the following reasons:\n",
    "- Experimentation and debugging are both more straight forward when you can use low level TensorFlow operations directly.\n",
    "- It gives you a mental model of how things work internally when using the higher level APIs.\n",
    "\n",
    "## Setup\n",
    "Before using this guide, [install TensorFlow](https://tensorflow.google.cn/install/index).\n",
    "\n",
    "To get the most out of this guide, you should know the following:\n",
    "\n",
    "- How to program in Python.\n",
    "- At least a little bit about arrays.\n",
    "- Ideally, something about machine learning.\n",
    "\n",
    "Feel free to launch python and follow along with this walkthrough. Run the following lines to set up your Python environment:"
   ]
  },
  {
   "cell_type": "code",
   "execution_count": 1,
   "metadata": {},
   "outputs": [
    {
     "name": "stderr",
     "output_type": "stream",
     "text": [
      "C:\\Users\\Administrator\\Anaconda3\\lib\\site-packages\\h5py\\__init__.py:34: FutureWarning: Conversion of the second argument of issubdtype from `float` to `np.floating` is deprecated. In future, it will be treated as `np.float64 == np.dtype(float).type`.\n",
      "  from ._conv import register_converters as _register_converters\n"
     ]
    }
   ],
   "source": [
    "from __future__ import absolute_import\n",
    "from __future__ import division\n",
    "from __future__ import print_function\n",
    "\n",
    "import numpy as np\n",
    "import tensorflow as tf"
   ]
  },
  {
   "cell_type": "markdown",
   "metadata": {},
   "source": [
    "## Tensor Values\n",
    "The central unit of data in TensorFlow is the **tensor**. A tensor consists of a set of primitive values shaped into an array of any number of dimensions. A tensor's **rank** is its number of dimensions, while its **shape** is a tuple of integers specifying the array's length along each dimension. Here are some examples of tensor values:"
   ]
  },
  {
   "cell_type": "code",
   "execution_count": null,
   "metadata": {},
   "outputs": [],
   "source": [
    "3. # a rank 0 tensor; a scalar with shape [],\n",
    "[1., 2., 3.] # a rank 1 tensor; a vector with shape [3]\n",
    "[[1., 2., 3.], [4., 5., 6.]] # a rank 2 tensor; a matrix with shape [2, 3]\n",
    "[[[1., 2., 3.]], [[7., 8., 9.]]] # a rank 3 tensor with shape [2, 1, 3]"
   ]
  },
  {
   "cell_type": "markdown",
   "metadata": {},
   "source": [
    "TensorFlow uses numpy arrays to represent tensor **values**.\n",
    "\n",
    "## TensorFlow Core Walkthrough\n",
    "You might think of TensorFlow Core programs as consisting of two discrete sections:\n",
    "\n",
    "1. Building the computational graph (a [tf.Graph](https://tensorflow.google.cn/api_docs/python/tf/Graph)).\n",
    "2. Running the computational graph (using a [tf.Session](https://tensorflow.google.cn/api_docs/python/tf/Session)).\n",
    "\n",
    "### Graph\n",
    "A **computational graph** is a series of TensorFlow operations arranged into a graph. The graph is composed of two types of objects.\n",
    "\n",
    "- [Operations](https://tensorflow.google.cn/api_docs/python/tf/Operation) (or \"ops\"): The nodes of the graph. Operations describe calculations that consume and produce tensors.\n",
    "- [Tensors](https://tensorflow.google.cn/api_docs/python/tf/Tensor): The edges in the graph. These represent the values that will flow through the graph. Most TensorFlow functions return tf.Tensors.\n",
    "\n",
    "> Important: tf.Tensors do not have values, they are just handles to elements in the computation graph.\n",
    "\n",
    "Let's build a simple computational graph. The most basic operation is a constant. The Python function that builds the operation takes a tensor value as input. The resulting operation takes no inputs. When run, it outputs the value that was passed to the constructor. We can create two floating point constants a and b as follows:"
   ]
  },
  {
   "cell_type": "code",
   "execution_count": 2,
   "metadata": {},
   "outputs": [
    {
     "name": "stdout",
     "output_type": "stream",
     "text": [
      "Tensor(\"Const:0\", shape=(), dtype=float32)\n",
      "Tensor(\"Const_1:0\", shape=(), dtype=float32)\n",
      "Tensor(\"add:0\", shape=(), dtype=float32)\n"
     ]
    }
   ],
   "source": [
    "a = tf.constant(3.0, dtype=tf.float32)\n",
    "b = tf.constant(4.0) # also tf.float32 implicitly\n",
    "total = a + b\n",
    "print(a)\n",
    "print(b)\n",
    "print(total)"
   ]
  },
  {
   "cell_type": "markdown",
   "metadata": {},
   "source": [
    "Notice that printing the tensors does not output the values 3.0, 4.0, and 7.0 as you might expect. The above statements only build the computation graph. These [tf.Tensor](https://tensorflow.google.cn/api_docs/python/tf/Tensor) objects just represent the results of the operations that will be run.\n",
    "\n",
    "Each operation in a graph is given a unique name. This name is independent of the names the objects are assigned to in Python. Tensors are named after the operation that produces them followed by an output index, as in \"add:0\" above.\n",
    "\n",
    "### TensorBoard\n",
    "TensorFlow provides a utility called TensorBoard. One of TensorBoard's many capabilities is visualizing a computation graph. You can easily do this with a few simple commands.\n",
    "\n",
    "First you save the computation graph to a TensorBoard summary file as follows:"
   ]
  },
  {
   "cell_type": "code",
   "execution_count": 3,
   "metadata": {
    "collapsed": true
   },
   "outputs": [],
   "source": [
    "writer = tf.summary.FileWriter('.')\n",
    "writer.add_graph(tf.get_default_graph())"
   ]
  },
  {
   "cell_type": "markdown",
   "metadata": {},
   "source": [
    "This will produce an event file in the current directory with a name in the following format:"
   ]
  },
  {
   "cell_type": "code",
   "execution_count": null,
   "metadata": {
    "collapsed": true
   },
   "outputs": [],
   "source": [
    "events.out.tfevents.{timestamp}.{hostname}"
   ]
  },
  {
   "cell_type": "markdown",
   "metadata": {},
   "source": [
    "Now, in a new terminal, launch TensorBoard with the following shell command:"
   ]
  },
  {
   "cell_type": "code",
   "execution_count": null,
   "metadata": {},
   "outputs": [],
   "source": [
    "!powershell -command \"tensorboard --logdir .\""
   ]
  },
  {
   "cell_type": "markdown",
   "metadata": {},
   "source": [
    "Then open TensorBoard's [graphs page](http://localhost:6006/#graphs) in your browser, and you should see a graph similar to the following:\n",
    "\n",
    "![](https://tensorflow.google.cn/images/getting_started_add.png)\n",
    "\n",
    "For more about TensorBoard's graph visualization tools see [TensorBoard: Graph Visualization](https://tensorflow.google.cn/programmers_guide/graph_viz).\n",
    "\n",
    "### Session\n",
    "To evaluate tensors, instantiate a [tf.Session](https://tensorflow.google.cn/api_docs/python/tf/Session) object, informally known as a **session**. A session encapsulates the state of the TensorFlow runtime, and runs TensorFlow operations. If a [tf.Graph](https://tensorflow.google.cn/api_docs/python/tf/Graph) is like a .py file, a [tf.Session](https://tensorflow.google.cn/api_docs/python/tf/Session) is like the python executable.\n",
    "\n",
    "The following code creates a [tf.Session](https://tensorflow.google.cn/api_docs/python/tf/Session) object and then invokes its run method to evaluate the total tensor we created above:"
   ]
  },
  {
   "cell_type": "code",
   "execution_count": 3,
   "metadata": {},
   "outputs": [
    {
     "name": "stdout",
     "output_type": "stream",
     "text": [
      "7.0\n"
     ]
    }
   ],
   "source": [
    "sess = tf.Session()\n",
    "print(sess.run(total))"
   ]
  },
  {
   "cell_type": "markdown",
   "metadata": {},
   "source": [
    "When you request the output of a node with Session.run TensorFlow backtracks through the graph and runs all the nodes that provide input to the requested output node. So this prints the expected value of 7.0:"
   ]
  },
  {
   "cell_type": "markdown",
   "metadata": {},
   "source": [
    "You can pass multiple tensors to [tf.Session.run](https://tensorflow.google.cn/api_docs/python/tf/InteractiveSession#run). The run method transparently handles any combination of tuples or dictionaries, as in the following example:"
   ]
  },
  {
   "cell_type": "code",
   "execution_count": 4,
   "metadata": {},
   "outputs": [
    {
     "name": "stdout",
     "output_type": "stream",
     "text": [
      "{'ab': (3.0, 4.0), 'total': 7.0}\n"
     ]
    }
   ],
   "source": [
    "print(sess.run({'ab':(a, b), 'total':total}))"
   ]
  },
  {
   "cell_type": "markdown",
   "metadata": {},
   "source": [
    "which returns the results in a structure of the same layout.\n",
    "\n",
    "During a call to [tf.Session.run](https://tensorflow.google.cn/api_docs/python/tf/InteractiveSession#run) any [tf.Tensor](https://tensorflow.google.cn/api_docs/python/tf/InteractiveSession#run) only has a single value. For example, the following code calls [tf.random_uniform](https://tensorflow.google.cn/api_docs/python/tf/random_uniform) to produce a [tf.Tensor](https://tensorflow.google.cn/api_docs/python/tf/Tensor) that generates a random 3-element vector (with values in [0,1)):"
   ]
  },
  {
   "cell_type": "code",
   "execution_count": 5,
   "metadata": {},
   "outputs": [
    {
     "name": "stdout",
     "output_type": "stream",
     "text": [
      "[0.65979254 0.6832545  0.8257053 ]\n",
      "[0.14101684 0.717504   0.46363175]\n",
      "(array([1.8645155, 1.0823534, 1.7918994], dtype=float32), array([2.8645155, 2.0823534, 2.7918994], dtype=float32))\n"
     ]
    }
   ],
   "source": [
    "vec = tf.random_uniform(shape=(3,))\n",
    "out1 = vec + 1\n",
    "out2 = vec + 2\n",
    "print(sess.run(vec))\n",
    "print(sess.run(vec))\n",
    "print(sess.run((out1, out2)))"
   ]
  },
  {
   "cell_type": "markdown",
   "metadata": {},
   "source": [
    "The result shows a different random value on each call to run, but a consistent value during a single run (out1 and out2 receive the same random input).\n",
    "\n",
    "Some TensorFlow functions return tf.Operations instead of tf.Tensors. The result of calling run on an Operation is None. You run an operation to cause a side-effect, not to retrieve a value. Examples of this include the [initialization](https://tensorflow.google.cn/programmers_guide/low_level_intro#Initializing%20Layers), and [training](https://tensorflow.google.cn/programmers_guide/low_level_intro#Training) ops demonstrated later.\n",
    "\n",
    "### Feeding\n",
    "As it stands, this graph is not especially interesting because it always produces a constant result. A graph can be parameterized to accept external inputs, known as **placeholder**. A **placeholder** is a promise to provide a value later, like a function argument."
   ]
  },
  {
   "cell_type": "code",
   "execution_count": 6,
   "metadata": {
    "collapsed": true
   },
   "outputs": [],
   "source": [
    "x = tf.placeholder(tf.float32)\n",
    "y = tf.placeholder(tf.float32)\n",
    "z = x + y"
   ]
  },
  {
   "cell_type": "markdown",
   "metadata": {},
   "source": [
    "The preceding three lines are a bit like a function in which we define two input parameters (x and y) and then an operation on them. We can evaluate this graph with multiple inputs by using the feed_dict argument of the [run method](https://tensorflow.google.cn/api_docs/python/tf/InteractiveSession#run) to feed concrete values to the placeholders:"
   ]
  },
  {
   "cell_type": "code",
   "execution_count": 7,
   "metadata": {},
   "outputs": [
    {
     "name": "stdout",
     "output_type": "stream",
     "text": [
      "7.5\n",
      "[3. 7.]\n"
     ]
    }
   ],
   "source": [
    "print(sess.run(z, feed_dict={x: 3, y: 4.5}))\n",
    "print(sess.run(z, feed_dict={x: [1, 3], y: [2, 4]}))"
   ]
  },
  {
   "cell_type": "markdown",
   "metadata": {},
   "source": [
    "Also note that the feed_dict argument can be used to overwrite any tensor in the graph. The only difference between placeholders and other tf.Tensors is that placeholders throw an error if no value is fed to them.\n",
    "\n",
    "## Datasets\n",
    "Placeholders work for simple experiments, but [Datasets](https://tensorflow.google.cn/api_docs/python/tf/data) are the preferred method of streaming data into a model.\n",
    "\n",
    "To get a runnable [tf.Tensor](https://tensorflow.google.cn/api_docs/python/tf/Tensor) from a Dataset you must first convert it to a [tf.data.Iterator](https://tensorflow.google.cn/api_docs/python/tf/data/Iterator), and then call the Iterator's [get_next](https://tensorflow.google.cn/api_docs/python/tf/data/Iterator#get_next) method.\n",
    "\n",
    "The simplest way to create an Iterator is with the [make_one_shot_iterator](https://tensorflow.google.cn/api_docs/python/tf/data/Dataset#make_one_shot_iterator) method. For example, in the following code the next_item tensor will return a row from the my_data array on each run call:"
   ]
  },
  {
   "cell_type": "code",
   "execution_count": 9,
   "metadata": {},
   "outputs": [],
   "source": [
    "my_data = [\n",
    "    [0, 1,],\n",
    "    [2, 3,],\n",
    "    [4, 5,],\n",
    "    [6, 7,],\n",
    "]\n",
    "slices = tf.data.Dataset.from_tensor_slices(my_data)\n",
    "next_item = slices.make_one_shot_iterator().get_next()"
   ]
  },
  {
   "cell_type": "markdown",
   "metadata": {},
   "source": [
    "Reaching the end of the data stream causes Dataset to throw an [OutOfRangeError](https://tensorflow.google.cn/api_docs/python/tf/errors/OutOfRangeError). For example, the following code reads the next_item until there is no more data to read:"
   ]
  },
  {
   "cell_type": "code",
   "execution_count": 10,
   "metadata": {},
   "outputs": [
    {
     "name": "stdout",
     "output_type": "stream",
     "text": [
      "[0 1]\n",
      "[2 3]\n",
      "[4 5]\n",
      "[6 7]\n"
     ]
    }
   ],
   "source": [
    "while True:\n",
    "    try:\n",
    "        print(sess.run(next_item))\n",
    "    except tf.errors.OutOfRangeError:\n",
    "        break"
   ]
  },
  {
   "cell_type": "markdown",
   "metadata": {},
   "source": [
    "If the Dataset depends on stateful operations you may need to initialize the iterator before using it, as shown below:"
   ]
  },
  {
   "cell_type": "code",
   "execution_count": 11,
   "metadata": {},
   "outputs": [
    {
     "name": "stdout",
     "output_type": "stream",
     "text": [
      "[ 0.7997934   0.21009223 -0.63029647]\n",
      "[-0.5588665  -0.33276817 -0.7536564 ]\n",
      "[ 0.28292245 -0.4471136   0.4242405 ]\n",
      "[ 0.9862797  -0.3605647   0.21552457]\n",
      "[1.5888007  0.3366526  0.36542574]\n",
      "[-0.04544698  0.6700727   1.0574926 ]\n",
      "[ 0.13024512 -1.0903742  -0.28296775]\n",
      "[-0.53716516  0.26571345  1.4538085 ]\n",
      "[-0.86609554  0.33431113  0.55967844]\n",
      "[ 1.8626319 -1.1030481  0.2085993]\n"
     ]
    }
   ],
   "source": [
    "r = tf.random_normal([10, 3])\n",
    "dataset = tf.data.Dataset.from_tensor_slices(r)\n",
    "iterator = dataset.make_initializable_iterator()\n",
    "next_row = iterator.get_next()\n",
    "\n",
    "sess.run(iterator.initializer)\n",
    "while True:\n",
    "    try:\n",
    "        print(sess.run(next_row))\n",
    "    except tf.errors.OutOfRangeError:\n",
    "        break"
   ]
  },
  {
   "cell_type": "markdown",
   "metadata": {},
   "source": [
    "For more details on Datasets and Iterators see: [Importing Data](https://tensorflow.google.cn/programmers_guide/datasets).\n",
    "\n",
    "## Layers\n",
    "A trainable model must modify the values in the graph to get new outputs with the same input. [Layers](https://tensorflow.google.cn/api_docs/python/tf/layers) are the preferred way to add trainable parameters to a graph.\n",
    "\n",
    "Layers package together both the variables and the operations that act on them. For example a [densely-connected layer](https://developers.google.cn/machine-learning/glossary/#fully_connected_layer) performs a weighted sum across all inputs for each output and applies an optional [activation function](https://developers.google.cn/machine-learning/glossary/#activation_function). The connection weights and biases are managed by the layer object.\n",
    "\n",
    "### Creating Layers\n",
    "The following code creates a [Dense](https://tensorflow.google.cn/api_docs/python/tf/layers/Dense) layer that takes a batch of input vectors, and produces a single output value for each. To apply a layer to an input, call the layer as if it were a function. For example:"
   ]
  },
  {
   "cell_type": "code",
   "execution_count": 13,
   "metadata": {
    "collapsed": true
   },
   "outputs": [],
   "source": [
    "x = tf.placeholder(tf.float32, shape=[None, 3])\n",
    "linear_model = tf.layers.Dense(units=1)\n",
    "y = linear_model(x)"
   ]
  },
  {
   "cell_type": "markdown",
   "metadata": {},
   "source": [
    "The layer inspects its input to determine sizes for its internal variables. So here we must set the shape of the x placeholder so that the layer can build a weight matrix of the correct size.\n",
    "\n",
    "Now that we have defined the calculation of the output, y, there is one more detail we need to take care of before we run the calculation.\n",
    "\n",
    "### Initializing Layers\n",
    "The layer contains variables that must be **initialized** before they can be used. While it is possible to initialize variables individually, you can easily initialize all the variables in a TensorFlow graph as follows:"
   ]
  },
  {
   "cell_type": "code",
   "execution_count": 14,
   "metadata": {
    "collapsed": true
   },
   "outputs": [],
   "source": [
    "init = tf.global_variables_initializer()\n",
    "sess.run(init)"
   ]
  },
  {
   "cell_type": "markdown",
   "metadata": {},
   "source": [
    "> Important: Calling tf.global_variables_initializer only creates and returns a handle to a TensorFlow operation. That op will initialize all the global variables when we run it with tf.Session.run.\n",
    "\n",
    "Also note that this global_variables_initializer only initializes variables that existed in the graph when the initializer was created. So the initializer should be one of the last things added during graph construction.\n",
    "\n",
    "### Executing Layers\n",
    "Now that the layer is initialized, we can evaluate the linear_model's output tensor as we would any other tensor. For example, the following code:"
   ]
  },
  {
   "cell_type": "code",
   "execution_count": 15,
   "metadata": {},
   "outputs": [
    {
     "name": "stdout",
     "output_type": "stream",
     "text": [
      "[[-1.5315462]\n",
      " [-4.045455 ]]\n"
     ]
    }
   ],
   "source": [
    "print(sess.run(y, {x: [[1, 2, 3],[4, 5, 6]]}))"
   ]
  },
  {
   "cell_type": "markdown",
   "metadata": {},
   "source": [
    "will generate a two-element output vector such as the above.\n",
    "\n",
    "### Layer Function shortcuts\n",
    "For each layer class (like [tf.layers.Dense](https://tensorflow.google.cn/api_docs/python/tf/layers/Dense)) TensorFlow also supplies a shortcut function (like [tf.layers.dense](https://tensorflow.google.cn/api_docs/python/tf/layers/dense)). The only difference is that the shortcut function versions create and run the layer in a single call. For example, the following code is equivalent to the earlier version:"
   ]
  },
  {
   "cell_type": "code",
   "execution_count": 16,
   "metadata": {},
   "outputs": [
    {
     "name": "stdout",
     "output_type": "stream",
     "text": [
      "[[-4.419561]\n",
      " [-9.330349]]\n"
     ]
    }
   ],
   "source": [
    "x = tf.placeholder(tf.float32, shape=[None, 3])\n",
    "y = tf.layers.dense(x, units=1)\n",
    "\n",
    "init = tf.global_variables_initializer()\n",
    "sess.run(init)\n",
    "\n",
    "print(sess.run(y, {x: [[1, 2, 3], [4, 5, 6]]}))"
   ]
  },
  {
   "cell_type": "markdown",
   "metadata": {},
   "source": [
    "While convenient, this approach allows no access to the [tf.layers.Layer](https://tensorflow.google.cn/api_docs/python/tf/layers/Layer) object. This makes introspection and debugging more difficult, and layer reuse impossible.\n",
    "\n",
    "## Feature columns\n",
    "The easiest way to experiment with feature columns is using the [tf.feature_column.input_layer](https://tensorflow.google.cn/api_docs/python/tf/feature_column/input_layer) function. This function only accepts [dense columns](https://tensorflow.google.cn/get_started/feature_columns) as inputs, so to view the result of a categorical column you must wrap it in an [tf.feature_column.indicator_column](https://tensorflow.google.cn/api_docs/python/tf/feature_column/indicator_column). For example:"
   ]
  },
  {
   "cell_type": "code",
   "execution_count": 17,
   "metadata": {
    "collapsed": true
   },
   "outputs": [],
   "source": [
    "features = {\n",
    "    'sales' : [[5], [10], [8], [9]],\n",
    "    'department': ['sports', 'sports', 'gardening', 'gardening']}\n",
    "\n",
    "department_column = tf.feature_column.categorical_column_with_vocabulary_list(\n",
    "                'department', ['sports', 'gardening'])\n",
    "department_column = tf.feature_column.indicator_column(department_column)\n",
    "\n",
    "columns = [\n",
    "        tf.feature_column.numeric_column('sales'),\n",
    "        department_column\n",
    "]\n",
    "\n",
    "inputs = tf.feature_column.input_layer(features, columns)"
   ]
  },
  {
   "cell_type": "markdown",
   "metadata": {},
   "source": [
    "Running the inputs tensor will parse the features into a batch of vectors.\n",
    "\n",
    "Feature columns can have internal state, like layers, so they often need to be initialized. Categorical columns use [lookup tables](https://tensorflow.google.cn/api_docs/python/tf/contrib/lookup) internally and these require a separate initialization op, [tf.tables_initializer](https://tensorflow.google.cn/api_docs/python/tf/tables_initializer)."
   ]
  },
  {
   "cell_type": "code",
   "execution_count": 19,
   "metadata": {},
   "outputs": [
    {
     "data": {
      "text/plain": [
       "(None, None)"
      ]
     },
     "execution_count": 19,
     "metadata": {},
     "output_type": "execute_result"
    }
   ],
   "source": [
    "var_init = tf.global_variables_initializer()\n",
    "table_init = tf.tables_initializer()\n",
    "sess = tf.Session()\n",
    "sess.run((var_init, table_init))"
   ]
  },
  {
   "cell_type": "markdown",
   "metadata": {},
   "source": [
    "Once the internal state has been initialized you can run inputs like any other [tf.Tensor](https://tensorflow.google.cn/api_docs/python/tf/Tensor):"
   ]
  },
  {
   "cell_type": "code",
   "execution_count": 20,
   "metadata": {},
   "outputs": [
    {
     "name": "stdout",
     "output_type": "stream",
     "text": [
      "[[ 1.  0.  5.]\n",
      " [ 1.  0. 10.]\n",
      " [ 0.  1.  8.]\n",
      " [ 0.  1.  9.]]\n"
     ]
    }
   ],
   "source": [
    "print(sess.run(inputs))"
   ]
  },
  {
   "cell_type": "markdown",
   "metadata": {},
   "source": [
    "Above ouputs shows how the feature columns have packed the input vectors, with the one-hot \"department\" as the first two indices and \"sales\" as the third.\n",
    "\n",
    "## Training\n",
    "Now that you're familiar with the basics of core TensorFlow, let's train a small regression model manually.\n",
    "\n",
    "### Define the data\n",
    "First let's define some inputs, x, and the expected output for each input, y_true:"
   ]
  },
  {
   "cell_type": "code",
   "execution_count": 21,
   "metadata": {
    "collapsed": true
   },
   "outputs": [],
   "source": [
    "x = tf.constant([[1], [2], [3], [4]], dtype=tf.float32)\n",
    "y_true = tf.constant([[0], [-1], [-2], [-3]], dtype=tf.float32)"
   ]
  },
  {
   "cell_type": "markdown",
   "metadata": {},
   "source": [
    "### Define the model\n",
    "Next, build a simple linear model, with 1 output:"
   ]
  },
  {
   "cell_type": "code",
   "execution_count": 22,
   "metadata": {
    "collapsed": true
   },
   "outputs": [],
   "source": [
    "linear_model = tf.layers.Dense(units=1)\n",
    "\n",
    "y_pred = linear_model(x)"
   ]
  },
  {
   "cell_type": "markdown",
   "metadata": {},
   "source": [
    "You can evaluate the predictions as follows:"
   ]
  },
  {
   "cell_type": "code",
   "execution_count": 23,
   "metadata": {},
   "outputs": [
    {
     "name": "stdout",
     "output_type": "stream",
     "text": [
      "[[-0.77852106]\n",
      " [-1.5570421 ]\n",
      " [-2.3355632 ]\n",
      " [-3.1140842 ]]\n"
     ]
    }
   ],
   "source": [
    "sess = tf.Session()\n",
    "init = tf.global_variables_initializer()\n",
    "sess.run(init)\n",
    "\n",
    "print(sess.run(y_pred))"
   ]
  },
  {
   "cell_type": "markdown",
   "metadata": {},
   "source": [
    "The model hasn't yet been trained, so the four \"predicted\" values aren't very good. Here's what we got; your own output will almost certainly differ.\n",
    "\n",
    "### Loss\n",
    "To optimize a model, you first need to define the loss. We'll use the mean square error, a standard loss for regression problems.\n",
    "\n",
    "While you could do this manually with lower level math operations, the tf.losses module provides a set of common loss functions. You can use it to calculate the mean square error as follows:"
   ]
  },
  {
   "cell_type": "code",
   "execution_count": 24,
   "metadata": {},
   "outputs": [
    {
     "name": "stdout",
     "output_type": "stream",
     "text": [
      "0.26050222\n"
     ]
    }
   ],
   "source": [
    "loss = tf.losses.mean_squared_error(labels=y_true, predictions=y_pred)\n",
    "\n",
    "print(sess.run(loss))"
   ]
  },
  {
   "cell_type": "markdown",
   "metadata": {},
   "source": [
    "This will produce a loss value, something like above.\n",
    "\n",
    "### Training\n",
    "TensorFlow provides [optimizers](https://developers.google.cn/machine-learning/glossary/#optimizer) implementing standard optimization algorithms. These are implemented as sub-classes of [tf.train.Optimizer](https://tensorflow.google.cn/api_docs/python/tf/train/Optimizer). They incrementally change each variable in order to minimize the loss. The simplest optimization algorithm is [gradient descent](https://developers.google.cn/machine-learning/glossary/#gradient_descent), implemented by [tf.train.GradientDescentOptimizer](https://tensorflow.google.cn/api_docs/python/tf/train/GradientDescentOptimizer). It modifies each variable according to the magnitude of the derivative of loss with respect to that variable. For example:"
   ]
  },
  {
   "cell_type": "code",
   "execution_count": 25,
   "metadata": {
    "collapsed": true
   },
   "outputs": [],
   "source": [
    "optimizer = tf.train.GradientDescentOptimizer(0.01)\n",
    "train = optimizer.minimize(loss)"
   ]
  },
  {
   "cell_type": "markdown",
   "metadata": {},
   "source": [
    "This code builds all the graph components necessary for the optimization, and returns a training operation. When run, the training op will update variables in the graph. You might run it as follows:"
   ]
  },
  {
   "cell_type": "code",
   "execution_count": 26,
   "metadata": {},
   "outputs": [
    {
     "name": "stdout",
     "output_type": "stream",
     "text": [
      "0.26050222\n",
      "0.22732387\n",
      "0.20402376\n",
      "0.18757954\n",
      "0.1758941\n",
      "0.16751242\n",
      "0.1614247\n",
      "0.15693039\n",
      "0.15354332\n",
      "0.15092608\n",
      "0.14884467\n",
      "0.14713666\n",
      "0.14568928\n",
      "0.14442435\n",
      "0.14328754\n",
      "0.14224121\n",
      "0.14125916\n",
      "0.14032333\n",
      "0.13942096\n",
      "0.13854343\n",
      "0.1376846\n",
      "0.13684022\n",
      "0.13600741\n",
      "0.13518403\n",
      "0.13436875\n",
      "0.13356046\n",
      "0.13275853\n",
      "0.13196239\n",
      "0.13117181\n",
      "0.13038638\n",
      "0.12960605\n",
      "0.1288306\n",
      "0.12805998\n",
      "0.12729406\n",
      "0.12653281\n",
      "0.12577617\n",
      "0.12502407\n",
      "0.12427651\n",
      "0.12353344\n",
      "0.12279483\n",
      "0.12206064\n",
      "0.121330835\n",
      "0.12060541\n",
      "0.11988433\n",
      "0.11916757\n",
      "0.11845507\n",
      "0.11774686\n",
      "0.11704285\n",
      "0.11634308\n",
      "0.11564748\n",
      "0.11495602\n",
      "0.114268735\n",
      "0.11358553\n",
      "0.112906426\n",
      "0.11223141\n",
      "0.11156039\n",
      "0.110893376\n",
      "0.11023036\n",
      "0.10957131\n",
      "0.10891622\n",
      "0.10826501\n",
      "0.107617706\n",
      "0.10697428\n",
      "0.10633469\n",
      "0.105698936\n",
      "0.10506696\n",
      "0.10443882\n",
      "0.10381438\n",
      "0.103193685\n",
      "0.102576725\n",
      "0.10196341\n",
      "0.101353794\n",
      "0.10074784\n",
      "0.100145474\n",
      "0.09954673\n",
      "0.09895152\n",
      "0.09835992\n",
      "0.09777184\n",
      "0.09718729\n",
      "0.09660621\n",
      "0.096028656\n",
      "0.09545447\n",
      "0.094883785\n",
      "0.09431648\n",
      "0.09375257\n",
      "0.093192056\n",
      "0.09263487\n",
      "0.09208102\n",
      "0.091530465\n",
      "0.09098326\n",
      "0.09043926\n",
      "0.08989856\n",
      "0.08936107\n",
      "0.088826776\n",
      "0.0882957\n",
      "0.08776777\n",
      "0.08724302\n",
      "0.08672141\n",
      "0.08620293\n",
      "0.085687526\n"
     ]
    }
   ],
   "source": [
    "for i in range(100):\n",
    "    _, loss_value = sess.run((train, loss))\n",
    "    print(loss_value)"
   ]
  },
  {
   "cell_type": "markdown",
   "metadata": {},
   "source": [
    "Since train is an op, not a tensor, it doesn't return a value when run. To see the progression of the loss during training, we run the loss tensor at the same time, producing output like the above.\n",
    "\n",
    "### Complete program"
   ]
  },
  {
   "cell_type": "code",
   "execution_count": 27,
   "metadata": {},
   "outputs": [
    {
     "name": "stdout",
     "output_type": "stream",
     "text": [
      "0.16676116\n",
      "0.16574056\n",
      "0.16473325\n",
      "0.16373701\n",
      "0.16275014\n",
      "0.16177163\n",
      "0.16080067\n",
      "0.15983662\n",
      "0.15887916\n",
      "0.157928\n",
      "0.15698287\n",
      "0.15604368\n",
      "0.15511027\n",
      "0.15418261\n",
      "0.15326057\n",
      "0.15234414\n",
      "0.1514332\n",
      "0.15052772\n",
      "0.14962766\n",
      "0.14873305\n",
      "0.1478438\n",
      "0.14695986\n",
      "0.14608118\n",
      "0.14520775\n",
      "0.14433962\n",
      "0.14347659\n",
      "0.14261876\n",
      "0.14176606\n",
      "0.1409185\n",
      "0.14007598\n",
      "0.13923846\n",
      "0.138406\n",
      "0.13757849\n",
      "0.13675591\n",
      "0.13593829\n",
      "0.13512552\n",
      "0.1343176\n",
      "0.13351457\n",
      "0.1327163\n",
      "0.13192281\n",
      "0.13113406\n",
      "0.13035002\n",
      "0.12957066\n",
      "0.128796\n",
      "0.12802596\n",
      "0.12726052\n",
      "0.12649961\n",
      "0.1257433\n",
      "0.12499151\n",
      "0.12424423\n",
      "0.12350138\n",
      "0.12276298\n",
      "0.12202899\n",
      "0.12129942\n",
      "0.120574184\n",
      "0.11985331\n",
      "0.11913668\n",
      "0.1184244\n",
      "0.11771634\n",
      "0.11701255\n",
      "0.116312966\n",
      "0.11561752\n",
      "0.11492628\n",
      "0.114239156\n",
      "0.11355614\n",
      "0.112877205\n",
      "0.11220233\n",
      "0.11153147\n",
      "0.110864654\n",
      "0.110201806\n",
      "0.10954291\n",
      "0.10888797\n",
      "0.10823695\n",
      "0.10758985\n",
      "0.10694659\n",
      "0.106307164\n",
      "0.10567157\n",
      "0.10503976\n",
      "0.10441175\n",
      "0.103787504\n",
      "0.10316696\n",
      "0.10255015\n",
      "0.10193701\n",
      "0.101327576\n",
      "0.10072173\n",
      "0.10011956\n",
      "0.09952093\n",
      "0.09892592\n",
      "0.09833444\n",
      "0.09774652\n",
      "0.09716209\n",
      "0.096581176\n",
      "0.096003756\n",
      "0.09542974\n",
      "0.094859205\n",
      "0.09429203\n",
      "0.093728304\n",
      "0.09316791\n",
      "0.09261087\n",
      "0.09205718\n",
      "[[-0.48844552]\n",
      " [-1.2366854 ]\n",
      " [-1.9849252 ]\n",
      " [-2.7331653 ]]\n"
     ]
    }
   ],
   "source": [
    "x = tf.constant([[1], [2], [3], [4]], dtype=tf.float32)\n",
    "y_true = tf.constant([[0], [-1], [-2], [-3]], dtype=tf.float32)\n",
    "\n",
    "linear_model = tf.layers.Dense(units=1)\n",
    "\n",
    "y_pred = linear_model(x)\n",
    "loss = tf.losses.mean_squared_error(labels=y_true, predictions=y_pred)\n",
    "\n",
    "optimizer = tf.train.GradientDescentOptimizer(0.01)\n",
    "train = optimizer.minimize(loss)\n",
    "\n",
    "init = tf.global_variables_initializer()\n",
    "\n",
    "sess = tf.Session()\n",
    "sess.run(init)\n",
    "for i in range(100):\n",
    "    _, loss_value = sess.run((train, loss))\n",
    "    print(loss_value)\n",
    "\n",
    "print(sess.run(y_pred))"
   ]
  },
  {
   "cell_type": "markdown",
   "metadata": {},
   "source": [
    "## Next steps\n",
    "To learn more about building models with TensorFlow consider the following:\n",
    "\n",
    "- [Custom Estimators](https://tensorflow.google.cn/get_started/custom_estimators), to learn how to build customized models with TensorFlow. Your knowledge of TensorFlow Core will help you understand and debug your own models.\n",
    "If you want to learn more about the inner workings of TensorFlow consider the following documents, which go into more depth on many of the topics discussed here:\n",
    "\n",
    "- [Graphs and Sessions](https://tensorflow.google.cn/programmers_guide/graphs)\n",
    "- [Tensors](https://tensorflow.google.cn/programmers_guide/tensors)\n",
    "- [Variables](https://tensorflow.google.cn/programmers_guide/variables)"
   ]
  }
 ],
 "metadata": {
  "kernelspec": {
   "display_name": "Python 3",
   "language": "python",
   "name": "python3"
  },
  "language_info": {
   "codemirror_mode": {
    "name": "ipython",
    "version": 3
   },
   "file_extension": ".py",
   "mimetype": "text/x-python",
   "name": "python",
   "nbconvert_exporter": "python",
   "pygments_lexer": "ipython3",
   "version": "3.6.1"
  }
 },
 "nbformat": 4,
 "nbformat_minor": 2
}
