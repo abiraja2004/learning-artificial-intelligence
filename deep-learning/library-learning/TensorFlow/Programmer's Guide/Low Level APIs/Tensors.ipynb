{
 "cells": [
  {
   "cell_type": "markdown",
   "metadata": {},
   "source": [
    "# Tensors\n",
    "TensorFlow, as the name indicates, is a framework to define and run computations involving tensors. A **tensor** is a generalization of vectors and matrices to potentially higher dimensions. Internally, TensorFlow represents tensors as n-dimensional arrays of base datatypes.\n",
    "\n",
    "When writing a TensorFlow program, the main object you manipulate and pass around is the [tf.Tensor](https://tensorflow.google.cn/api_docs/python/tf/Tensor). A [tf.Tensor](https://tensorflow.google.cn/api_docs/python/tf/Tensor) object represents a partially defined computation that will eventually produce a value. TensorFlow programs work by first building a graph of [tf.Tensor](https://tensorflow.google.cn/api_docs/python/tf/Tensor) objects, detailing how each tensor is computed based on the other available tensors and then by running parts of this graph to achieve the desired results.\n",
    "\n",
    "A Rank\n",
    "The rank of a tf.Tensor object is its number of dimensions. Synonyms for rank include order or degree or n-dimension. Note that rank in TensorFlow is not the same as matrix rank in mathematics. As the following table shows, each rank in TensorFlow corresponds to a different mathematical entity: has the following properties:\n",
    "\n",
    "- a data type (float32, int32, or string, for example)\n",
    "- a shape\n",
    "\n",
    "Each element in the Tensor has the same data type, and the data type is always known. The shape (that is, the number of dimensions it has and the size of each dimension) might be only partially known. Most operations produce tensors of fully-known shapes if the shapes of their inputs are also fully known, but in some cases it's only possible to find the shape of a tensor at graph execution time.\n",
    "\n",
    "Some types of tensors are special, and these will be covered in other units of the Programmer's guide. The main ones are:\n",
    "\n",
    "- [tf.Variable](https://tensorflow.google.cn/api_docs/python/tf/Variable)\n",
    "- [tf.constant](https://tensorflow.google.cn/api_docs/python/tf/constant)\n",
    "- [tf.placeholder](https://tensorflow.google.cn/api_docs/python/tf/placeholder)\n",
    "- [tf.SparseTensor](https://tensorflow.google.cn/api_docs/python/tf/SparseTensor)\n",
    "\n",
    "With the exception of tf.Variable, the value of a tensor is immutable, which means that in the context of a single execution tensors only have a single value. However, evaluating the same tensor twice can return different values; for example that tensor can be the result of reading data from disk, or generating a random number.\n",
    "\n",
    "## Rank\n",
    "The **rank** of a [tf.Tensor](https://tensorflow.google.cn/api_docs/python/tf/Tensor) object is its number of dimensions. Synonyms for rank include **order** or **degree** or **n-dimension**. Note that rank in TensorFlow is not the same as matrix rank in mathematics. As the following table shows, each rank in TensorFlow corresponds to a different mathematical entity:\n",
    "\n",
    "| Rank | Math entity                      |\n",
    "|------|----------------------------------|\n",
    "| 0    | Scalar (magnitude only)          |\n",
    "| 1    | Vector (magnitude and direction) |\n",
    "| 2    | Matrix (table of numbers)        |\n",
    "| 3    | 3-Tensor (cube of numbers)       |\n",
    "| n    | n-Tensor (you get the idea)      |\n",
    "\n",
    "### Rank 0\n",
    "The following snippet demonstrates creating a few rank 0 variables:"
   ]
  },
  {
   "cell_type": "code",
   "execution_count": 1,
   "metadata": {},
   "outputs": [
    {
     "name": "stderr",
     "output_type": "stream",
     "text": [
      "C:\\Users\\Administrator\\Anaconda3\\lib\\site-packages\\h5py\\__init__.py:34: FutureWarning: Conversion of the second argument of issubdtype from `float` to `np.floating` is deprecated. In future, it will be treated as `np.float64 == np.dtype(float).type`.\n",
      "  from ._conv import register_converters as _register_converters\n"
     ]
    }
   ],
   "source": [
    "import tensorflow as tf\n",
    "\n",
    "mammal = tf.Variable('Elephant', tf.string)\n",
    "ignition = tf.Variable(451, tf.int16)\n",
    "floating = tf.Variable(3.14159265359, tf.float64)\n",
    "its_complicated = tf.Variable(12.3 - 4.85j, tf.complex64)"
   ]
  },
  {
   "cell_type": "markdown",
   "metadata": {},
   "source": [
    "> Note: A string is treated as a single item in TensorFlow, not as a sequence of characters. It is possible to have scalar strings, vectors of strings, etc.\n",
    "\n",
    "### Rank 1\n",
    "To create a rank 1 [tf.Tensor](https://tensorflow.google.cn/api_docs/python/tf/Tensor) object, you can pass a list of items as the initial value. For example:"
   ]
  },
  {
   "cell_type": "code",
   "execution_count": 2,
   "metadata": {
    "collapsed": true
   },
   "outputs": [],
   "source": [
    "mystr = tf.Variable([\"Hello\"], tf.string)\n",
    "cool_numbers  = tf.Variable([3.14159, 2.71828], tf.float32)\n",
    "first_primes = tf.Variable([2, 3, 5, 7, 11], tf.int32)\n",
    "its_very_complicated = tf.Variable([12.3 - 4.85j, 7.5 - 6.23j], tf.complex64)"
   ]
  },
  {
   "cell_type": "markdown",
   "metadata": {},
   "source": [
    "### Higher ranks\n",
    "A rank 2 [tf.Tensor](https://tensorflow.google.cn/api_docs/python/tf/Tensor) object consists of at least one row and at least one column:"
   ]
  },
  {
   "cell_type": "code",
   "execution_count": 3,
   "metadata": {
    "collapsed": true
   },
   "outputs": [],
   "source": [
    "mymat = tf.Variable([[7],[11]], tf.int16)\n",
    "myxor = tf.Variable([[False, True],[True, False]], tf.bool)\n",
    "linear_squares = tf.Variable([[4], [9], [16], [25]], tf.int32)\n",
    "squarish_squares = tf.Variable([ [4, 9], [16, 25] ], tf.int32)\n",
    "rank_of_squares =tf.rank(squarish_squares)\n",
    "mymatC = tf.Variable([[7],[11]], tf.int32)"
   ]
  },
  {
   "cell_type": "markdown",
   "metadata": {},
   "source": [
    "Higher-rank Tensors, similarly, consist of an n-dimensional array. For example, during image processing, many tensors of rank 4 are used, with dimensions corresponding to example-in-batch, image width, image height, and color channel."
   ]
  },
  {
   "cell_type": "code",
   "execution_count": 4,
   "metadata": {
    "collapsed": true
   },
   "outputs": [],
   "source": [
    "my_image = tf.zeros([10, 299, 299, 3])  # batch x height x width x color"
   ]
  },
  {
   "cell_type": "markdown",
   "metadata": {},
   "source": [
    "### Getting a tf.Tensor object's rank\n",
    "To determine the rank of a [tf.Tensor](https://tensorflow.google.cn/api_docs/python/tf/Tensor) object, call the [tf.rank](https://tensorflow.google.cn/api_docs/python/tf/rank) method. For example, the following method programmatically determines the rank of the [tf.Tensor](https://tensorflow.google.cn/api_docs/python/tf/Tensor) defined in the previous section:"
   ]
  },
  {
   "cell_type": "code",
   "execution_count": 5,
   "metadata": {
    "collapsed": true
   },
   "outputs": [],
   "source": [
    "r = tf.rank(my_image)\n",
    "# After the graph runs, r will hold the value 4."
   ]
  },
  {
   "cell_type": "markdown",
   "metadata": {},
   "source": [
    "### Referring to [tf.Tensor](https://tensorflow.google.cn/api_docs/python/tf/Tensor) slices\n",
    "Since a [tf.Tensor](https://tensorflow.google.cn/api_docs/python/tf/Tensor) is an n-dimensional array of cells, to access a single cell in a [tf.Tensor](https://tensorflow.google.cn/api_docs/python/tf/Tensor)  you need to specify n indices.\n",
    "\n",
    "For a rank 0 tensor (a scalar), no indices are necessary, since it is already a single number.\n",
    "\n",
    "For a rank 1 tensor (a vector), passing a single index allows you to access a number:"
   ]
  },
  {
   "cell_type": "code",
   "execution_count": null,
   "metadata": {
    "collapsed": true
   },
   "outputs": [],
   "source": [
    "my_scalar = my_vecotr[2]"
   ]
  },
  {
   "cell_type": "markdown",
   "metadata": {},
   "source": [
    "Note that the index passed inside the [] can itself be a scalar [tf.Tensor](https://tensorflow.google.cn/api_docs/python/tf/Tensor), if you want to dynamically choose an element from the vector.\n",
    "\n",
    "For tensors of rank 2 or higher, the situation is more interesting. For a [tf.Tensor](https://tensorflow.google.cn/api_docs/python/tf/Tensor) of rank 2, passing two numbers returns a scalar, as expected:"
   ]
  },
  {
   "cell_type": "code",
   "execution_count": null,
   "metadata": {
    "collapsed": true
   },
   "outputs": [],
   "source": [
    "my_scalar = my_matrix[1, 2]"
   ]
  },
  {
   "cell_type": "markdown",
   "metadata": {},
   "source": [
    "Passing a single number, however, returns a subvector of a matrix, as follows:"
   ]
  },
  {
   "cell_type": "code",
   "execution_count": null,
   "metadata": {
    "collapsed": true
   },
   "outputs": [],
   "source": [
    "my_row_vector = my_matrix[2]\n",
    "my_column_vector = my_matrix[:, 3]"
   ]
  },
  {
   "cell_type": "markdown",
   "metadata": {},
   "source": [
    "The : notation is python slicing syntax for \"leave this dimension alone\". This is useful in higher-rank Tensors, as it allows you to access its subvectors, submatrices, and even other subtensors.\n",
    "\n",
    "## Shape\n",
    "The **shape** of a tensor is the number of elements in each dimension. TensorFlow automatically infers shapes during graph construction. These inferred shapes might have known or unknown rank. If the rank is known, the sizes of each dimension might be known or unknown.\n",
    "\n",
    "The TensorFlow documentation uses three notational conventions to describe tensor dimensionality: rank, shape, and dimension number. The following table shows how these relate to one another:\n",
    "\n",
    "| Rank | Shape              | Dimension number | Example                                 |\n",
    "|------|--------------------|------------------|-----------------------------------------|\n",
    "| 0    | []                 | 0-D              | A 0-D tensor. A scalar.                 |\n",
    "| 1    | [D0]               | 1-D              | A 1-D tensor with shape [5].            |\n",
    "| 2    | [D0, D1]           | 2-D              | A 2-D tensor with shape [3, 4].         |\n",
    "| 3    | [D0, D1, D2]       | 3-D              | A 3-D tensor with shape [1, 4, 3].      |\n",
    "| n    | [D0, D1, ... Dn-1] | n-D              | A tensor with shape [D0, D1, ... Dn-1]. |\n",
    "\n",
    "Shapes can be represented via Python lists / tuples of ints, or with the [tf.TensorShape](https://tensorflow.google.cn/api_docs/python/tf/TensorShape).\n",
    "\n",
    "### Getting a [tf.Tensor](https://tensorflow.google.cn/api_docs/python/tf/Tensor) object's shape\n",
    "There are two ways of accessing the shape of a [tf.Tensor](https://tensorflow.google.cn/api_docs/python/tf/Tensor). While building the graph, it is often useful to ask what is already known about a tensor's shape. This can be done by reading the shape property of a [tf.Tensor](https://tensorflow.google.cn/api_docs/python/tf/Tensor) object. This method returns a TensorShape object, which is a convenient way of representing partially-specified shapes (since, when building the graph, not all shapes will be fully known).\n",
    "\n",
    "It is also possible to get a [tf.Tensor](https://tensorflow.google.cn/api_docs/python/tf/Tensor) that will represent the fully-defined shape of another [tf.Tensor](https://tensorflow.google.cn/api_docs/python/tf/Tensor) at runtime. This is done by calling the [tf.shape](https://tensorflow.google.cn/api_docs/python/tf/shape) operation. This way, you can build a graph that manipulates the shapes of tensors by building other tensors that depend on the dynamic shape of the input [tf.Tensor](https://tensorflow.google.cn/api_docs/python/tf/Tensor).\n",
    "\n",
    "For example, here is how to make a vector of zeros with the same size as the number of columns in a given matrix:"
   ]
  },
  {
   "cell_type": "code",
   "execution_count": null,
   "metadata": {
    "collapsed": true
   },
   "outputs": [],
   "source": [
    "zeros = tf.zeros(my_matrix.shape[1])"
   ]
  },
  {
   "cell_type": "markdown",
   "metadata": {},
   "source": [
    "### Changing the shape of a [tf.Tensor](https://tensorflow.google.cn/api_docs/python/tf/Tensor)\n",
    "The **number of elements** of a tensor is the product of the sizes of all its shapes. The number of elements of a scalar is always 1. Since there are often many different shapes that have the same number of elements, it's often convenient to be able to change the shape of a [tf.Tensor](https://tensorflow.google.cn/api_docs/python/tf/Tensor), keeping its elements fixed. This can be done with [tf.reshape](https://tensorflow.google.cn/api_docs/python/tf/reshape).\n",
    "\n",
    "The following examples demonstrate how to reshape tensors:"
   ]
  },
  {
   "cell_type": "code",
   "execution_count": 6,
   "metadata": {},
   "outputs": [
    {
     "ename": "ValueError",
     "evalue": "Dimension size must be evenly divisible by 26 but is 60 for 'Reshape_3' (op: 'Reshape') with input shapes: [4,3,5], [3] and with input tensors computed as partial shapes: input[1] = [13,2,?].",
     "output_type": "error",
     "traceback": [
      "\u001b[1;31m---------------------------------------------------------------------------\u001b[0m",
      "\u001b[1;31mInvalidArgumentError\u001b[0m                      Traceback (most recent call last)",
      "\u001b[1;32mC:\\Users\\Administrator\\Anaconda3\\lib\\site-packages\\tensorflow\\python\\framework\\ops.py\u001b[0m in \u001b[0;36m_create_c_op\u001b[1;34m(graph, node_def, inputs, control_inputs)\u001b[0m\n\u001b[0;32m   1566\u001b[0m   \u001b[1;32mtry\u001b[0m\u001b[1;33m:\u001b[0m\u001b[1;33m\u001b[0m\u001b[0m\n\u001b[1;32m-> 1567\u001b[1;33m     \u001b[0mc_op\u001b[0m \u001b[1;33m=\u001b[0m \u001b[0mc_api\u001b[0m\u001b[1;33m.\u001b[0m\u001b[0mTF_FinishOperation\u001b[0m\u001b[1;33m(\u001b[0m\u001b[0mop_desc\u001b[0m\u001b[1;33m)\u001b[0m\u001b[1;33m\u001b[0m\u001b[0m\n\u001b[0m\u001b[0;32m   1568\u001b[0m   \u001b[1;32mexcept\u001b[0m \u001b[0merrors\u001b[0m\u001b[1;33m.\u001b[0m\u001b[0mInvalidArgumentError\u001b[0m \u001b[1;32mas\u001b[0m \u001b[0me\u001b[0m\u001b[1;33m:\u001b[0m\u001b[1;33m\u001b[0m\u001b[0m\n",
      "\u001b[1;31mInvalidArgumentError\u001b[0m: Dimension size must be evenly divisible by 26 but is 60 for 'Reshape_3' (op: 'Reshape') with input shapes: [4,3,5], [3] and with input tensors computed as partial shapes: input[1] = [13,2,?].",
      "\nDuring handling of the above exception, another exception occurred:\n",
      "\u001b[1;31mValueError\u001b[0m                                Traceback (most recent call last)",
      "\u001b[1;32m<ipython-input-6-e9ba3ba8c7a0>\u001b[0m in \u001b[0;36m<module>\u001b[1;34m()\u001b[0m\n\u001b[0;32m     12\u001b[0m \u001b[1;31m# error because no possible value for the last dimension will match the number\u001b[0m\u001b[1;33m\u001b[0m\u001b[1;33m\u001b[0m\u001b[0m\n\u001b[0;32m     13\u001b[0m \u001b[1;31m# of elements.\u001b[0m\u001b[1;33m\u001b[0m\u001b[1;33m\u001b[0m\u001b[0m\n\u001b[1;32m---> 14\u001b[1;33m \u001b[0myet_another\u001b[0m \u001b[1;33m=\u001b[0m \u001b[0mtf\u001b[0m\u001b[1;33m.\u001b[0m\u001b[0mreshape\u001b[0m\u001b[1;33m(\u001b[0m\u001b[0mmatrixAlt\u001b[0m\u001b[1;33m,\u001b[0m \u001b[1;33m[\u001b[0m\u001b[1;36m13\u001b[0m\u001b[1;33m,\u001b[0m \u001b[1;36m2\u001b[0m\u001b[1;33m,\u001b[0m \u001b[1;33m-\u001b[0m\u001b[1;36m1\u001b[0m\u001b[1;33m]\u001b[0m\u001b[1;33m)\u001b[0m  \u001b[1;31m# ERROR!\u001b[0m\u001b[1;33m\u001b[0m\u001b[0m\n\u001b[0m",
      "\u001b[1;32mC:\\Users\\Administrator\\Anaconda3\\lib\\site-packages\\tensorflow\\python\\ops\\gen_array_ops.py\u001b[0m in \u001b[0;36mreshape\u001b[1;34m(tensor, shape, name)\u001b[0m\n\u001b[0;32m   7321\u001b[0m   \u001b[1;32mif\u001b[0m \u001b[0m_ctx\u001b[0m \u001b[1;32mis\u001b[0m \u001b[1;32mNone\u001b[0m \u001b[1;32mor\u001b[0m \u001b[1;32mnot\u001b[0m \u001b[0m_ctx\u001b[0m\u001b[1;33m.\u001b[0m\u001b[0m_eager_context\u001b[0m\u001b[1;33m.\u001b[0m\u001b[0mis_eager\u001b[0m\u001b[1;33m:\u001b[0m\u001b[1;33m\u001b[0m\u001b[0m\n\u001b[0;32m   7322\u001b[0m     _, _, _op = _op_def_lib._apply_op_helper(\n\u001b[1;32m-> 7323\u001b[1;33m         \"Reshape\", tensor=tensor, shape=shape, name=name)\n\u001b[0m\u001b[0;32m   7324\u001b[0m     \u001b[0m_result\u001b[0m \u001b[1;33m=\u001b[0m \u001b[0m_op\u001b[0m\u001b[1;33m.\u001b[0m\u001b[0moutputs\u001b[0m\u001b[1;33m[\u001b[0m\u001b[1;33m:\u001b[0m\u001b[1;33m]\u001b[0m\u001b[1;33m\u001b[0m\u001b[0m\n\u001b[0;32m   7325\u001b[0m     \u001b[0m_inputs_flat\u001b[0m \u001b[1;33m=\u001b[0m \u001b[0m_op\u001b[0m\u001b[1;33m.\u001b[0m\u001b[0minputs\u001b[0m\u001b[1;33m\u001b[0m\u001b[0m\n",
      "\u001b[1;32mC:\\Users\\Administrator\\Anaconda3\\lib\\site-packages\\tensorflow\\python\\framework\\op_def_library.py\u001b[0m in \u001b[0;36m_apply_op_helper\u001b[1;34m(self, op_type_name, name, **keywords)\u001b[0m\n\u001b[0;32m    785\u001b[0m         op = g.create_op(op_type_name, inputs, output_types, name=scope,\n\u001b[0;32m    786\u001b[0m                          \u001b[0minput_types\u001b[0m\u001b[1;33m=\u001b[0m\u001b[0minput_types\u001b[0m\u001b[1;33m,\u001b[0m \u001b[0mattrs\u001b[0m\u001b[1;33m=\u001b[0m\u001b[0mattr_protos\u001b[0m\u001b[1;33m,\u001b[0m\u001b[1;33m\u001b[0m\u001b[0m\n\u001b[1;32m--> 787\u001b[1;33m                          op_def=op_def)\n\u001b[0m\u001b[0;32m    788\u001b[0m       \u001b[1;32mreturn\u001b[0m \u001b[0moutput_structure\u001b[0m\u001b[1;33m,\u001b[0m \u001b[0mop_def\u001b[0m\u001b[1;33m.\u001b[0m\u001b[0mis_stateful\u001b[0m\u001b[1;33m,\u001b[0m \u001b[0mop\u001b[0m\u001b[1;33m\u001b[0m\u001b[0m\n\u001b[0;32m    789\u001b[0m \u001b[1;33m\u001b[0m\u001b[0m\n",
      "\u001b[1;32mC:\\Users\\Administrator\\Anaconda3\\lib\\site-packages\\tensorflow\\python\\framework\\ops.py\u001b[0m in \u001b[0;36mcreate_op\u001b[1;34m(self, op_type, inputs, dtypes, input_types, name, attrs, op_def, compute_shapes, compute_device)\u001b[0m\n\u001b[0;32m   3390\u001b[0m           \u001b[0minput_types\u001b[0m\u001b[1;33m=\u001b[0m\u001b[0minput_types\u001b[0m\u001b[1;33m,\u001b[0m\u001b[1;33m\u001b[0m\u001b[0m\n\u001b[0;32m   3391\u001b[0m           \u001b[0moriginal_op\u001b[0m\u001b[1;33m=\u001b[0m\u001b[0mself\u001b[0m\u001b[1;33m.\u001b[0m\u001b[0m_default_original_op\u001b[0m\u001b[1;33m,\u001b[0m\u001b[1;33m\u001b[0m\u001b[0m\n\u001b[1;32m-> 3392\u001b[1;33m           op_def=op_def)\n\u001b[0m\u001b[0;32m   3393\u001b[0m \u001b[1;33m\u001b[0m\u001b[0m\n\u001b[0;32m   3394\u001b[0m       \u001b[1;31m# Note: shapes are lazily computed with the C API enabled.\u001b[0m\u001b[1;33m\u001b[0m\u001b[1;33m\u001b[0m\u001b[0m\n",
      "\u001b[1;32mC:\\Users\\Administrator\\Anaconda3\\lib\\site-packages\\tensorflow\\python\\framework\\ops.py\u001b[0m in \u001b[0;36m__init__\u001b[1;34m(self, node_def, g, inputs, output_types, control_inputs, input_types, original_op, op_def)\u001b[0m\n\u001b[0;32m   1732\u001b[0m           op_def, inputs, node_def.attr)\n\u001b[0;32m   1733\u001b[0m       self._c_op = _create_c_op(self._graph, node_def, grouped_inputs,\n\u001b[1;32m-> 1734\u001b[1;33m                                 control_input_ops)\n\u001b[0m\u001b[0;32m   1735\u001b[0m     \u001b[1;32melse\u001b[0m\u001b[1;33m:\u001b[0m\u001b[1;33m\u001b[0m\u001b[0m\n\u001b[0;32m   1736\u001b[0m       \u001b[0mself\u001b[0m\u001b[1;33m.\u001b[0m\u001b[0m_c_op\u001b[0m \u001b[1;33m=\u001b[0m \u001b[1;32mNone\u001b[0m\u001b[1;33m\u001b[0m\u001b[0m\n",
      "\u001b[1;32mC:\\Users\\Administrator\\Anaconda3\\lib\\site-packages\\tensorflow\\python\\framework\\ops.py\u001b[0m in \u001b[0;36m_create_c_op\u001b[1;34m(graph, node_def, inputs, control_inputs)\u001b[0m\n\u001b[0;32m   1568\u001b[0m   \u001b[1;32mexcept\u001b[0m \u001b[0merrors\u001b[0m\u001b[1;33m.\u001b[0m\u001b[0mInvalidArgumentError\u001b[0m \u001b[1;32mas\u001b[0m \u001b[0me\u001b[0m\u001b[1;33m:\u001b[0m\u001b[1;33m\u001b[0m\u001b[0m\n\u001b[0;32m   1569\u001b[0m     \u001b[1;31m# Convert to ValueError for backwards compatibility.\u001b[0m\u001b[1;33m\u001b[0m\u001b[1;33m\u001b[0m\u001b[0m\n\u001b[1;32m-> 1570\u001b[1;33m     \u001b[1;32mraise\u001b[0m \u001b[0mValueError\u001b[0m\u001b[1;33m(\u001b[0m\u001b[0mstr\u001b[0m\u001b[1;33m(\u001b[0m\u001b[0me\u001b[0m\u001b[1;33m)\u001b[0m\u001b[1;33m)\u001b[0m\u001b[1;33m\u001b[0m\u001b[0m\n\u001b[0m\u001b[0;32m   1571\u001b[0m \u001b[1;33m\u001b[0m\u001b[0m\n\u001b[0;32m   1572\u001b[0m   \u001b[1;32mreturn\u001b[0m \u001b[0mc_op\u001b[0m\u001b[1;33m\u001b[0m\u001b[0m\n",
      "\u001b[1;31mValueError\u001b[0m: Dimension size must be evenly divisible by 26 but is 60 for 'Reshape_3' (op: 'Reshape') with input shapes: [4,3,5], [3] and with input tensors computed as partial shapes: input[1] = [13,2,?]."
     ]
    }
   ],
   "source": [
    "rank_three_tensor = tf.ones([3, 4, 5])\n",
    "matrix = tf.reshape(rank_three_tensor, [6, 10])  # Reshape existing content into\n",
    "                                                 # a 6x10 matrix\n",
    "matrixB = tf.reshape(matrix, [3, -1])  #  Reshape existing content into a 3x20\n",
    "                                       # matrix. -1 tells reshape to calculate\n",
    "                                       # the size of this dimension.\n",
    "matrixAlt = tf.reshape(matrixB, [4, 3, -1])  # Reshape existing content into a\n",
    "                                             #4x3x5 tensor\n",
    "\n",
    "# Note that the number of elements of the reshaped Tensors has to match the\n",
    "# original number of elements. Therefore, the following example generates an\n",
    "# error because no possible value for the last dimension will match the number\n",
    "# of elements.\n",
    "yet_another = tf.reshape(matrixAlt, [13, 2, -1])  # ERROR!"
   ]
  },
  {
   "cell_type": "markdown",
   "metadata": {},
   "source": [
    "## Data types\n",
    "In addition to dimensionality, Tensors have a data type. Refer to the tf.DataType page in the programmer's guide for a full list of the data types.\n",
    "\n",
    "It is not possible to have a [tf.Tensor](https://tensorflow.google.cn/api_docs/python/tf/Tensor) with more than one data type. It is possible, however, to serialize arbitrary data structures as strings and store those in [tf.Tensor](https://tensorflow.google.cn/api_docs/python/tf/Tensor).\n",
    "\n",
    "It is possible to cast [tf.Tensor](https://tensorflow.google.cn/api_docs/python/tf/Tensor) from one datatype to another using [tf.cast](https://tensorflow.google.cn/api_docs/python/tf/cast):"
   ]
  },
  {
   "cell_type": "code",
   "execution_count": 7,
   "metadata": {
    "collapsed": true
   },
   "outputs": [],
   "source": [
    "# Cast a constant integer tensor into floating point.\n",
    "float_tensor = tf.cast(tf.constant([1, 2, 3]), dtype=tf.float32)"
   ]
  },
  {
   "cell_type": "markdown",
   "metadata": {},
   "source": [
    "To inspect a [tf.Tensor](https://tensorflow.google.cn/api_docs/python/tf/Tensor)'s data type use the Tensor.dtype property.\n",
    "\n",
    "When creating a tf.Tensor from a python object you may optionally specify the datatype. If you don't, TensorFlow chooses a datatype that can represent your data. TensorFlow converts Python integers to [tf.int32](https://tensorflow.google.cn/api_docs/python/tf/int32) and python floating point numbers to [tf.float32](https://tensorflow.google.cn/api_docs/python/tf/float32). Otherwise TensorFlow uses the same rules numpy uses when converting to arrays.\n",
    "\n",
    "## Evaluating Tensors\n",
    "Once the computation graph has been built, you can run the computation that produces a particular tf.Tensor and fetch the value assigned to it. This is often useful for debugging as well as being required for much of TensorFlow to work.\n",
    "\n",
    "The simplest way to evaluate a Tensor is using the Tensor.eval method. For example:"
   ]
  },
  {
   "cell_type": "code",
   "execution_count": 11,
   "metadata": {},
   "outputs": [
    {
     "name": "stdout",
     "output_type": "stream",
     "text": [
      "[1 4 9]\n"
     ]
    }
   ],
   "source": [
    "constant = tf.constant([1, 2, 3])\n",
    "tensor = constant * constant\n",
    "with tf.Session().as_default():\n",
    "    print(tensor.eval())"
   ]
  },
  {
   "cell_type": "markdown",
   "metadata": {},
   "source": [
    "The eval method only works when a default [tf.Session](https://tensorflow.google.cn/api_docs/python/tf/Session) is active (see Graphs and Sessions for more information).\n",
    "\n",
    "Tensor.eval returns a numpy array with the same contents as the tensor.\n",
    "\n",
    "Sometimes it is not possible to evaluate a [tf.Tensor](https://tensorflow.google.cn/api_docs/python/tf/Tensor) with no context because its value might depend on dynamic information that is not available. For example, tensors that depend on placeholders can't be evaluated without providing a value for the placeholder."
   ]
  },
  {
   "cell_type": "code",
   "execution_count": null,
   "metadata": {
    "collapsed": true
   },
   "outputs": [],
   "source": [
    "p = tf.placeholder(tf.float32)\n",
    "t = p + 1.0\n",
    "t.eval()  # This will fail, since the placeholder did not get a value.\n",
    "t.eval(feed_dict={p:2.0})  # This will succeed because we're feeding a value\n",
    "                           # to the placeholder."
   ]
  },
  {
   "cell_type": "markdown",
   "metadata": {},
   "source": [
    "Note that it is possible to feed any [tf.Tensor](https://tensorflow.google.cn/api_docs/python/tf/Tensor), not just placeholders.\n",
    "\n",
    "Other model constructs might make evaluating a [tf.Tensor](https://tensorflow.google.cn/api_docs/python/tf/Tensor) complicated. TensorFlow can't directly evaluate [tf.Tensor](https://tensorflow.google.cn/api_docs/python/tf/Tensor) defined inside functions or inside control flow constructs. If a [tf.Tensor](https://tensorflow.google.cn/api_docs/python/tf/Tensor) depends on a value from a queue, evaluating the [tf.Tensor](https://tensorflow.google.cn/api_docs/python/tf/Tensor) will only work once something has been enqueued; otherwise, evaluating it will hang. When working with queues, remember to call [tf.train.start_queue_runners](https://tensorflow.google.cn/api_docs/python/tf/train/start_queue_runners) before evaluating any [tf.Tensor](https://tensorflow.google.cn/api_docs/python/tf/Tensor)s.\n",
    "\n",
    "## Printing Tensors\n",
    "For debugging purposes you might want to print the value of a [tf.Tensor](https://tensorflow.google.cn/api_docs/python/tf/Tensor). While [tfdbg](https://tensorflow.google.cn/programmers_guide/debugger) provides advanced debugging support, TensorFlow also has an operation to directly print the value of a [tf.Tensor](https://tensorflow.google.cn/api_docs/python/tf/Tensor).\n",
    "\n",
    "Note that you rarely want to use the following pattern when printing a [tf.Tensor](https://tensorflow.google.cn/api_docs/python/tf/Tensor):"
   ]
  },
  {
   "cell_type": "code",
   "execution_count": null,
   "metadata": {
    "collapsed": true
   },
   "outputs": [],
   "source": [
    "t = <<some tensorflow operation>>\n",
    "print t  # This will print the symbolic tensor when the graph is being built.\n",
    "         # This tensor does not have a value in this context."
   ]
  },
  {
   "cell_type": "markdown",
   "metadata": {},
   "source": [
    "This code prints the [tf.Tensor](https://tensorflow.google.cn/api_docs/python/tf/Tensor) object (which represents deferred computation) and not its value. Instead, TensorFlow provides the [tf.Print](https://tensorflow.google.cn/api_docs/python/tf/Print) operation, which returns its first tensor argument unchanged while printing the set of [tf.Tensor](https://tensorflow.google.cn/api_docs/python/tf/Tensor)s it is passed as the second argument.\n",
    "\n",
    "To correctly use [tf.Print](https://tensorflow.google.cn/api_docs/python/tf/Print) its return value must be used. See the example below"
   ]
  },
  {
   "cell_type": "code",
   "execution_count": null,
   "metadata": {
    "collapsed": true
   },
   "outputs": [],
   "source": [
    "t = <<some tensorflow operation>>\n",
    "tf.Print(t, [t])  # This does nothing\n",
    "t = tf.Print(t, [t])  # Here we are using the value returned by tf.Print\n",
    "result = t + 1  # Now when result is evaluated the value of `t` will be printed."
   ]
  },
  {
   "cell_type": "markdown",
   "metadata": {},
   "source": [
    "When you evaluate result you will evaluate everything result depends upon. Since result depends upon t, and evaluating t has the side effect of printing its input (the old value of t), t gets printed."
   ]
  }
 ],
 "metadata": {
  "kernelspec": {
   "display_name": "Python 3",
   "language": "python",
   "name": "python3"
  },
  "language_info": {
   "codemirror_mode": {
    "name": "ipython",
    "version": 3
   },
   "file_extension": ".py",
   "mimetype": "text/x-python",
   "name": "python",
   "nbconvert_exporter": "python",
   "pygments_lexer": "ipython3",
   "version": "3.6.1"
  }
 },
 "nbformat": 4,
 "nbformat_minor": 2
}
