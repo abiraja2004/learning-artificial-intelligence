{
 "cells": [
  {
   "cell_type": "markdown",
   "metadata": {},
   "source": [
    "# TensorBoard Histogram Dashboard\n",
    "\n",
    "The TensorBoard Histogram Dashboard displays how the distribution of some\n",
    "`Tensor` in your TensorFlow graph has changed over time. It does this by showing\n",
    "many histograms visualizations of your tensor at different points in time.\n",
    "\n",
    "## A Basic Example\n",
    "\n",
    "Let's start with a simple case: a normally-distributed variable, where the mean\n",
    "shifts over time.\n",
    "TensorFlow has an op\n",
    "[`tf.random_normal`](https://www.tensorflow.org/api_docs/python/tf/random_normal)\n",
    "which is perfect for this purpose. As is usually the case with TensorBoard, we\n",
    "will ingest data using a summary op; in this case,\n",
    "['tf.summary.histogram'](https://www.tensorflow.org/api_docs/python/tf/summary/histogram).\n",
    "For a primer on how summaries work, please see the\n",
    "[TensorBoard guide](./summaries_and_tensorboard.md).\n",
    "\n",
    "Here is a code snippet that will generate some histogram summaries containing\n",
    "normally distributed data, where the mean of the distribution increases over\n",
    "time."
   ]
  },
  {
   "cell_type": "code",
   "execution_count": 1,
   "metadata": {},
   "outputs": [
    {
     "name": "stderr",
     "output_type": "stream",
     "text": [
      "C:\\Users\\Administrator\\Anaconda3\\lib\\site-packages\\h5py\\__init__.py:34: FutureWarning: Conversion of the second argument of issubdtype from `float` to `np.floating` is deprecated. In future, it will be treated as `np.float64 == np.dtype(float).type`.\n",
      "  from ._conv import register_converters as _register_converters\n"
     ]
    }
   ],
   "source": [
    "import tensorflow as tf\n",
    "\n",
    "k = tf.placeholder(tf.float32)\n",
    "\n",
    "# Make a normal distribution, with a shifting mean\n",
    "mean_moving_normal = tf.random_normal(shape=[1000], mean=(5*k), stddev=1)\n",
    "# Record that distribution into a histogram summary\n",
    "tf.summary.histogram(\"normal/moving_mean\", mean_moving_normal)\n",
    "\n",
    "# Setup a session and summary writer\n",
    "sess = tf.Session()\n",
    "writer = tf.summary.FileWriter(\"/tmp/histogram_example\")\n",
    "\n",
    "summaries = tf.summary.merge_all()\n",
    "\n",
    "# Setup a loop and write the summaries to disk\n",
    "N = 400\n",
    "for step in range(N):\n",
    "    k_val = step/float(N)\n",
    "    summ = sess.run(summaries, feed_dict={k: k_val})\n",
    "    writer.add_summary(summ, global_step=step)"
   ]
  },
  {
   "cell_type": "markdown",
   "metadata": {},
   "source": [
    "Once that code runs, we can load the data into TensorBoard via the command line:"
   ]
  },
  {
   "cell_type": "code",
   "execution_count": null,
   "metadata": {
    "collapsed": true
   },
   "outputs": [],
   "source": [
    "tensorboard --logdir=/tmp/histogram_example"
   ]
  },
  {
   "cell_type": "markdown",
   "metadata": {},
   "source": [
    "Once TensorBoard is running, load it in Chrome or Firefox and navigate to the\n",
    "Histogram Dashboard. Then we can see a histogram visualization for our normally\n",
    "distributed data.\n",
    "\n",
    "![](https://tensorflow.google.cn/images/tensorboard/histogram_dashboard/1_moving_mean.png)\n",
    "\n",
    "`tf.summary.histogram` takes an arbitrarily sized and shaped Tensor, and\n",
    "compresses it into a histogram data structure consisting of many bins with\n",
    "widths and counts. For example, let's say we want to organize the numbers\n",
    "`[0.5, 1.1, 1.3, 2.2, 2.9, 2.99]` into bins. We could make three bins:\n",
    "* a bin\n",
    "containing everything from 0 to 1 (it would contain one element, 0.5),\n",
    "* a bin\n",
    "containing everything from 1-2 (it would contain two elements, 1.1 and 1.3),\n",
    "* a bin containing everything from 2-3 (it would contain three elements: 2.2,\n",
    "2.9 and 2.99).\n",
    "\n",
    "TensorFlow uses a similar approach to create bins, but unlike in our example, it\n",
    "doesn't create integer bins. For large, sparse datasets, that might result in\n",
    "many thousands of bins.\n",
    "Instead, [the bins are exponentially distributed, with many bins close to 0 and\n",
    "comparatively few bins for very large numbers.](https://github.com/tensorflow/tensorflow/blob/c8b59c046895fa5b6d79f73e0b5817330fcfbfc1/tensorflow/core/lib/histogram/histogram.cc#L28)\n",
    "However, visualizing exponentially-distributed bins is tricky; if height is used\n",
    "to encode count, then wider bins take more space, even if they have the same\n",
    "number of elements. Conversely, encoding count in the area makes height\n",
    "comparisons impossible. Instead, the histograms [resample the data](https://github.com/tensorflow/tensorflow/blob/17c47804b86e340203d451125a721310033710f1/tensorflow/tensorboard/components/tf_backend/backend.ts#L400)\n",
    "into uniform bins. This can lead to unfortunate artifacts in some cases.\n",
    "\n",
    "Each slice in the histogram visualizer displays a single histogram.\n",
    "The slices are organized by step;\n",
    "older slices (e.g. step 0) are further \"back\" and darker, while newer slices\n",
    "(e.g. step 400) are close to the foreground, and lighter in color.\n",
    "The y-axis on the right shows the step number.\n",
    "\n",
    "You can mouse over the histogram to see tooltips with some more detailed\n",
    "information. For example, in the following image we can see that the histogram\n",
    "at timestep 176 has a bin centered at 2.25 with 177 elements in that bin.\n",
    "\n",
    "![](https://tensorflow.google.cn/images/tensorboard/histogram_dashboard/2_moving_mean_tooltip.png)\n",
    "\n",
    "Also, you may note that the histogram slices are not always evenly spaced in\n",
    "step count or time. This is because TensorBoard uses\n",
    "[reservoir sampling](https://en.wikipedia.org/wiki/Reservoir_sampling) to keep a\n",
    "subset of all the histograms, to save on memory. Reservoir sampling guarantees\n",
    "that every sample has an equal likelihood of being included, but because it is\n",
    "a randomized algorithm, the samples chosen don't occur at even steps.\n",
    "\n",
    "## Overlay Mode\n",
    "\n",
    "There is a control on the left of the dashboard that allows you to toggle the\n",
    "histogram mode from \"offset\" to \"overlay\":\n",
    "\n",
    "![](https://tensorflow.google.cn/images/tensorboard/histogram_dashboard/3_overlay_offset.png)\n",
    "\n",
    "In \"offset\" mode, the visualization rotates 45 degrees, so that the individual\n",
    "histogram slices are no longer spread out in time, but instead are all plotted\n",
    "on the same y-axis.\n",
    "\n",
    "![](https://tensorflow.google.cn/images/tensorboard/histogram_dashboard/4_overlay.png)\n",
    "Now, each slice is a separate line on the chart, and the y-axis shows the item\n",
    "count within each bucket. Darker lines are older, earlier steps, and lighter\n",
    "lines are more recent, later steps. Once again, you can mouse over the chart to\n",
    "see some additional information.\n",
    "\n",
    "![](https://tensorflow.google.cn/images/tensorboard/histogram_dashboard/5_overlay_tooltips.png)\n",
    "\n",
    "In general, the overlay visualization is useful if you want to directly compare\n",
    "the counts of different histograms.\n",
    "\n",
    "## Multimodal Distributions\n",
    "\n",
    "The Histogram Dashboard is great for visualizing multimodal\n",
    "distributions. Let's construct a simple bimodal distribution by concatenating\n",
    "the outputs from two different normal distributions. The code will look like\n",
    "this:"
   ]
  },
  {
   "cell_type": "code",
   "execution_count": 1,
   "metadata": {},
   "outputs": [
    {
     "name": "stderr",
     "output_type": "stream",
     "text": [
      "C:\\Users\\Administrator\\Anaconda3\\lib\\site-packages\\h5py\\__init__.py:34: FutureWarning: Conversion of the second argument of issubdtype from `float` to `np.floating` is deprecated. In future, it will be treated as `np.float64 == np.dtype(float).type`.\n",
      "  from ._conv import register_converters as _register_converters\n"
     ]
    }
   ],
   "source": [
    "import tensorflow as tf\n",
    "\n",
    "k = tf.placeholder(tf.float32)\n",
    "\n",
    "# Make a normal distribution, with a shifting mean\n",
    "mean_moving_normal = tf.random_normal(shape=[1000], mean=(5*k), stddev=1)\n",
    "# Record that distribution into a histogram summary\n",
    "tf.summary.histogram(\"normal/moving_mean\", mean_moving_normal)\n",
    "\n",
    "# Make a normal distribution with shrinking variance\n",
    "variance_shrinking_normal = tf.random_normal(shape=[1000], mean=0, stddev=1-(k))\n",
    "# Record that distribution too\n",
    "tf.summary.histogram(\"normal/shrinking_variance\", variance_shrinking_normal)\n",
    "\n",
    "# Let's combine both of those distributions into one dataset\n",
    "normal_combined = tf.concat([mean_moving_normal, variance_shrinking_normal], 0)\n",
    "# We add another histogram summary to record the combined distribution\n",
    "tf.summary.histogram(\"normal/bimodal\", normal_combined)\n",
    "\n",
    "summaries = tf.summary.merge_all()\n",
    "\n",
    "# Setup a session and summary writer\n",
    "sess = tf.Session()\n",
    "writer = tf.summary.FileWriter(\"/tmp/histogram_example\")\n",
    "\n",
    "# Setup a loop and write the summaries to disk\n",
    "N = 400\n",
    "for step in range(N):\n",
    "    k_val = step/float(N)\n",
    "    summ = sess.run(summaries, feed_dict={k: k_val})\n",
    "    writer.add_summary(summ, global_step=step)"
   ]
  },
  {
   "cell_type": "markdown",
   "metadata": {},
   "source": [
    "You already remember our \"moving mean\" normal distribution from the example\n",
    "above. Now we also have a \"shrinking variance\" distribution. Side-by-side, they\n",
    "look like this:\n",
    "![](https://tensorflow.google.cn/images/tensorboard/histogram_dashboard/6_two_distributions.png)\n",
    "\n",
    "When we concatenate them, we get a chart that clearly reveals the divergent,\n",
    "bimodal structure:\n",
    "![](https://tensorflow.google.cn/images/tensorboard/histogram_dashboard/7_bimodal.png)\n",
    "\n",
    "## Some more distributions\n",
    "\n",
    "Just for fun, let's generate and visualize a few more distributions, and then\n",
    "combine them all into one chart. Here's the code we'll use:"
   ]
  },
  {
   "cell_type": "code",
   "execution_count": 1,
   "metadata": {},
   "outputs": [
    {
     "name": "stderr",
     "output_type": "stream",
     "text": [
      "C:\\Users\\Administrator\\Anaconda3\\lib\\site-packages\\h5py\\__init__.py:34: FutureWarning: Conversion of the second argument of issubdtype from `float` to `np.floating` is deprecated. In future, it will be treated as `np.float64 == np.dtype(float).type`.\n",
      "  from ._conv import register_converters as _register_converters\n"
     ]
    }
   ],
   "source": [
    "import tensorflow as tf\n",
    "\n",
    "k = tf.placeholder(tf.float32)\n",
    "\n",
    "# Make a normal distribution, with a shifting mean\n",
    "mean_moving_normal = tf.random_normal(shape=[1000], mean=(5*k), stddev=1)\n",
    "# Record that distribution into a histogram summary\n",
    "tf.summary.histogram(\"normal/moving_mean\", mean_moving_normal)\n",
    "\n",
    "# Make a normal distribution with shrinking variance\n",
    "variance_shrinking_normal = tf.random_normal(shape=[1000], mean=0, stddev=1-(k))\n",
    "# Record that distribution too\n",
    "tf.summary.histogram(\"normal/shrinking_variance\", variance_shrinking_normal)\n",
    "\n",
    "# Let's combine both of those distributions into one dataset\n",
    "normal_combined = tf.concat([mean_moving_normal, variance_shrinking_normal], 0)\n",
    "# We add another histogram summary to record the combined distribution\n",
    "tf.summary.histogram(\"normal/bimodal\", normal_combined)\n",
    "\n",
    "# Add a gamma distribution\n",
    "gamma = tf.random_gamma(shape=[1000], alpha=k)\n",
    "tf.summary.histogram(\"gamma\", gamma)\n",
    "\n",
    "# And a poisson distribution\n",
    "poisson = tf.random_poisson(shape=[1000], lam=k)\n",
    "tf.summary.histogram(\"poisson\", poisson)\n",
    "\n",
    "# And a uniform distribution\n",
    "uniform = tf.random_uniform(shape=[1000], maxval=k*10)\n",
    "tf.summary.histogram(\"uniform\", uniform)\n",
    "\n",
    "# Finally, combine everything together!\n",
    "all_distributions = [mean_moving_normal, variance_shrinking_normal,\n",
    "                     gamma, poisson, uniform]\n",
    "all_combined = tf.concat(all_distributions, 0)\n",
    "tf.summary.histogram(\"all_combined\", all_combined)\n",
    "\n",
    "summaries = tf.summary.merge_all()\n",
    "\n",
    "# Setup a session and summary writer\n",
    "sess = tf.Session()\n",
    "writer = tf.summary.FileWriter(\"/tmp/histogram_example\")\n",
    "\n",
    "# Setup a loop and write the summaries to disk\n",
    "N = 400\n",
    "for step in range(N):\n",
    "    k_val = step/float(N)\n",
    "    summ = sess.run(summaries, feed_dict={k: k_val})\n",
    "    writer.add_summary(summ, global_step=step)"
   ]
  },
  {
   "cell_type": "markdown",
   "metadata": {},
   "source": [
    "### Gamma Distribution\n",
    "![](https://tensorflow.google.cn/images/tensorboard/histogram_dashboard/8_gamma.png)\n",
    "\n",
    "### Uniform Distribution\n",
    "![](https://tensorflow.google.cn/images/tensorboard/histogram_dashboard/9_uniform.png)\n",
    "\n",
    "### Poisson Distribution\n",
    "![](https://tensorflow.google.cn/images/tensorboard/histogram_dashboard/10_poisson.png)\n",
    "The poisson distribution is defined over the integers. So, all of the values\n",
    "being generated are perfect integers. The histogram compression moves the data\n",
    "into floating-point bins, causing the visualization to show little\n",
    "bumps over the integer values rather than perfect spikes.\n",
    "\n",
    "### All Together Now\n",
    "Finally, we can concatenate all of the data into one funny-looking curve.\n",
    "![](https://tensorflow.google.cn/images/tensorboard/histogram_dashboard/11_all_combined.png)"
   ]
  }
 ],
 "metadata": {
  "kernelspec": {
   "display_name": "Python 3",
   "language": "python",
   "name": "python3"
  },
  "language_info": {
   "codemirror_mode": {
    "name": "ipython",
    "version": 3
   },
   "file_extension": ".py",
   "mimetype": "text/x-python",
   "name": "python",
   "nbconvert_exporter": "python",
   "pygments_lexer": "ipython3",
   "version": "3.6.1"
  }
 },
 "nbformat": 4,
 "nbformat_minor": 2
}
