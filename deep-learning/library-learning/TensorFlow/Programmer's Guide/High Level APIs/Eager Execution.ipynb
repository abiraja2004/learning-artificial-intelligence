{
 "cells": [
  {
   "cell_type": "markdown",
   "metadata": {},
   "source": [
    "# Eager Execution\n",
    "\n",
    "TensorFlow's eager execution is an imperative programming environment that evaluates operations immediately, without building graphs: operations return concrete values instead of constructing a computational graph to run later. This makes it easy to get started with TensorFlow and debug models, and it reduces boilerplate as well. To follow along with this guide, run the code samples below in an interactive python interpreter.\n",
    "\n",
    "Eager execution is a flexible machine learning platform for research and experimentation, providing:\n",
    "\n",
    "- An intuitive interface—Structure your code naturally and use Python data structures. Quickly iterate on small models and small data.\n",
    "- Easier debugging—Call ops directly to inspect running models and test changes. Use standard Python debugging tools for immediate error reporting.\n",
    "- Natural control flow—Use Python control flow instead of graph control flow, simplifying the specification of dynamic models.\n",
    "\n",
    "Eager execution supports most TensorFlow operations and GPU acceleration. For a collection of examples running in eager execution, see: tensorflow/contrib/eager/python/examples.\n",
    "\n",
    "> Note: Some models may experience increased overhead with eager execution enabled. Performance improvements are ongoing, but please file a bug if you find a problem and share your benchmarks.\n",
    "\n",
    "## Setup and basic usage\n",
    "To start eager execution, add tf.enable_eager_execution() to the beginning of the program or console session. Do not add this operation to other modules that the program calls."
   ]
  },
  {
   "cell_type": "code",
   "execution_count": 1,
   "metadata": {},
   "outputs": [
    {
     "name": "stderr",
     "output_type": "stream",
     "text": [
      "C:\\Users\\Administrator\\Anaconda3\\lib\\site-packages\\h5py\\__init__.py:34: FutureWarning: Conversion of the second argument of issubdtype from `float` to `np.floating` is deprecated. In future, it will be treated as `np.float64 == np.dtype(float).type`.\n",
      "  from ._conv import register_converters as _register_converters\n"
     ]
    }
   ],
   "source": [
    "from __future__ import absolute_import, division, print_function\n",
    "\n",
    "import tensorflow as tf\n",
    "\n",
    "tf.enable_eager_execution()"
   ]
  },
  {
   "cell_type": "markdown",
   "metadata": {},
   "source": [
    "Now you can run TensorFlow operations and the results will return immediately:"
   ]
  },
  {
   "cell_type": "code",
   "execution_count": 2,
   "metadata": {},
   "outputs": [
    {
     "name": "stdout",
     "output_type": "stream",
     "text": [
      "True\n",
      "hello, [[4.]]\n"
     ]
    }
   ],
   "source": [
    "print(tf.executing_eagerly())\n",
    "\n",
    "x = [[2.]]\n",
    "m = tf.matmul(x, x)\n",
    "print(\"hello, {}\".format(m))"
   ]
  },
  {
   "cell_type": "markdown",
   "metadata": {},
   "source": [
    "Enabling eager execution changes how TensorFlow operations behave—now they immediately evaluate and return their values to Python. [tf.Tensor](https://tensorflow.google.cn/api_docs/python/tf/Tensor) objects reference concrete values instead of symbolic handles to nodes in a computational graph. Since there isn't a computational graph to build and run later in a session, it's easy to inspect results using print() or a debugger. Evaluating, printing, and checking tensor values does not break the flow for computing gradients.\n",
    "\n",
    "Eager execution works nicely with [NumPy](http://www.numpy.org/). NumPy operations accept [tf.Tensor](https://tensorflow.google.cn/api_docs/python/tf/Tensor) arguments. TensorFlow [math operations](https://tensorflow.google.cn/api_guides/python/math_ops) convert Python objects and NumPy arrays to [tf.Tensor](https://tensorflow.google.cn/api_docs/python/tf/Tensor) objects. The tf.Tensor.numpy method returns the object's value as a NumPy ndarray."
   ]
  },
  {
   "cell_type": "code",
   "execution_count": 5,
   "metadata": {},
   "outputs": [
    {
     "name": "stdout",
     "output_type": "stream",
     "text": [
      "tf.Tensor(\n",
      "[[1 2]\n",
      " [3 4]], shape=(2, 2), dtype=int32)\n",
      "tf.Tensor(\n",
      "[[2 3]\n",
      " [4 5]], shape=(2, 2), dtype=int32)\n",
      "tf.Tensor(\n",
      "[[ 2  6]\n",
      " [12 20]], shape=(2, 2), dtype=int32)\n",
      "[[ 2  6]\n",
      " [12 20]]\n",
      "[[1 2]\n",
      " [3 4]]\n"
     ]
    }
   ],
   "source": [
    "a = tf.constant([[1, 2],\n",
    "                            [3, 4]])\n",
    "print(a)\n",
    "\n",
    "# Broadcasting support\n",
    "b = tf.add(a, 1)\n",
    "print(b)\n",
    "\n",
    "# Operator overloading is supported\n",
    "print(a * b)\n",
    "\n",
    "# Use NumPy values\n",
    "import numpy as np\n",
    "\n",
    "c = np.multiply(a, b)\n",
    "print(c)\n",
    "\n",
    "# Obtain numpy value from a tensor:\n",
    "print(a.numpy())"
   ]
  },
  {
   "cell_type": "markdown",
   "metadata": {},
   "source": [
    "The [tf.contrib.eager](https://tensorflow.google.cn/api_docs/python/tf/contrib/eager) module contains symbols available to both eager and graph execution environments and is useful for writing code to [work with graphs](https://tensorflow.google.cn/programmers_guide/eager#work_with_graphs):"
   ]
  },
  {
   "cell_type": "code",
   "execution_count": 16,
   "metadata": {
    "collapsed": true
   },
   "outputs": [],
   "source": [
    "tfe = tf.contrib.eager"
   ]
  },
  {
   "cell_type": "markdown",
   "metadata": {},
   "source": [
    "## Dynamic control flow\n",
    "A major benefit of eager execution is that all the functionality of the host language is available while your model is executing. So, for example, it is easy to write [fizzbuzz](https://en.wikipedia.org/wiki/Fizz_buzz):"
   ]
  },
  {
   "cell_type": "code",
   "execution_count": 7,
   "metadata": {
    "collapsed": true
   },
   "outputs": [],
   "source": [
    "def fizzbuzz(max_num):\n",
    "    counter = tf.constant(0)\n",
    "    for num in range(max_num):\n",
    "        num = tf.constant(num)\n",
    "        if int(num % 3) == 0 and int(num % 5) == 0:\n",
    "            print('FIzzBuzz')\n",
    "        elif int(num % 3) == 0:\n",
    "          print('Fizz')\n",
    "        elif int(num % 5) == 0:\n",
    "          print('Buzz')\n",
    "        else:\n",
    "          print(num)\n",
    "        counter += 1\n",
    "    return counter"
   ]
  },
  {
   "cell_type": "markdown",
   "metadata": {},
   "source": [
    "This has conditionals that depend on tensor values and it prints these values at runtime.\n",
    "\n",
    "## Build a model\n",
    "\n",
    "Many machine learning models are represented by composing layers. When using TensorFlow with eager execution you can either write your own layers or use a layer provided in the [tf.keras.layers](https://tensorflow.google.cn/api_docs/python/tf/keras/layers) package.\n",
    "\n",
    "While you can use any Python object to represent a layer, TensorFlow has [tf.keras.layers.Layer](https://tensorflow.google.cn/api_docs/python/tf/keras/layers/Layer) as a convenient base class. Inherit from it to implement your own layer:"
   ]
  },
  {
   "cell_type": "code",
   "execution_count": 8,
   "metadata": {
    "collapsed": true
   },
   "outputs": [],
   "source": [
    "class MySimpleLayer(tf.keras.layers.Layer):\n",
    "    def __init__(self, output_units):\n",
    "        self.output_units = output_units\n",
    "        \n",
    "    def build(self, input):\n",
    "        # The build method gets called the first time your layer is used.\n",
    "        # Creating variables on build() allows you to make their shape depend\n",
    "        # on the input shape and hence remove the need for the user to specify\n",
    "        # full shapes. It is possible to create variables during __init__() if\n",
    "        # you already know their full shapes.\n",
    "        self.kernel = self.add_variable(\n",
    "            \"kernel\", [input.shape[-1], self.output_units])\n",
    "        \n",
    "        def call(self, input):\n",
    "            # Override call() instead of __call__ so we can perform some bookkeeping.\n",
    "            return tf.matmul(input, self.kernel)"
   ]
  },
  {
   "cell_type": "markdown",
   "metadata": {},
   "source": [
    "Use [tf.keras.layers.Dense](https://tensorflow.google.cn/api_docs/python/tf/keras/layers/Dense) layer instead of MySimpleLayer above as it has a superset of its functionality (it can also add a bias).\n",
    "\n",
    "When composing layers into models you can use [tf.keras.Sequential](https://tensorflow.google.cn/api_docs/python/tf/keras/Sequential) to represent models which are a linear stack of layers. It is easy to use for basic models:"
   ]
  },
  {
   "cell_type": "code",
   "execution_count": 8,
   "metadata": {
    "collapsed": true
   },
   "outputs": [],
   "source": [
    "model = tf.keras.Sequential([\n",
    "  tf.keras.layers.Dense(10, input_shape=(784,)),  # must declare input shape\n",
    "  tf.keras.layers.Dense(10)\n",
    "])"
   ]
  },
  {
   "cell_type": "markdown",
   "metadata": {},
   "source": [
    "Alternatively, organize models in classes by inheriting from [tf.keras.Model](https://tensorflow.google.cn/api_docs/python/tf/keras/Model). This is a container for layers that is a layer itself, allowing [tf.keras.Model](https://tensorflow.google.cn/api_docs/python/tf/keras/Model) objects to contain other [tf.keras.Model](https://tensorflow.google.cn/api_docs/python/tf/keras/Model) objects."
   ]
  },
  {
   "cell_type": "code",
   "execution_count": 6,
   "metadata": {
    "collapsed": true
   },
   "outputs": [],
   "source": [
    "class MNISTModel(tf.keras.Model):\n",
    "    def __init__(self):\n",
    "        super(MNISTModel, self).__init__()\n",
    "        self.dense1 = tf.keras.layers.Dense(units=10)\n",
    "        self.dense2 = tf.keras.layers.Dense(units=10)\n",
    "        \n",
    "    def call(self, input):\n",
    "        \"\"\"Run the model.\"\"\"\n",
    "        result = self.dense1(input)\n",
    "        result = self.dense2(result)\n",
    "        result = self.dense1(result)  # reuse variables from dense2 layer\n",
    "        return result\n",
    "\n",
    "model = MNISTModel()"
   ]
  },
  {
   "cell_type": "markdown",
   "metadata": {},
   "source": [
    "It's not required to set an input shape for the [tf.keras.Model](https://tensorflow.google.cn/api_docs/python/tf/keras/Model) class since the parameters are set the first time input is passed to the layer.\n",
    "\n",
    "[tf.keras.layers](https://tensorflow.google.cn/api_docs/python/tf/keras/layers) classes create and contain their own model variables that are tied to the lifetime of their layer objects. To share layer variables, share their objects.\n",
    "\n",
    "## Eager training\n",
    "### Computing gradients\n",
    "[Automatic differentiation](https://en.wikipedia.org/wiki/Automatic_differentiation) is useful for implementing machine learning algorithms such as [backpropagation](https://en.wikipedia.org/wiki/Backpropagation) for training neural networks. During eager execution, use [tf.GradientTape](https://tensorflow.google.cn/api_docs/python/tf/GradientTape) to trace operations for computing gradients later.\n",
    "\n",
    "[tf.GradientTape](https://tensorflow.google.cn/api_docs/python/tf/GradientTape) is an opt-in feature to provide maximal performance when not tracing. Since different operations can occur during each call, all forward-pass operations get recorded to a \"tape\". To compute the gradient, play the tape backwards and then discard. A particular [tf.GradientTape](https://tensorflow.google.cn/api_docs/python/tf/GradientTape) can only compute one gradient; subsequent calls throw a runtime error."
   ]
  },
  {
   "cell_type": "code",
   "execution_count": 11,
   "metadata": {},
   "outputs": [
    {
     "name": "stdout",
     "output_type": "stream",
     "text": [
      "[<tf.Tensor: id=82, shape=(1, 1), dtype=float32, numpy=array([[2.]], dtype=float32)>]\n"
     ]
    }
   ],
   "source": [
    "w = tfe.Variable([[1.0]])\n",
    "with tf.GradientTape() as tape:\n",
    "    loss = w * w\n",
    "\n",
    "grad = tape.gradient(loss, [w])\n",
    "print(grad)"
   ]
  },
  {
   "cell_type": "markdown",
   "metadata": {},
   "source": [
    "Here's an example of [tf.GradientTape](https://tensorflow.google.cn/api_docs/python/tf/GradientTape)  that records forward-pass operations to train a simple model:"
   ]
  },
  {
   "cell_type": "code",
   "execution_count": 12,
   "metadata": {},
   "outputs": [
    {
     "name": "stdout",
     "output_type": "stream",
     "text": [
      "Initial loss: 68.584\n",
      "Loss at step 000: 65.925\n",
      "Loss at step 020: 30.108\n",
      "Loss at step 040: 14.066\n",
      "Loss at step 060: 6.879\n",
      "Loss at step 080: 3.658\n",
      "Loss at step 100: 2.214\n",
      "Loss at step 120: 1.566\n",
      "Loss at step 140: 1.276\n",
      "Loss at step 160: 1.145\n",
      "Loss at step 180: 1.087\n",
      "Final loss: 1.061\n",
      "W = 3.113717555999756, B = 2.1266610622406006\n"
     ]
    }
   ],
   "source": [
    "# A toy dataset of points around 3 * x + 2\n",
    "NUM_EXAMPLES = 1000\n",
    "training_inputs = tf.random_normal([NUM_EXAMPLES])\n",
    "noise = tf.random_normal([NUM_EXAMPLES])\n",
    "training_outputs = training_inputs * 3 + 2 + noise\n",
    "\n",
    "def prediction(input, weight, bias):\n",
    "    return input*weight +bias\n",
    "\n",
    "# A loss function using mean-squared error\n",
    "def loss(weights, biases):\n",
    "    error = prediction(training_inputs, weights, biases) - training_outputs\n",
    "    return tf.reduce_mean(tf.square(error))\n",
    "\n",
    "# Return the derivative of loss with respect to weight and bias\n",
    "def grad(weights, biases):\n",
    "    with tf.GradientTape() as tape:\n",
    "        loss_value = loss(weights, biases)\n",
    "    return tape.gradient(loss_value, [weights, biases])\n",
    "\n",
    "train_steps = 200\n",
    "learning_rate = 0.01\n",
    "\n",
    "# Start with arbitrary values for W and B on the same batch of data\n",
    "W = tfe.Variable(5.)\n",
    "B = tfe.Variable(10.)\n",
    "\n",
    "print(\"Initial loss: {:.3f}\".format(loss(W, B)))\n",
    "\n",
    "for i in range(train_steps):\n",
    "    dW, dB = grad(W, B)\n",
    "    W.assign_sub(dW*learning_rate)\n",
    "    B.assign_sub(dB*learning_rate)\n",
    "    if i % 20 == 0:\n",
    "        print(\"Loss at step {:03d}: {:.3f}\".format(i, loss(W, B))) \n",
    "        \n",
    "print(\"Final loss: {:.3f}\".format(loss(W, B)))\n",
    "print(\"W = {}, B = {}\".format(W.numpy(), B.numpy()))"
   ]
  },
  {
   "cell_type": "markdown",
   "metadata": {},
   "source": [
    "Replay the [tf.GradientTape](https://tensorflow.google.cn/api_docs/python/tf/GradientTape) to compute the gradients and apply them in a training loop. This is demonstrated in an excerpt from the [mnist_eager.py](https://github.com/tensorflow/models/blob/master/official/mnist/mnist_eager.py) example:"
   ]
  },
  {
   "cell_type": "code",
   "execution_count": null,
   "metadata": {},
   "outputs": [],
   "source": [
    "dataset = tf.data.Dataset.from_tensor_slices((data.train.images,\n",
    "                                              data.train.labels))\n",
    "...\n",
    "for (batch, (images, labels)) in enumerate(dataset):\n",
    "  ...\n",
    "  with tf.GradientTape() as tape:\n",
    "    logits = model(images, training=True)\n",
    "    loss_value = loss(logits, labels)\n",
    "  ...\n",
    "  grads = tape.gradient(loss_value, model.variables)\n",
    "  optimizer.apply_gradients(zip(grads, model.variables),\n",
    "                            global_step=tf.train.get_or_create_global_step())"
   ]
  },
  {
   "cell_type": "markdown",
   "metadata": {},
   "source": [
    "The following example creates a multi-layer model that classifies the standard MNIST handwritten digits. It demonstrates the optimizer and layer APIs to build trainable graphs in an eager execution environment.\n",
    "\n",
    "### Train a model\n",
    "Even without training, call the model and inspect the output in eager execution:"
   ]
  },
  {
   "cell_type": "code",
   "execution_count": 10,
   "metadata": {},
   "outputs": [
    {
     "name": "stdout",
     "output_type": "stream",
     "text": [
      "(1, 1, 784)\n"
     ]
    }
   ],
   "source": [
    "# Create a tensor representing a blank image\n",
    "batch = tf.zeros([1, 1, 784])\n",
    "print(batch.shape)  # => (1, 1, 784)\n",
    "\n",
    "result = model(batch)\n",
    "# => tf.Tensor([[[ 0.  0., ..., 0.]]], shape=(1, 1, 10), dtype=float32)"
   ]
  },
  {
   "cell_type": "markdown",
   "metadata": {},
   "source": [
    "This example uses the [dataset.py module](https://github.com/tensorflow/models/blob/master/official/mnist/dataset.py) from the [TensorFlow MNIST example](https://github.com/tensorflow/models/tree/master/official/mnist); download this file to your local directory. Run the following to download the MNIST data files to your working directory and prepare a [tf.data.Dataset](https://tensorflow.google.cn/api_docs/python/tf/data/Dataset) for training:"
   ]
  },
  {
   "cell_type": "code",
   "execution_count": 3,
   "metadata": {},
   "outputs": [],
   "source": [
    "import dataset\n",
    "dataset_train = dataset.train('./datasets').shuffle(60000).repeat(4).batch(32)"
   ]
  },
  {
   "cell_type": "markdown",
   "metadata": {},
   "source": [
    "To train a model, define a loss function to optimize and then calculate gradients. Use an optimizer to update the variables:"
   ]
  },
  {
   "cell_type": "code",
   "execution_count": 13,
   "metadata": {},
   "outputs": [
    {
     "name": "stdout",
     "output_type": "stream",
     "text": [
      "Initial loss: 0.796\n",
      "Loss at step 0000: 0.613\n",
      "Loss at step 0200: 0.791\n",
      "Loss at step 0400: 0.564\n",
      "Loss at step 0600: 0.836\n",
      "Loss at step 0800: 0.550\n",
      "Loss at step 1000: 0.707\n",
      "Loss at step 1200: 0.492\n",
      "Loss at step 1400: 0.489\n",
      "Loss at step 1600: 0.511\n",
      "Loss at step 1800: 0.535\n",
      "Loss at step 2000: 0.758\n",
      "Loss at step 2200: 0.639\n",
      "Loss at step 2400: 0.766\n",
      "Loss at step 2600: 0.522\n",
      "Loss at step 2800: 0.693\n",
      "Loss at step 3000: 0.515\n",
      "Loss at step 3200: 0.768\n",
      "Loss at step 3400: 0.426\n",
      "Loss at step 3600: 0.653\n",
      "Loss at step 3800: 0.441\n",
      "Loss at step 4000: 0.568\n",
      "Loss at step 4200: 0.541\n",
      "Loss at step 4400: 0.923\n",
      "Loss at step 4600: 0.341\n",
      "Loss at step 4800: 0.470\n",
      "Loss at step 5000: 0.398\n",
      "Loss at step 5200: 0.576\n",
      "Loss at step 5400: 0.479\n",
      "Loss at step 5600: 0.658\n",
      "Loss at step 5800: 1.050\n",
      "Loss at step 6000: 0.582\n",
      "Loss at step 6200: 0.505\n",
      "Loss at step 6400: 0.499\n",
      "Loss at step 6600: 0.500\n",
      "Loss at step 6800: 0.562\n",
      "Loss at step 7000: 0.425\n",
      "Loss at step 7200: 0.366\n",
      "Loss at step 7400: 0.272\n",
      "Final loss: 0.347\n"
     ]
    }
   ],
   "source": [
    "def loss(model, x, y):\n",
    "    prediction = model(x)\n",
    "    return tf.losses.sparse_softmax_cross_entropy(labels=y, logits=prediction)\n",
    "\n",
    "def grad(model, inputs, targets):\n",
    "    with tf.GradientTape() as tape:\n",
    "        loss_value = loss(model, inputs, targets)\n",
    "    return tape.gradient(loss_value, model.variables)\n",
    "\n",
    "optimizer = tf.train.GradientDescentOptimizer(learning_rate=0.001)\n",
    "\n",
    "x, y = iter(dataset_train).next()\n",
    "print(\"Initial loss: {:.3f}\".format(loss(model, x, y)))\n",
    "\n",
    "# Training loop\n",
    "for (i, (x, y)) in enumerate(dataset_train):\n",
    "    # Calculate derivatives of the input function with respect to its parameters.\n",
    "    grads = grad(model, x, y)\n",
    "    # Apply the gradient to the model\n",
    "    optimizer.apply_gradients(zip(grads, model.variables),\n",
    "                                                 global_step=tf.train.get_or_create_global_step())\n",
    "    if i % 200 == 0:\n",
    "        print(\"Loss at step {:04d}: {:.3f}\".format(i, loss(model, x, y)))\n",
    "\n",
    "print(\"Final loss: {:.3f}\".format(loss(model, x, y)))    "
   ]
  },
  {
   "cell_type": "markdown",
   "metadata": {},
   "source": [
    "And for faster training, move the computation to a GPU:"
   ]
  },
  {
   "cell_type": "code",
   "execution_count": null,
   "metadata": {},
   "outputs": [],
   "source": [
    "with tf.device(\"/gpu:0\"):\n",
    "  for (i, (x, y)) in enumerate(dataset_train):\n",
    "    # minimize() is equivalent to the grad() and apply_gradients() calls.\n",
    "    optimizer.minimize(lambda: loss(model, x, y),\n",
    "                       global_step=tf.train.get_or_create_global_step())"
   ]
  },
  {
   "cell_type": "markdown",
   "metadata": {},
   "source": [
    "### Variables and optimizers\n",
    "tfe.Variable objects store mutable [tf.Tensor](https://tensorflow.google.cn/api_docs/python/tf/Tensor) values accessed during training to make automatic differentiation easier. The parameters of a model can be encapsulated in classes as variables.\n",
    "\n",
    "Better encapsulate model parameters by using tfe.Variable with [tf.GradientTape](https://tensorflow.google.cn/api_docs/python/tf/GradientTape). For example, the automatic differentiation example above can be rewritten:"
   ]
  },
  {
   "cell_type": "code",
   "execution_count": 17,
   "metadata": {
    "scrolled": true
   },
   "outputs": [
    {
     "name": "stdout",
     "output_type": "stream",
     "text": [
      "Initial loss: 14.066\n",
      "Loss at step 000: 13.555\n",
      "Loss at step 020: 6.662\n",
      "Loss at step 040: 3.563\n",
      "Loss at step 060: 2.169\n",
      "Loss at step 080: 1.543\n",
      "Loss at step 100: 1.261\n",
      "Loss at step 120: 1.135\n",
      "Loss at step 140: 1.078\n",
      "Loss at step 160: 1.052\n",
      "Loss at step 180: 1.041\n",
      "Loss at step 200: 1.036\n",
      "Loss at step 220: 1.033\n",
      "Loss at step 240: 1.032\n",
      "Loss at step 260: 1.032\n",
      "Loss at step 280: 1.032\n",
      "Final loss: 1.031\n",
      "W = 3.0069167613983154, B = 1.9773838520050049\n"
     ]
    }
   ],
   "source": [
    "class Model(tf.keras.Model):\n",
    "    def __init__(self):\n",
    "        super(Model, self).__init__()\n",
    "        self.W = tfe.Variable(5., name='weight')\n",
    "        self.B = tfe.Variable(5., name='bias')\n",
    "    def predict(self, inputs):\n",
    "        return inputs * self.W + self.B\n",
    "\n",
    "# A toy dataset of points around 3 * x + 2\n",
    "NUM_EXAMPLES = 2000\n",
    "training_inputs = tf.random_normal([NUM_EXAMPLES])\n",
    "noise = tf.random_normal([NUM_EXAMPLES])\n",
    "training_outputs = training_inputs * 3 + 2 + noise\n",
    "\n",
    "# The loss function to be optimized\n",
    "def loss(model, inputs, targets):\n",
    "    error = model.predict(inputs) - targets\n",
    "    return tf.reduce_mean(tf.square(error))\n",
    "\n",
    "def grad(model, inputs, targets):\n",
    "    with tf.GradientTape() as tape:\n",
    "        loss_value = loss(model, inputs, targets)\n",
    "    return tape.gradient(loss_value, [model.W, model.B])\n",
    "\n",
    "# Define:\n",
    "# 1. A model.\n",
    "# 2. Derivatives of a loss function with respect to model parameters.\n",
    "# 3. A strategy for updating the variables based on the derivatives.\n",
    "model = Model()\n",
    "optimizer = tf.train.GradientDescentOptimizer(learning_rate=0.01)\n",
    "\n",
    "print(\"Initial loss: {:.3f}\".format(loss(model, training_inputs, training_outputs)))\n",
    "\n",
    "# Training loop\n",
    "for i in range(300):\n",
    "    grads = grad(model, training_inputs, training_outputs)\n",
    "    optimizer.apply_gradients(zip(grads, [model.W, model.B]),\n",
    "                                             global_step=tf.train.get_or_create_global_step())\n",
    "    if i % 20 == 0:\n",
    "        print(\"Loss at step {:03d}: {:.3f}\".format(i, loss(model, training_inputs, training_outputs)))\n",
    "    \n",
    "print(\"Final loss: {:.3f}\".format(loss(model, training_inputs, training_outputs)))\n",
    "print(\"W = {}, B = {}\".format(model.W.numpy(), model.B.numpy()))"
   ]
  },
  {
   "cell_type": "markdown",
   "metadata": {},
   "source": [
    "## Use objects for state during eager execution\n",
    "With graph execution, program state (such as the variables) is stored in global collections and their lifetime is managed by the [tf.Session](https://tensorflow.google.cn/api_docs/python/tf/Session) object. In contrast, during eager execution the lifetime of state objects is determined by the lifetime of their corresponding Python object.\n",
    "\n",
    "### Variables are objects\n",
    "During eager execution, variables persist until the last reference to the object is removed, and is then deleted."
   ]
  },
  {
   "cell_type": "code",
   "execution_count": null,
   "metadata": {},
   "outputs": [],
   "source": [
    "with tf.device(\"gpu:0\"):\n",
    "  v = tfe.Variable(tf.random_normal([1000, 1000]))\n",
    "  v = None  # v no longer takes up GPU memory"
   ]
  },
  {
   "cell_type": "markdown",
   "metadata": {},
   "source": [
    "### Object-based saving\n",
    "tfe.Checkpoint can save and restore tfe.Variables to and from checkpoints:"
   ]
  },
  {
   "cell_type": "code",
   "execution_count": 19,
   "metadata": {},
   "outputs": [
    {
     "name": "stdout",
     "output_type": "stream",
     "text": [
      "<tf.Variable 'Variable:0' shape=() dtype=float32, numpy=2.0>\n"
     ]
    }
   ],
   "source": [
    "x = tfe.Variable(10.)\n",
    "\n",
    "checkpoint = tfe.Checkpoint(x=x)  # save as \"x\"\n",
    "\n",
    "x.assign(2.)   # Assign a new value to the variables and save.\n",
    "save_path = checkpoint.save('./ckpt/')\n",
    "\n",
    "x.assign(11.)  # Change the variable after saving.\n",
    "\n",
    "# Restore values from the checkpoint\n",
    "checkpoint.restore(save_path)\n",
    "\n",
    "print(x)  # => 2.0"
   ]
  },
  {
   "cell_type": "markdown",
   "metadata": {},
   "source": [
    "To save and load models, tfe.Checkpoint stores the internal state of objects, without requiring hidden variables. To record the state of a model, an optimizer, and a global step, pass them to a tfe.Checkpoint:"
   ]
  },
  {
   "cell_type": "code",
   "execution_count": 25,
   "metadata": {},
   "outputs": [
    {
     "data": {
      "text/plain": [
       "<tensorflow.contrib.eager.python.checkpointable_utils.CheckpointLoadStatus at 0x2099b01cc88>"
      ]
     },
     "execution_count": 25,
     "metadata": {},
     "output_type": "execute_result"
    }
   ],
   "source": [
    "import os\n",
    "\n",
    "model = Model()\n",
    "optimizer = tf.train.AdamOptimizer(learning_rate=0.001)\n",
    "checkpoint_dir = 'ckpt'\n",
    "checkpoint_prefix = os.path.join(checkpoint_dir, \"ckpt\")\n",
    "root = tfe.Checkpoint(optimizer=optimizer,\n",
    "                      model=model,\n",
    "                      optimizer_step=tf.train.get_or_create_global_step())\n",
    "\n",
    "root.save(file_prefix=checkpoint_prefix)\n",
    "# or\n",
    "root.restore(tf.train.latest_checkpoint(checkpoint_dir))"
   ]
  },
  {
   "cell_type": "markdown",
   "metadata": {},
   "source": [
    "### Object-oriented metrics\n",
    "tfe.metrics are stored as objects. Update a metric by passing the new data to the callable, and retrieve the result using the tfe.metrics.result method, for example:"
   ]
  },
  {
   "cell_type": "code",
   "execution_count": 26,
   "metadata": {},
   "outputs": [
    {
     "data": {
      "text/plain": [
       "<tf.Tensor: id=1183647, shape=(), dtype=float64, numpy=5.5>"
      ]
     },
     "execution_count": 26,
     "metadata": {},
     "output_type": "execute_result"
    }
   ],
   "source": [
    "m = tfe.metrics.Mean(\"loss\")\n",
    "m(0)\n",
    "m(5)\n",
    "m.result()  # => 2.5\n",
    "m([8, 9])\n",
    "m.result()  # => 5.5"
   ]
  },
  {
   "cell_type": "markdown",
   "metadata": {},
   "source": [
    "#### Summaries and TensorBoard\n",
    "[TensorBoard](https://tensorflow.google.cn/programmers_guide/summaries_and_tensorboard) is a visualization tool for understanding, debugging and optimizing the model training process. It uses summary events that are written while executing the program.\n",
    "\n",
    "[tf.contrib.summary](https://tensorflow.google.cn/api_docs/python/tf/contrib/summary) is compatible with both eager and graph execution environments. Summary operations, such as [tf.contrib.summary.scalar](https://tensorflow.google.cn/api_docs/python/tf/contrib/summary/scalar), are inserted during model construction. For example, to record summaries once every 100 global steps:"
   ]
  },
  {
   "cell_type": "code",
   "execution_count": null,
   "metadata": {},
   "outputs": [],
   "source": [
    "writer = tf.contrib.summary.create_file_writer('log')\n",
    "global_step=tf.train.get_or_create_global_step()  # return global step var\n",
    "\n",
    "writer.set_as_default()\n",
    "\n",
    "for _ in range(100):\n",
    "    global_step.assign_add(1)\n",
    "    # Must include a record_summaries method\n",
    "    with tf.contrib.summary.record_summaries_every_n_global_steps(100):\n",
    "        # your model code goes here\n",
    "        tf.contrib.summary.scalar('loss', loss)\n",
    "        ..."
   ]
  },
  {
   "cell_type": "markdown",
   "metadata": {},
   "source": [
    "## Advanced automatic differentiation topics\n",
    "### Dynamic models\n",
    "[tf.GradientTape](https://tensorflow.google.cn/api_docs/python/tf/GradientTape) can also be used in dynamic models. This example for a [backtracking line search](https://wikipedia.org/wiki/Backtracking_line_search) algorithm looks like normal NumPy code, except there are gradients and is differentiable, despite the complex control flow:"
   ]
  },
  {
   "cell_type": "code",
   "execution_count": 29,
   "metadata": {
    "collapsed": true
   },
   "outputs": [],
   "source": [
    "def line_search_step(fn, init_x, rate=1.0):\n",
    "  with tf.GradientTape() as tape:\n",
    "    # Variables are automatically recorded, but manually watch a tensor\n",
    "    tape.watch(init_x)\n",
    "    value = fn(init_x)\n",
    "  grad, = tape.gradient(value, [init_x])\n",
    "  grad_norm = tf.reduce_sum(grad * grad)\n",
    "  init_value = value\n",
    "  while value > init_value - rate * grad_norm:\n",
    "    x = init_x - rate * grad\n",
    "    value = fn(x)\n",
    "    rate /= 2.0\n",
    "  return x, value"
   ]
  },
  {
   "cell_type": "markdown",
   "metadata": {},
   "source": [
    "### Additional functions to compute gradients\n",
    "[tf.GradientTape](https://tensorflow.google.cn/api_docs/python/tf/GradientTape) is a powerful interface for computing gradients, but there is another [Autograd](https://github.com/HIPS/autograd)-style API available for automatic differentiation. These functions are useful if writing math code with only tensors and gradient functions, and without tfe.Variables:\n",
    "\n",
    "- tfe.gradients_function —Returns a function that computes the derivatives of its input function parameter with respect to its arguments. The input function parameter must return a scalar value. When the returned function is invoked, it returns a list of tf.Tensor objects: one element for each argument of the input function. Since anything of interest must be passed as a function parameter, this becomes unwieldy if there's a dependency on many trainable parameters.\n",
    "- tfe.value_and_gradients_function —Similar to tfe.gradients_function, but when the returned function is invoked, it returns the value from the input function in addition to the list of derivatives of the input function with respect to its arguments.\n",
    "\n",
    "In the following example, tfe.gradients_function takes the square function as an argument and returns a function that computes the partial derivatives of square with respect to its inputs. To calculate the derivative of square at 3, grad(3.0) returns 6."
   ]
  },
  {
   "cell_type": "code",
   "execution_count": 30,
   "metadata": {},
   "outputs": [
    {
     "data": {
      "text/plain": [
       "[<tf.Tensor: id=1184101, shape=(), dtype=float32, numpy=-1.0>]"
      ]
     },
     "execution_count": 30,
     "metadata": {},
     "output_type": "execute_result"
    }
   ],
   "source": [
    "def square(x):\n",
    "  return tf.multiply(x, x)\n",
    "\n",
    "grad = tfe.gradients_function(square)\n",
    "\n",
    "square(3.)  # => 9.0\n",
    "grad(3.)    # => [6.0]\n",
    "\n",
    "# The second-order derivative of square:\n",
    "gradgrad = tfe.gradients_function(lambda x: grad(x)[0])\n",
    "gradgrad(3.)  # => [2.0]\n",
    "\n",
    "# The third-order derivative is None:\n",
    "gradgradgrad = tfe.gradients_function(lambda x: gradgrad(x)[0])\n",
    "gradgradgrad(3.)  # => [None]\n",
    "\n",
    "\n",
    "# With flow control:\n",
    "def abs(x):\n",
    "  return x if x > 0. else -x\n",
    "\n",
    "grad = tfe.gradients_function(abs)\n",
    "\n",
    "grad(3.)   # => [1.0]\n",
    "grad(-3.)  # => [-1.0]"
   ]
  },
  {
   "cell_type": "markdown",
   "metadata": {},
   "source": [
    "### Custom gradients\n",
    "Custom gradients are an easy way to override gradients in eager and graph execution. Within the forward function, define the gradient with respect to the inputs, outputs, or intermediate results. For example, here's an easy way to clip the norm of the gradients in the backward pass:"
   ]
  },
  {
   "cell_type": "code",
   "execution_count": 31,
   "metadata": {
    "collapsed": true
   },
   "outputs": [],
   "source": [
    "@tf.custom_gradient\n",
    "def clip_gradient_by_norm(x, norm):\n",
    "  y = tf.identity(x)\n",
    "  def grad_fn(dresult):\n",
    "    return [tf.clip_by_norm(dresult, norm), None]\n",
    "  return y, grad_fn"
   ]
  },
  {
   "cell_type": "markdown",
   "metadata": {},
   "source": [
    "Custom gradients are commonly used to provide a numerically stable gradient for a sequence of operations:"
   ]
  },
  {
   "cell_type": "code",
   "execution_count": 32,
   "metadata": {},
   "outputs": [
    {
     "data": {
      "text/plain": [
       "[<tf.Tensor: id=1184118, shape=(), dtype=float32, numpy=nan>]"
      ]
     },
     "execution_count": 32,
     "metadata": {},
     "output_type": "execute_result"
    }
   ],
   "source": [
    "def log1pexp(x):\n",
    "  return tf.log(1 + tf.exp(x))\n",
    "grad_log1pexp = tfe.gradients_function(log1pexp)\n",
    "\n",
    "# The gradient computation works fine at x = 0.\n",
    "grad_log1pexp(0.)  # => [0.5]\n",
    "\n",
    "# However, x = 100 fails because of numerical instability.\n",
    "grad_log1pexp(100.)  # => [nan]"
   ]
  },
  {
   "cell_type": "markdown",
   "metadata": {},
   "source": [
    "Here, the log1pexp function can be analytically simplified with a custom gradient. The implementation below reuses the value for tf.exp(x) that is computed during the forward pass—making it more efficient by eliminating redundant calculations:"
   ]
  },
  {
   "cell_type": "code",
   "execution_count": 33,
   "metadata": {},
   "outputs": [
    {
     "data": {
      "text/plain": [
       "[<tf.Tensor: id=1184137, shape=(), dtype=float32, numpy=1.0>]"
      ]
     },
     "execution_count": 33,
     "metadata": {},
     "output_type": "execute_result"
    }
   ],
   "source": [
    "@tf.custom_gradient\n",
    "def log1pexp(x):\n",
    "  e = tf.exp(x)\n",
    "  def grad(dy):\n",
    "    return dy * (1 - 1 / (1 + e))\n",
    "  return tf.log(1 + e), grad\n",
    "\n",
    "grad_log1pexp = tfe.gradients_function(log1pexp)\n",
    "\n",
    "# As before, the gradient computation works fine at x = 0.\n",
    "grad_log1pexp(0.)  # => [0.5]\n",
    "\n",
    "# And the gradient computation also works at x = 100.\n",
    "grad_log1pexp(100.)  # => [1.0]"
   ]
  },
  {
   "cell_type": "markdown",
   "metadata": {},
   "source": [
    "## Performance\n",
    "Computation is automatically offloaded to GPUs during eager execution. If you want control over where a computation runs you can enclose it in a tf.device('/gpu:0') block (or the CPU equivalent):"
   ]
  },
  {
   "cell_type": "code",
   "execution_count": 34,
   "metadata": {},
   "outputs": [
    {
     "name": "stdout",
     "output_type": "stream",
     "text": [
      "Time to multiply a (1000, 1000) matrix by itself 200 times:\n",
      "CPU: 7.897470235824585 secs\n",
      "GPU: not found\n"
     ]
    }
   ],
   "source": [
    "import time\n",
    "\n",
    "def measure(x, steps):\n",
    "  # TensorFlow initializes a GPU the first time it's used, exclude from timing.\n",
    "  tf.matmul(x, x)\n",
    "  start = time.time()\n",
    "  for i in range(steps):\n",
    "    x = tf.matmul(x, x)\n",
    "    _ = x.numpy()  # Make sure to execute op and not just enqueue it\n",
    "  end = time.time()\n",
    "  return end - start\n",
    "\n",
    "shape = (1000, 1000)\n",
    "steps = 200\n",
    "print(\"Time to multiply a {} matrix by itself {} times:\".format(shape, steps))\n",
    "\n",
    "# Run on CPU:\n",
    "with tf.device(\"/cpu:0\"):\n",
    "  print(\"CPU: {} secs\".format(measure(tf.random_normal(shape), steps)))\n",
    "\n",
    "# Run on GPU, if available:\n",
    "if tfe.num_gpus() > 0:\n",
    "  with tf.device(\"/gpu:0\"):\n",
    "    print(\"GPU: {} secs\".format(measure(tf.random_normal(shape), steps)))\n",
    "else:\n",
    "  print(\"GPU: not found\")"
   ]
  },
  {
   "cell_type": "markdown",
   "metadata": {},
   "source": [
    "A [tf.Tensor](https://tensorflow.google.cn/api_docs/python/tf/Tensor) object can be copied to a different device to execute its operations:"
   ]
  },
  {
   "cell_type": "code",
   "execution_count": null,
   "metadata": {},
   "outputs": [],
   "source": [
    "x = tf.random_normal([10, 10])\n",
    "\n",
    "x_gpu0 = x.gpu()\n",
    "x_cpu = x.cpu()\n",
    "\n",
    "_ = tf.matmul(x_cpu, x_cpu)    # Runs on CPU\n",
    "_ = tf.matmul(x_gpu0, x_gpu0)  # Runs on GPU:0\n",
    "\n",
    "if tfe.num_gpus() > 1:\n",
    "  x_gpu1 = x.gpu(1)\n",
    "  _ = tf.matmul(x_gpu1, x_gpu1)  # Runs on GPU:1"
   ]
  },
  {
   "cell_type": "markdown",
   "metadata": {},
   "source": [
    "### Benchmarks\n",
    "For compute-heavy models, such as ResNet50 training on a GPU, eager execution performance is comparable to graph execution. But this gap grows larger for models with less computation and there is work to be done for optimizing hot code paths for models with lots of small operations.\n",
    "\n",
    "## Work with graphs\n",
    "While eager execution makes development and debugging more interactive, TensorFlow graph execution has advantages for distributed training, performance optimizations, and production deployment. However, writing graph code can feel different than writing regular Python code and more difficult to debug.\n",
    "\n",
    "For building and training graph-constructed models, the Python program first builds a graph representing the computation, then invokes Session.run to send the graph for execution on the C++-based runtime. This provides:\n",
    "\n",
    "- Automatic differentiation using static autodiff.\n",
    "- Simple deployment to a platform independent server.\n",
    "- Graph-based optimizations (common subexpression elimination, constant-folding, etc.).\n",
    "- Compilation and kernel fusion.\n",
    "- Automatic distribution and replication (placing nodes on the distributed system).\n",
    "\n",
    "Deploying code written for eager execution is more difficult: either generate a graph from the model, or run the Python runtime and code directly on the server.\n",
    "\n",
    "### Write compatible code\n",
    "The same code written for eager execution will also build a graph during graph execution. Do this by simply running the same code in a new Python session where eager execution is not enabled.\n",
    "\n",
    "Most TensorFlow operations work during eager execution, but there are some things to keep in mind:\n",
    "\n",
    "- Use tf.data for input processing instead of queues. It's faster and easier.\n",
    "- Use object-oriented layer APIs—like tf.keras.layers and tf.keras.Model—since they have explicit storage for variables.\n",
    "- Most model code works the same during eager and graph execution, but there are exceptions. (For example, dynamic models using Python control flow to change the computation based on inputs.)\n",
    "- Once eager execution is enabled with tf.enable_eager_execution, it cannot be turned off. Start a new Python session to return to graph execution.\n",
    "\n",
    "It's best to write code for both eager execution and graph execution. This gives you eager's interactive experimentation and debuggability with the distributed performance benefits of graph execution.\n",
    "\n",
    "Write, debug, and iterate in eager execution, then import the model graph for production deployment. Use tfe.Checkpoint to save and restore model variables, this allows movement between eager and graph execution environments. See the examples in: tensorflow/contrib/eager/python/examples.\n",
    "\n",
    "### Use eager execution in a graph environment\n",
    "Selectively enable eager execution in a TensorFlow graph environment using tfe.py_func. This is used when tf.enable_eager_execution() has not been called."
   ]
  },
  {
   "cell_type": "code",
   "execution_count": null,
   "metadata": {
    "collapsed": true
   },
   "outputs": [],
   "source": [
    "def my_py_func(x):\n",
    "  x = tf.matmul(x, x)  # You can use tf ops\n",
    "  print(x)  # but it's eager!\n",
    "  return x\n",
    "\n",
    "with tf.Session() as sess:\n",
    "  x = tf.placeholder(dtype=tf.float32)\n",
    "  # Call eager function in graph!\n",
    "  pf = tfe.py_func(my_py_func, [x], tf.float32)\n",
    "  sess.run(pf, feed_dict={x: [[2.0]]})  # [[4.0]]"
   ]
  }
 ],
 "metadata": {
  "kernelspec": {
   "display_name": "Python 3",
   "language": "python",
   "name": "python3"
  },
  "language_info": {
   "codemirror_mode": {
    "name": "ipython",
    "version": 3
   },
   "file_extension": ".py",
   "mimetype": "text/x-python",
   "name": "python",
   "nbconvert_exporter": "python",
   "pygments_lexer": "ipython3",
   "version": "3.6.1"
  }
 },
 "nbformat": 4,
 "nbformat_minor": 2
}
